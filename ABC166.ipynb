{
 "cells": [
  {
   "cell_type": "code",
   "execution_count": 1,
   "metadata": {
    "ExecuteTime": {
     "end_time": "2020-05-03T13:13:12.428329Z",
     "start_time": "2020-05-03T13:13:12.395922Z"
    }
   },
   "outputs": [
    {
     "data": {
      "application/vnd.jupyter.widget-view+json": {
       "model_id": "462e5ba29c1d47a994262ea09165b675",
       "version_major": 2,
       "version_minor": 0
      },
      "text/plain": [
       "Textarea(value='')"
      ]
     },
     "metadata": {},
     "output_type": "display_data"
    }
   ],
   "source": [
    "from ipywidgets import Textarea\n",
    "import io\n",
    "\n",
    "if 'input' in globals():\n",
    "    del input\n",
    "\n",
    "class custom_input():\n",
    "    def __init__(self):\n",
    "        self.__sio = io.StringIO('')\n",
    "        self.shell = get_ipython()\n",
    "        if self.shell.events.callbacks['pre_run_cell'] != []:\n",
    "            self.shell.events.callbacks['pre_run_cell'] = []\n",
    "        self.shell.events.register('pre_run_cell', self.pre_run_cell)\n",
    "\n",
    "    def __call__(self):\n",
    "        return self.__sio.readline().strip()\n",
    "\n",
    "    def pre_run_cell(self, info):\n",
    "        text = self.shell.user_ns.get('text_area', None).value\n",
    "        self.__sio = io.StringIO(text)\n",
    "input = custom_input()\n",
    "\n",
    "text_area = Textarea()\n",
    "display(text_area)"
   ]
  },
  {
   "cell_type": "raw",
   "metadata": {},
   "source": [
    "a = list(map(int, input().split()))\n",
    "a = int(input())"
   ]
  },
  {
   "cell_type": "code",
   "execution_count": null,
   "metadata": {},
   "outputs": [],
   "source": [
    "!git add * && git commit -m \"abc166\" && git push"
   ]
  },
  {
   "cell_type": "markdown",
   "metadata": {},
   "source": [
    "## E"
   ]
  },
  {
   "cell_type": "code",
   "execution_count": 4,
   "metadata": {
    "ExecuteTime": {
     "end_time": "2020-05-03T13:13:22.165032Z",
     "start_time": "2020-05-03T13:13:22.152321Z"
    }
   },
   "outputs": [
    {
     "name": "stdout",
     "output_type": "stream",
     "text": [
      "0\n"
     ]
    }
   ],
   "source": [
    "# %%time\n",
    "n = int(input())\n",
    "a = list(map(int, input().split()))\n",
    "\n",
    "# n = 10000\n",
    "# a = np.random.randint(1, 1000, n)\n",
    "\n",
    "import numpy as np\n",
    "from collections import Counter\n",
    "\n",
    "a = np.array(a)\n",
    "ap = a + np.arange(n)\n",
    "am = a - np.arange(n)\n",
    "am = -am\n",
    "\n",
    "c = Counter(am)\n",
    "\n",
    "s = 0\n",
    "for k in range(n):\n",
    "    s += c[ap[k]]\n",
    "    c[am[k]] -= 1\n",
    "\n",
    "print(s)"
   ]
  },
  {
   "cell_type": "code",
   "execution_count": null,
   "metadata": {},
   "outputs": [],
   "source": []
  },
  {
   "cell_type": "code",
   "execution_count": null,
   "metadata": {},
   "outputs": [],
   "source": []
  },
  {
   "cell_type": "markdown",
   "metadata": {},
   "source": [
    "## D"
   ]
  },
  {
   "cell_type": "code",
   "execution_count": 11,
   "metadata": {
    "ExecuteTime": {
     "end_time": "2020-05-03T12:27:16.936185Z",
     "start_time": "2020-05-03T12:27:16.920332Z"
    }
   },
   "outputs": [],
   "source": [
    "\n",
    "def factorize(n):\n",
    "    ## 素因数分解\n",
    "    # arr = factorize(20)\n",
    "    # arr == [[2, 2], [5, 1]]\n",
    "    \n",
    "    result = []\n",
    "    tmp = n\n",
    "    for k in range(2, int(n ** 0.5) + 1):\n",
    "        cnt = 0\n",
    "        while tmp % k == 0:\n",
    "            cnt += 1\n",
    "            tmp //= k\n",
    "        if cnt > 0:\n",
    "            result.append([k, cnt])\n",
    "    if tmp != 1:\n",
    "        result.append([tmp, 1])\n",
    "    return result\n",
    "\n",
    "def divisorize(n):\n",
    "    ## 約数\n",
    "    # arr = factorize(20)\n",
    "    # arr == [2, 4, 5, 10, 20]\n",
    "    f = factorize(n)\n",
    "    divisors = [1]\n",
    "    for k in range(len(f)):\n",
    "        num_divisors = len(divisors)\n",
    "        for i in range(1, f[k][1] + 1):\n",
    "            for j in range(num_divisors):\n",
    "                divisors.append(divisors[j] * f[k][0] ** i)\n",
    "    return sorted(divisors)\n",
    "\n",
    "x = int(input())\n",
    "a = 0\n",
    "d = divisorize(x)\n",
    "flg = False\n",
    "while True:\n",
    "    for dd in d:\n",
    "        b = a - dd\n",
    "#         print(a, dd, b)\n",
    "        try:\n",
    "            if a ** 5 - b ** 5 == x:\n",
    "                flg = True\n",
    "                break\n",
    "        except:\n",
    "            pass\n",
    "    if flg:\n",
    "        break\n",
    "    a += 1\n",
    "print(a, b)"
   ]
  },
  {
   "cell_type": "code",
   "execution_count": null,
   "metadata": {},
   "outputs": [],
   "source": []
  },
  {
   "cell_type": "code",
   "execution_count": null,
   "metadata": {},
   "outputs": [],
   "source": []
  },
  {
   "cell_type": "code",
   "execution_count": null,
   "metadata": {},
   "outputs": [],
   "source": []
  },
  {
   "cell_type": "code",
   "execution_count": null,
   "metadata": {},
   "outputs": [],
   "source": []
  },
  {
   "cell_type": "markdown",
   "metadata": {},
   "source": [
    "## C"
   ]
  },
  {
   "cell_type": "code",
   "execution_count": 16,
   "metadata": {
    "ExecuteTime": {
     "end_time": "2020-05-03T12:06:19.852553Z",
     "start_time": "2020-05-03T12:06:19.831788Z"
    }
   },
   "outputs": [
    {
     "name": "stdout",
     "output_type": "stream",
     "text": [
      "3\n"
     ]
    }
   ],
   "source": [
    "n, m = list(map(int, input().split()))\n",
    "h = list(map(int, input().split()))\n",
    "bests = [1] * n\n",
    "for k in range(m):\n",
    "    a, b = list(map(int, input().split()))\n",
    "    if h[a -1] > h[b - 1]:\n",
    "        bests[b - 1] = 0\n",
    "    elif h[a -1] < h[b - 1]:\n",
    "        bests[a - 1] = 0\n",
    "    else:\n",
    "        bests[a - 1] = 0\n",
    "        bests[b - 1] = 0\n",
    "print(sum(bests))"
   ]
  },
  {
   "cell_type": "code",
   "execution_count": null,
   "metadata": {},
   "outputs": [],
   "source": []
  },
  {
   "cell_type": "code",
   "execution_count": null,
   "metadata": {},
   "outputs": [],
   "source": []
  },
  {
   "cell_type": "markdown",
   "metadata": {},
   "source": [
    "## B"
   ]
  },
  {
   "cell_type": "code",
   "execution_count": 11,
   "metadata": {
    "ExecuteTime": {
     "end_time": "2020-05-03T12:03:07.031955Z",
     "start_time": "2020-05-03T12:03:07.020452Z"
    }
   },
   "outputs": [
    {
     "name": "stdout",
     "output_type": "stream",
     "text": [
      "2\n"
     ]
    }
   ],
   "source": [
    "n, k = list(map(int, input().split()))\n",
    "a = [0] * n\n",
    "for i in range(k):\n",
    "    _ = input()\n",
    "    aa = list(map(int, input().split()))\n",
    "    for aaa in aa:\n",
    "        a[aaa - 1] += 1\n",
    "s = 0\n",
    "for i in range(n):\n",
    "    if a[i] == 0:\n",
    "        s+=1\n",
    "print(s)"
   ]
  },
  {
   "cell_type": "code",
   "execution_count": null,
   "metadata": {},
   "outputs": [],
   "source": []
  },
  {
   "cell_type": "code",
   "execution_count": null,
   "metadata": {},
   "outputs": [],
   "source": []
  },
  {
   "cell_type": "markdown",
   "metadata": {},
   "source": [
    "## A"
   ]
  },
  {
   "cell_type": "code",
   "execution_count": 4,
   "metadata": {
    "ExecuteTime": {
     "end_time": "2020-05-03T12:00:54.247022Z",
     "start_time": "2020-05-03T12:00:54.240280Z"
    }
   },
   "outputs": [
    {
     "name": "stdout",
     "output_type": "stream",
     "text": [
      "ABC\n"
     ]
    }
   ],
   "source": [
    "s = input()\n",
    "\n",
    "if s == \"ABC\":\n",
    "    print(\"ARC\")\n",
    "else:\n",
    "    print(\"ABC\")"
   ]
  },
  {
   "cell_type": "code",
   "execution_count": null,
   "metadata": {},
   "outputs": [],
   "source": []
  },
  {
   "cell_type": "code",
   "execution_count": null,
   "metadata": {},
   "outputs": [],
   "source": []
  }
 ],
 "metadata": {
  "hide_input": false,
  "kernelspec": {
   "display_name": "Python 3",
   "language": "python",
   "name": "python3"
  },
  "language_info": {
   "codemirror_mode": {
    "name": "ipython",
    "version": 3
   },
   "file_extension": ".py",
   "mimetype": "text/x-python",
   "name": "python",
   "nbconvert_exporter": "python",
   "pygments_lexer": "ipython3",
   "version": "3.7.3"
  },
  "toc": {
   "base_numbering": 1,
   "nav_menu": {},
   "number_sections": true,
   "sideBar": true,
   "skip_h1_title": false,
   "title_cell": "Table of Contents",
   "title_sidebar": "Contents",
   "toc_cell": false,
   "toc_position": {},
   "toc_section_display": true,
   "toc_window_display": false
  }
 },
 "nbformat": 4,
 "nbformat_minor": 2
}
