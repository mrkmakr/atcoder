{
 "cells": [
  {
   "cell_type": "code",
   "execution_count": 1,
   "metadata": {
    "ExecuteTime": {
     "end_time": "2020-04-16T13:31:55.490955Z",
     "start_time": "2020-04-16T13:31:55.448947Z"
    }
   },
   "outputs": [
    {
     "data": {
      "application/vnd.jupyter.widget-view+json": {
       "model_id": "d31f79a79e5244d28cdcee20e4f7bbaa",
       "version_major": 2,
       "version_minor": 0
      },
      "text/plain": [
       "Textarea(value='')"
      ]
     },
     "metadata": {},
     "output_type": "display_data"
    }
   ],
   "source": [
    "from ipywidgets import Textarea\n",
    "import io\n",
    "\n",
    "if 'input' in globals():\n",
    "    del input\n",
    "\n",
    "class custom_input():\n",
    "    def __init__(self):\n",
    "        self.__sio = io.StringIO('')\n",
    "        self.shell = get_ipython()\n",
    "        if self.shell.events.callbacks['pre_run_cell'] != []:\n",
    "            self.shell.events.callbacks['pre_run_cell'] = []\n",
    "        self.shell.events.register('pre_run_cell', self.pre_run_cell)\n",
    "\n",
    "    def __call__(self):\n",
    "        return self.__sio.readline().strip()\n",
    "\n",
    "    def pre_run_cell(self, info):\n",
    "        text = self.shell.user_ns.get('text_area', None).value\n",
    "        self.__sio = io.StringIO(text)\n",
    "input = custom_input()\n",
    "\n",
    "text_area = Textarea()\n",
    "display(text_area)"
   ]
  },
  {
   "cell_type": "code",
   "execution_count": null,
   "metadata": {},
   "outputs": [],
   "source": []
  },
  {
   "cell_type": "markdown",
   "metadata": {},
   "source": [
    "# D"
   ]
  },
  {
   "cell_type": "code",
   "execution_count": 34,
   "metadata": {
    "ExecuteTime": {
     "end_time": "2020-04-16T13:34:47.713045Z",
     "start_time": "2020-04-16T13:34:47.701341Z"
    }
   },
   "outputs": [],
   "source": [
    "\n",
    "def factorize(n):\n",
    "    ## 素因数分解\n",
    "    # arr = factorize(20)\n",
    "    # arr == [[2, 2], [5, 1]]\n",
    "    \n",
    "    result = []\n",
    "    tmp = n\n",
    "    for k in range(2, int(n ** 0.5) + 1):\n",
    "        cnt = 0\n",
    "        while tmp % k == 0:\n",
    "            cnt += 1\n",
    "            tmp //= k\n",
    "        if cnt > 0:\n",
    "            result.append([k, cnt])\n",
    "    if tmp != 1:\n",
    "        result.append([tmp, 1])\n",
    "    return result\n",
    "\n",
    "def divisorize(n):\n",
    "    ## 約数\n",
    "    # arr = factorize(20)\n",
    "    # arr == [2, 4, 5, 10, 20]\n",
    "    f = factorize(n)\n",
    "    divisors = [1]\n",
    "    for k in range(len(f)):\n",
    "        num_divisors = len(divisors)\n",
    "        for i in range(1, f[k][1] + 1):\n",
    "            for j in range(num_divisors):\n",
    "                divisors.append(divisors[j] * f[k][0] ** i)\n",
    "    return sorted(divisors)"
   ]
  },
  {
   "cell_type": "code",
   "execution_count": 39,
   "metadata": {
    "ExecuteTime": {
     "end_time": "2020-04-16T13:35:14.878860Z",
     "start_time": "2020-04-16T13:35:14.867119Z"
    }
   },
   "outputs": [
    {
     "name": "stdout",
     "output_type": "stream",
     "text": [
      "4\n"
     ]
    }
   ],
   "source": [
    "a, b = list(map(int, input().split()))\n",
    "\n",
    "da = factorize(a)\n",
    "da = [1] + [k[0] for k in da]\n",
    "\n",
    "db = factorize(b)\n",
    "db = [1] + [k[0] for k in db]\n",
    "\n",
    "i = set(da).intersection(db)\n",
    "\n",
    "print(len(i))"
   ]
  },
  {
   "cell_type": "code",
   "execution_count": null,
   "metadata": {},
   "outputs": [],
   "source": []
  },
  {
   "cell_type": "code",
   "execution_count": null,
   "metadata": {},
   "outputs": [],
   "source": []
  },
  {
   "cell_type": "code",
   "execution_count": null,
   "metadata": {},
   "outputs": [],
   "source": []
  },
  {
   "cell_type": "code",
   "execution_count": null,
   "metadata": {},
   "outputs": [],
   "source": []
  },
  {
   "cell_type": "code",
   "execution_count": null,
   "metadata": {},
   "outputs": [],
   "source": []
  },
  {
   "cell_type": "markdown",
   "metadata": {},
   "source": [
    "# C"
   ]
  },
  {
   "cell_type": "code",
   "execution_count": 9,
   "metadata": {
    "ExecuteTime": {
     "end_time": "2020-04-14T14:54:53.684053Z",
     "start_time": "2020-04-14T14:54:53.674515Z"
    }
   },
   "outputs": [
    {
     "name": "stdout",
     "output_type": "stream",
     "text": [
      "8 2 4 5 6 7 3 1\n"
     ]
    }
   ],
   "source": [
    "n = int(input())\n",
    "a = list(map(int, input().split()))\n",
    "import numpy as np\n",
    "print(\" \".join(map(str, list(np.argsort(a) + 1))))"
   ]
  },
  {
   "cell_type": "code",
   "execution_count": null,
   "metadata": {},
   "outputs": [],
   "source": []
  },
  {
   "cell_type": "code",
   "execution_count": null,
   "metadata": {},
   "outputs": [],
   "source": []
  }
 ],
 "metadata": {
  "hide_input": false,
  "kernelspec": {
   "display_name": "Python 3",
   "language": "python",
   "name": "python3"
  },
  "language_info": {
   "codemirror_mode": {
    "name": "ipython",
    "version": 3
   },
   "file_extension": ".py",
   "mimetype": "text/x-python",
   "name": "python",
   "nbconvert_exporter": "python",
   "pygments_lexer": "ipython3",
   "version": "3.7.3"
  },
  "toc": {
   "base_numbering": 1,
   "nav_menu": {},
   "number_sections": true,
   "sideBar": true,
   "skip_h1_title": false,
   "title_cell": "Table of Contents",
   "title_sidebar": "Contents",
   "toc_cell": false,
   "toc_position": {},
   "toc_section_display": true,
   "toc_window_display": false
  }
 },
 "nbformat": 4,
 "nbformat_minor": 2
}
