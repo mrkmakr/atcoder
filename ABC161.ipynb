{
 "cells": [
  {
   "cell_type": "code",
   "execution_count": 593,
   "metadata": {
    "ExecuteTime": {
     "end_time": "2020-04-04T16:38:57.678803Z",
     "start_time": "2020-04-04T16:38:57.651614Z"
    }
   },
   "outputs": [
    {
     "data": {
      "application/vnd.jupyter.widget-view+json": {
       "model_id": "0653ad8df59647acb9612da75e7d29ef",
       "version_major": 2,
       "version_minor": 0
      },
      "text/plain": [
       "Textarea(value='')"
      ]
     },
     "metadata": {},
     "output_type": "display_data"
    }
   ],
   "source": [
    "from ipywidgets import Textarea\n",
    "import io\n",
    "\n",
    "if 'input' in globals():\n",
    "    del input\n",
    "\n",
    "class custom_input():\n",
    "    def __init__(self):\n",
    "        self.__sio = io.StringIO('')\n",
    "        self.shell = get_ipython()\n",
    "        if self.shell.events.callbacks['pre_run_cell'] != []:\n",
    "            self.shell.events.callbacks['pre_run_cell'] = []\n",
    "        self.shell.events.register('pre_run_cell', self.pre_run_cell)\n",
    "\n",
    "    def __call__(self):\n",
    "        return self.__sio.readline().strip()\n",
    "\n",
    "    def pre_run_cell(self, info):\n",
    "        text = self.shell.user_ns.get('text_area', None).value\n",
    "        self.__sio = io.StringIO(text)\n",
    "input = custom_input()\n",
    "\n",
    "text_area = Textarea()\n",
    "display(text_area)"
   ]
  },
  {
   "cell_type": "raw",
   "metadata": {},
   "source": [
    "a = list(map(int, input().split()))\n",
    "a = int(input())"
   ]
  },
  {
   "cell_type": "markdown",
   "metadata": {},
   "source": [
    "# E"
   ]
  },
  {
   "cell_type": "code",
   "execution_count": 618,
   "metadata": {
    "ExecuteTime": {
     "end_time": "2020-04-04T16:54:06.504231Z",
     "start_time": "2020-04-04T16:54:06.489350Z"
    }
   },
   "outputs": [],
   "source": [
    "n, k, c = list(map(int, input().split()))\n",
    "s = input()\n",
    "\n",
    "left = []\n",
    "last = -c-1\n",
    "for i in range(n):\n",
    "    if s[i] == \"o\":\n",
    "        if last + c < i:\n",
    "            left.append(i)\n",
    "            last = i\n",
    "            if len(left) == k:\n",
    "                break\n",
    "            \n",
    "right = []\n",
    "last = n + c\n",
    "for i in range(n)[::-1]:\n",
    "    if s[i] == \"o\":\n",
    "        if last - c > i:\n",
    "            right.append(i)\n",
    "            last = i\n",
    "            if len(right) == k:\n",
    "                break\n",
    "\n",
    "right = right[::-1]\n",
    "\n",
    "for i in range(k):\n",
    "    if right[i] == left[i]:\n",
    "        print(right[i] + 1)"
   ]
  },
  {
   "cell_type": "code",
   "execution_count": null,
   "metadata": {},
   "outputs": [],
   "source": []
  },
  {
   "cell_type": "code",
   "execution_count": null,
   "metadata": {},
   "outputs": [],
   "source": []
  },
  {
   "cell_type": "code",
   "execution_count": null,
   "metadata": {},
   "outputs": [],
   "source": []
  },
  {
   "cell_type": "code",
   "execution_count": null,
   "metadata": {},
   "outputs": [],
   "source": []
  },
  {
   "cell_type": "markdown",
   "metadata": {},
   "source": [
    "# D"
   ]
  },
  {
   "cell_type": "markdown",
   "metadata": {},
   "source": [
    "### 解説読んで書き直したコード"
   ]
  },
  {
   "cell_type": "code",
   "execution_count": 591,
   "metadata": {
    "ExecuteTime": {
     "end_time": "2020-04-04T14:13:50.154287Z",
     "start_time": "2020-04-04T14:13:50.018428Z"
    }
   },
   "outputs": [
    {
     "name": "stdout",
     "output_type": "stream",
     "text": [
      "3234566667\n"
     ]
    }
   ],
   "source": [
    "from collections import deque\n",
    "k = int(input())\n",
    "d = deque()\n",
    "d += [1,2,3,4,5,6,7,8,9]\n",
    "for i in range(k):\n",
    "#     print(d, now)\n",
    "    now = d.popleft()\n",
    "    if now%10 != 0:\n",
    "        d.append(10 * now + now % 10 - 1)\n",
    "    d.append(10 * now + now % 10)\n",
    "    if now%10 != 9:\n",
    "        d.append(10 * now + now % 10 + 1)\n",
    "print(now)"
   ]
  },
  {
   "cell_type": "markdown",
   "metadata": {},
   "source": [
    "### ACしたけどゴミコード"
   ]
  },
  {
   "cell_type": "code",
   "execution_count": 579,
   "metadata": {
    "ExecuteTime": {
     "end_time": "2020-04-04T14:01:08.157976Z",
     "start_time": "2020-04-04T14:01:08.131296Z"
    }
   },
   "outputs": [
    {
     "name": "stdout",
     "output_type": "stream",
     "text": [
      "110112\n"
     ]
    }
   ],
   "source": [
    "import numpy as np\n",
    "k = int(input()) - 1\n",
    "k = 1000\n",
    "if len(str(k)) == 1:\n",
    "    print(k + 1)\n",
    "else:\n",
    "\n",
    "    jjj = 0\n",
    "    ans = [0]\n",
    "\n",
    "    num = 0\n",
    "    dps = []\n",
    "    dp = [1] * 10\n",
    "    dp[0] = 0\n",
    "\n",
    "    flag = False\n",
    "    for i in range(len(dp)):\n",
    "        num += dp[i]\n",
    "        if num > k:\n",
    "            flag = True\n",
    "            break\n",
    "\n",
    "    dp[0] = 1\n",
    "    dps.append(dp)\n",
    "\n",
    "    flag = False\n",
    "    while True:\n",
    "        dp = [0] * 10\n",
    "        dp[0] = 0\n",
    "        for i in range(1, 9):\n",
    "            dp[i] = sum(dps[-1][i - 1 : i + 2])\n",
    "        dp[9] = dps[-1][8] + dps[-1][9]\n",
    "\n",
    "\n",
    "        for i in range(len(dp)):\n",
    "            num += dp[i]\n",
    "            if num > k:\n",
    "                flag = True\n",
    "            if flag:\n",
    "                num -= dp[i]\n",
    "                break\n",
    "        if flag:\n",
    "            break\n",
    "        dp[0] = dps[-1][0] + dps[-1][1]\n",
    "        dps.append(dp)\n",
    "\n",
    "    ans = [i]\n",
    "    k = k - num\n",
    "    jjj += 1\n",
    "\n",
    "#     print(k)\n",
    "    try:\n",
    "        while True:\n",
    "#             print(k)\n",
    "            num = 0\n",
    "            ii = i\n",
    "            for i in range(max([ii - 1, 0]), ii + 2):\n",
    "            #     print(i)\n",
    "                if num + dps[-1][i]> k:\n",
    "                    break\n",
    "                else:\n",
    "                    num += dps[-1][i]\n",
    "\n",
    "            ans.append(i)\n",
    "            k -= num\n",
    "            dps = dps[:-1]\n",
    "#             print(k)\n",
    "            if k == 0 and len(dps) > 0:\n",
    "                aaa = i - 1\n",
    "                while True:    \n",
    "                    if aaa < 0 :\n",
    "                        aaa = 0\n",
    "                    ans += [aaa]\n",
    "                    aaa -= 1\n",
    "                    dps = dps[:-1]\n",
    "                    if len(dps) == 0:\n",
    "                        break\n",
    "                aaaaaa\n",
    "    except:\n",
    "        print(\"\".join(map(str, ans)))"
   ]
  },
  {
   "cell_type": "code",
   "execution_count": null,
   "metadata": {},
   "outputs": [],
   "source": []
  },
  {
   "cell_type": "code",
   "execution_count": null,
   "metadata": {},
   "outputs": [],
   "source": []
  },
  {
   "cell_type": "code",
   "execution_count": null,
   "metadata": {},
   "outputs": [],
   "source": []
  },
  {
   "cell_type": "code",
   "execution_count": null,
   "metadata": {},
   "outputs": [],
   "source": []
  },
  {
   "cell_type": "code",
   "execution_count": null,
   "metadata": {},
   "outputs": [],
   "source": []
  },
  {
   "cell_type": "markdown",
   "metadata": {},
   "source": [
    "# C"
   ]
  },
  {
   "cell_type": "code",
   "execution_count": 36,
   "metadata": {
    "ExecuteTime": {
     "end_time": "2020-04-04T12:07:08.487374Z",
     "start_time": "2020-04-04T12:07:08.479759Z"
    }
   },
   "outputs": [
    {
     "name": "stdout",
     "output_type": "stream",
     "text": [
      "0\n"
     ]
    }
   ],
   "source": [
    "n, k = list(map(int, input().split()))\n",
    "print(min([n%k, k - n%k]))"
   ]
  },
  {
   "cell_type": "code",
   "execution_count": null,
   "metadata": {},
   "outputs": [],
   "source": []
  },
  {
   "cell_type": "code",
   "execution_count": null,
   "metadata": {},
   "outputs": [],
   "source": []
  },
  {
   "cell_type": "markdown",
   "metadata": {},
   "source": [
    "# B"
   ]
  },
  {
   "cell_type": "code",
   "execution_count": 26,
   "metadata": {
    "ExecuteTime": {
     "end_time": "2020-04-04T12:05:18.129562Z",
     "start_time": "2020-04-04T12:05:18.118452Z"
    }
   },
   "outputs": [
    {
     "name": "stdout",
     "output_type": "stream",
     "text": [
      "Yes\n"
     ]
    }
   ],
   "source": [
    "import numpy as np\n",
    "n, m = list(map(int, input().split()))\n",
    "a = list(map(int, input().split()))\n",
    "if sum(np.array(a) >= sum(a)/4/m) >= m:\n",
    "    print(\"Yes\")\n",
    "else:\n",
    "    print(\"No\")"
   ]
  },
  {
   "cell_type": "code",
   "execution_count": null,
   "metadata": {},
   "outputs": [],
   "source": []
  },
  {
   "cell_type": "code",
   "execution_count": null,
   "metadata": {},
   "outputs": [],
   "source": []
  },
  {
   "cell_type": "code",
   "execution_count": null,
   "metadata": {},
   "outputs": [],
   "source": []
  },
  {
   "cell_type": "markdown",
   "metadata": {},
   "source": [
    "# A"
   ]
  },
  {
   "cell_type": "code",
   "execution_count": 7,
   "metadata": {
    "ExecuteTime": {
     "end_time": "2020-04-04T12:02:07.970419Z",
     "start_time": "2020-04-04T12:02:07.962668Z"
    }
   },
   "outputs": [
    {
     "name": "stdout",
     "output_type": "stream",
     "text": [
      "3 1 2\n"
     ]
    }
   ],
   "source": [
    "x, y, z = list(map(int, input().split()))\n",
    "print(z, x, y)"
   ]
  },
  {
   "cell_type": "code",
   "execution_count": null,
   "metadata": {},
   "outputs": [],
   "source": []
  }
 ],
 "metadata": {
  "hide_input": false,
  "kernelspec": {
   "display_name": "Python 3",
   "language": "python",
   "name": "python3"
  },
  "language_info": {
   "codemirror_mode": {
    "name": "ipython",
    "version": 3
   },
   "file_extension": ".py",
   "mimetype": "text/x-python",
   "name": "python",
   "nbconvert_exporter": "python",
   "pygments_lexer": "ipython3",
   "version": "3.7.3"
  },
  "toc": {
   "base_numbering": 1,
   "nav_menu": {},
   "number_sections": true,
   "sideBar": true,
   "skip_h1_title": false,
   "title_cell": "Table of Contents",
   "title_sidebar": "Contents",
   "toc_cell": false,
   "toc_position": {},
   "toc_section_display": true,
   "toc_window_display": false
  }
 },
 "nbformat": 4,
 "nbformat_minor": 2
}
