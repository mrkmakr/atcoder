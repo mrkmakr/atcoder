{
 "cells": [
  {
   "cell_type": "code",
   "execution_count": 1,
   "metadata": {
    "ExecuteTime": {
     "end_time": "2020-04-04T11:58:22.428456Z",
     "start_time": "2020-04-04T11:58:22.401443Z"
    }
   },
   "outputs": [
    {
     "data": {
      "application/vnd.jupyter.widget-view+json": {
       "model_id": "70ee497426c34ed580ca484bfde45c13",
       "version_major": 2,
       "version_minor": 0
      },
      "text/plain": [
       "Textarea(value='')"
      ]
     },
     "metadata": {},
     "output_type": "display_data"
    }
   ],
   "source": [
    "from ipywidgets import Textarea\n",
    "import io\n",
    "\n",
    "if 'input' in globals():\n",
    "    del input\n",
    "\n",
    "class custom_input():\n",
    "    def __init__(self):\n",
    "        self.__sio = io.StringIO('')\n",
    "        self.shell = get_ipython()\n",
    "        if self.shell.events.callbacks['pre_run_cell'] != []:\n",
    "            self.shell.events.callbacks['pre_run_cell'] = []\n",
    "        self.shell.events.register('pre_run_cell', self.pre_run_cell)\n",
    "\n",
    "    def __call__(self):\n",
    "        return self.__sio.readline().strip()\n",
    "\n",
    "    def pre_run_cell(self, info):\n",
    "        text = self.shell.user_ns.get('text_area', None).value\n",
    "        self.__sio = io.StringIO(text)\n",
    "input = custom_input()\n",
    "\n",
    "text_area = Textarea()\n",
    "display(text_area)"
   ]
  },
  {
   "cell_type": "raw",
   "metadata": {},
   "source": [
    "a = list(map(int, input().split()))\n",
    "a = int(input())"
   ]
  },
  {
   "cell_type": "code",
   "execution_count": null,
   "metadata": {},
   "outputs": [],
   "source": []
  },
  {
   "cell_type": "code",
   "execution_count": 538,
   "metadata": {
    "ExecuteTime": {
     "end_time": "2020-04-04T13:32:40.862098Z",
     "start_time": "2020-04-04T13:32:40.843952Z"
    }
   },
   "outputs": [
    {
     "data": {
      "text/plain": [
       "[2, 4, 8, 16, 32, 33]"
      ]
     },
     "execution_count": 538,
     "metadata": {},
     "output_type": "execute_result"
    }
   ],
   "source": [
    "n = 33\n",
    "\n",
    "a = []\n",
    "for i in range(2, n + 1):\n",
    "    nn = n\n",
    "    while True:\n",
    "        if nn < k:\n",
    "            break\n",
    "        if nn%i == 0:\n",
    "            nn = nn//i\n",
    "        else:\n",
    "            nn = nn - i\n",
    "    if nn == 1:\n",
    "        a.append(i)\n",
    "\n",
    "a"
   ]
  },
  {
   "cell_type": "code",
   "execution_count": 539,
   "metadata": {
    "ExecuteTime": {
     "end_time": "2020-04-04T13:32:41.056064Z",
     "start_time": "2020-04-04T13:32:41.050996Z"
    }
   },
   "outputs": [],
   "source": [
    "x = factorize(n - 1)"
   ]
  },
  {
   "cell_type": "code",
   "execution_count": 540,
   "metadata": {
    "ExecuteTime": {
     "end_time": "2020-04-04T13:32:41.343428Z",
     "start_time": "2020-04-04T13:32:41.329615Z"
    }
   },
   "outputs": [
    {
     "data": {
      "text/plain": [
       "6"
      ]
     },
     "execution_count": 540,
     "metadata": {},
     "output_type": "execute_result"
    }
   ],
   "source": [
    "b = 1\n",
    "for i in range(len(x)):\n",
    "    b *= (x[i][1] + 1)\n",
    "b"
   ]
  },
  {
   "cell_type": "code",
   "execution_count": 541,
   "metadata": {
    "ExecuteTime": {
     "end_time": "2020-04-04T13:32:41.542807Z",
     "start_time": "2020-04-04T13:32:41.533131Z"
    }
   },
   "outputs": [],
   "source": [
    "x = factorize(int(np.sqrt(n)))"
   ]
  },
  {
   "cell_type": "code",
   "execution_count": 542,
   "metadata": {
    "ExecuteTime": {
     "end_time": "2020-04-04T13:32:41.951120Z",
     "start_time": "2020-04-04T13:32:41.940601Z"
    }
   },
   "outputs": [
    {
     "data": {
      "text/plain": [
       "2"
      ]
     },
     "execution_count": 542,
     "metadata": {},
     "output_type": "execute_result"
    }
   ],
   "source": [
    "c = 1\n",
    "for i in range(len(x)):\n",
    "    c *= (x[i][1] + 1)\n",
    "c"
   ]
  },
  {
   "cell_type": "code",
   "execution_count": 544,
   "metadata": {
    "ExecuteTime": {
     "end_time": "2020-04-04T13:32:43.643807Z",
     "start_time": "2020-04-04T13:32:43.635518Z"
    }
   },
   "outputs": [
    {
     "data": {
      "text/plain": [
       "6"
      ]
     },
     "execution_count": 544,
     "metadata": {},
     "output_type": "execute_result"
    }
   ],
   "source": [
    "len(a)"
   ]
  },
  {
   "cell_type": "code",
   "execution_count": null,
   "metadata": {},
   "outputs": [],
   "source": []
  },
  {
   "cell_type": "code",
   "execution_count": 499,
   "metadata": {
    "ExecuteTime": {
     "end_time": "2020-04-04T13:29:48.966954Z",
     "start_time": "2020-04-04T13:29:48.959752Z"
    }
   },
   "outputs": [],
   "source": [
    "\n",
    "def factorize(n):\n",
    "    ## 素因数分解\n",
    "    # arr = factorize(20)\n",
    "    # arr == [[2, 2], [5, 1]]\n",
    "    \n",
    "    result = []\n",
    "    tmp = n\n",
    "    for k in range(2, int(n ** 0.5) + 1):\n",
    "        cnt = 0\n",
    "        while tmp % k == 0:\n",
    "            cnt += 1\n",
    "            tmp //= k\n",
    "        if cnt > 0:\n",
    "            result.append([k, cnt])\n",
    "    if tmp != 1:\n",
    "        result.append([tmp, 1])\n",
    "    return result"
   ]
  },
  {
   "cell_type": "code",
   "execution_count": null,
   "metadata": {},
   "outputs": [],
   "source": []
  },
  {
   "cell_type": "code",
   "execution_count": null,
   "metadata": {},
   "outputs": [],
   "source": []
  },
  {
   "cell_type": "markdown",
   "metadata": {},
   "source": [
    "# E"
   ]
  },
  {
   "cell_type": "code",
   "execution_count": 378,
   "metadata": {
    "ExecuteTime": {
     "end_time": "2020-04-04T13:03:23.902591Z",
     "start_time": "2020-04-04T13:03:23.894046Z"
    }
   },
   "outputs": [
    {
     "name": "stdout",
     "output_type": "stream",
     "text": [
      "[0 1 3 4]\n",
      "[False False False]\n"
     ]
    }
   ],
   "source": [
    "n, k, c = list(map(int, input().split()))\n",
    "s = input()\n",
    "import numpy as np\n",
    "o = np.where(np.array(list(s)) == \"o\")[0]\n",
    "print(o)\n",
    "a = np.diff(o) >= c\n",
    "print(a)\n",
    "b = a[:-1] + 0 + a[1:]\n",
    "s = np.where(b == 2)[0]\n",
    "for oo in o[s + 1]:\n",
    "    print(oo + 1)"
   ]
  },
  {
   "cell_type": "code",
   "execution_count": 406,
   "metadata": {
    "ExecuteTime": {
     "end_time": "2020-04-04T13:14:57.374260Z",
     "start_time": "2020-04-04T13:14:57.366911Z"
    }
   },
   "outputs": [],
   "source": [
    "n, k, c = list(map(int, input().split()))\n",
    "s = input()\n",
    "import numpy as np\n",
    "o = np.where(np.array(list(s)) == \"o\")[0]"
   ]
  },
  {
   "cell_type": "code",
   "execution_count": 407,
   "metadata": {
    "ExecuteTime": {
     "end_time": "2020-04-04T13:14:57.576277Z",
     "start_time": "2020-04-04T13:14:57.568968Z"
    }
   },
   "outputs": [],
   "source": [
    "now = 0"
   ]
  },
  {
   "cell_type": "code",
   "execution_count": 449,
   "metadata": {
    "ExecuteTime": {
     "end_time": "2020-04-04T13:22:40.317605Z",
     "start_time": "2020-04-04T13:22:40.312061Z"
    }
   },
   "outputs": [],
   "source": [
    "dp = [0] * n\n",
    "ma = [0] * n\n",
    "co = [0] * n\n",
    "for now in range(-c, 0):\n",
    "    if s[now] == \"o\":\n",
    "        dp[now] = 1\n",
    "        ma[now] = 1\n",
    "for now in range(-n, -c)[::-1]:\n",
    "    print(now)\n",
    "    ma[now + 1] = \n",
    "    if s[now] == \"o\":\n",
    "        dp[now] = 1 + ma[now]\n",
    "        ma += 1"
   ]
  },
  {
   "cell_type": "code",
   "execution_count": 454,
   "metadata": {
    "ExecuteTime": {
     "end_time": "2020-04-04T13:22:50.086307Z",
     "start_time": "2020-04-04T13:22:50.077627Z"
    }
   },
   "outputs": [
    {
     "data": {
      "text/plain": [
       "'ooxxxoxxxoo'"
      ]
     },
     "execution_count": 454,
     "metadata": {},
     "output_type": "execute_result"
    }
   ],
   "source": [
    "s"
   ]
  },
  {
   "cell_type": "code",
   "execution_count": 453,
   "metadata": {
    "ExecuteTime": {
     "end_time": "2020-04-04T13:22:47.975945Z",
     "start_time": "2020-04-04T13:22:47.963428Z"
    }
   },
   "outputs": [
    {
     "data": {
      "text/plain": [
       "array([ 0,  1,  5,  9, 10])"
      ]
     },
     "execution_count": 453,
     "metadata": {},
     "output_type": "execute_result"
    }
   ],
   "source": [
    "o"
   ]
  },
  {
   "cell_type": "code",
   "execution_count": 451,
   "metadata": {
    "ExecuteTime": {
     "end_time": "2020-04-04T13:22:42.634601Z",
     "start_time": "2020-04-04T13:22:42.625708Z"
    }
   },
   "outputs": [
    {
     "data": {
      "text/plain": [
       "[4, 3, 0, 0, 0, 2, 0, 0, 0, 1, 1]"
      ]
     },
     "execution_count": 451,
     "metadata": {},
     "output_type": "execute_result"
    }
   ],
   "source": [
    "dp"
   ]
  },
  {
   "cell_type": "code",
   "execution_count": 452,
   "metadata": {
    "ExecuteTime": {
     "end_time": "2020-04-04T13:22:43.977095Z",
     "start_time": "2020-04-04T13:22:43.969681Z"
    }
   },
   "outputs": [
    {
     "data": {
      "text/plain": [
       "[4, 3, 0, 0, 0, 2, 0, 0, 0, 1, 1]"
      ]
     },
     "execution_count": 452,
     "metadata": {},
     "output_type": "execute_result"
    }
   ],
   "source": [
    "dp"
   ]
  },
  {
   "cell_type": "code",
   "execution_count": null,
   "metadata": {},
   "outputs": [],
   "source": []
  },
  {
   "cell_type": "code",
   "execution_count": null,
   "metadata": {},
   "outputs": [],
   "source": []
  },
  {
   "cell_type": "code",
   "execution_count": 422,
   "metadata": {
    "ExecuteTime": {
     "end_time": "2020-04-04T13:17:43.888054Z",
     "start_time": "2020-04-04T13:17:43.879241Z"
    }
   },
   "outputs": [
    {
     "data": {
      "text/plain": [
       "'ooxxxoxxxoo'"
      ]
     },
     "execution_count": 422,
     "metadata": {},
     "output_type": "execute_result"
    }
   ],
   "source": [
    "s"
   ]
  },
  {
   "cell_type": "code",
   "execution_count": null,
   "metadata": {},
   "outputs": [],
   "source": []
  },
  {
   "cell_type": "code",
   "execution_count": null,
   "metadata": {},
   "outputs": [],
   "source": []
  },
  {
   "cell_type": "code",
   "execution_count": null,
   "metadata": {},
   "outputs": [],
   "source": []
  },
  {
   "cell_type": "code",
   "execution_count": null,
   "metadata": {},
   "outputs": [],
   "source": []
  },
  {
   "cell_type": "code",
   "execution_count": null,
   "metadata": {},
   "outputs": [],
   "source": [
    "for i in range(len(o)):\n",
    "    "
   ]
  },
  {
   "cell_type": "code",
   "execution_count": null,
   "metadata": {},
   "outputs": [],
   "source": []
  },
  {
   "cell_type": "code",
   "execution_count": null,
   "metadata": {},
   "outputs": [],
   "source": []
  },
  {
   "cell_type": "code",
   "execution_count": 408,
   "metadata": {
    "ExecuteTime": {
     "end_time": "2020-04-04T13:14:57.915997Z",
     "start_time": "2020-04-04T13:14:57.901567Z"
    }
   },
   "outputs": [
    {
     "data": {
      "text/plain": [
       "array([ 0,  1,  5,  9, 10])"
      ]
     },
     "execution_count": 408,
     "metadata": {},
     "output_type": "execute_result"
    }
   ],
   "source": [
    "o"
   ]
  },
  {
   "cell_type": "code",
   "execution_count": 400,
   "metadata": {
    "ExecuteTime": {
     "end_time": "2020-04-04T13:12:19.879058Z",
     "start_time": "2020-04-04T13:12:19.872027Z"
    }
   },
   "outputs": [
    {
     "data": {
      "text/plain": [
       "'ooxoo'"
      ]
     },
     "execution_count": 400,
     "metadata": {},
     "output_type": "execute_result"
    }
   ],
   "source": [
    "s"
   ]
  },
  {
   "cell_type": "code",
   "execution_count": 401,
   "metadata": {
    "ExecuteTime": {
     "end_time": "2020-04-04T13:12:28.196079Z",
     "start_time": "2020-04-04T13:12:28.187108Z"
    }
   },
   "outputs": [
    {
     "data": {
      "text/plain": [
       "2"
      ]
     },
     "execution_count": 401,
     "metadata": {},
     "output_type": "execute_result"
    }
   ],
   "source": [
    "k"
   ]
  },
  {
   "cell_type": "code",
   "execution_count": 402,
   "metadata": {
    "ExecuteTime": {
     "end_time": "2020-04-04T13:12:28.940464Z",
     "start_time": "2020-04-04T13:12:28.931986Z"
    }
   },
   "outputs": [
    {
     "data": {
      "text/plain": [
       "3"
      ]
     },
     "execution_count": 402,
     "metadata": {},
     "output_type": "execute_result"
    }
   ],
   "source": [
    "c"
   ]
  },
  {
   "cell_type": "code",
   "execution_count": null,
   "metadata": {},
   "outputs": [],
   "source": []
  },
  {
   "cell_type": "code",
   "execution_count": null,
   "metadata": {},
   "outputs": [],
   "source": []
  },
  {
   "cell_type": "code",
   "execution_count": 384,
   "metadata": {
    "ExecuteTime": {
     "end_time": "2020-04-04T13:05:41.277081Z",
     "start_time": "2020-04-04T13:05:41.269419Z"
    }
   },
   "outputs": [],
   "source": [
    "dp = np.zeros([n, k])"
   ]
  },
  {
   "cell_type": "code",
   "execution_count": 394,
   "metadata": {
    "ExecuteTime": {
     "end_time": "2020-04-04T13:06:28.308944Z",
     "start_time": "2020-04-04T13:06:28.302489Z"
    }
   },
   "outputs": [],
   "source": [
    "now = 0"
   ]
  },
  {
   "cell_type": "code",
   "execution_count": 398,
   "metadata": {
    "ExecuteTime": {
     "end_time": "2020-04-04T13:07:34.963966Z",
     "start_time": "2020-04-04T13:07:34.958790Z"
    }
   },
   "outputs": [],
   "source": [
    "now = 0\n",
    "dp[0,0] = 1\n"
   ]
  },
  {
   "cell_type": "code",
   "execution_count": 399,
   "metadata": {
    "ExecuteTime": {
     "end_time": "2020-04-04T13:07:48.234753Z",
     "start_time": "2020-04-04T13:07:48.228521Z"
    }
   },
   "outputs": [],
   "source": [
    "now += 1"
   ]
  },
  {
   "cell_type": "code",
   "execution_count": null,
   "metadata": {},
   "outputs": [],
   "source": [
    "dp[now, 0] = "
   ]
  },
  {
   "cell_type": "code",
   "execution_count": null,
   "metadata": {},
   "outputs": [],
   "source": []
  },
  {
   "cell_type": "code",
   "execution_count": null,
   "metadata": {},
   "outputs": [],
   "source": []
  },
  {
   "cell_type": "code",
   "execution_count": 387,
   "metadata": {
    "ExecuteTime": {
     "end_time": "2020-04-04T13:05:54.733239Z",
     "start_time": "2020-04-04T13:05:54.723082Z"
    }
   },
   "outputs": [
    {
     "data": {
      "text/plain": [
       "array([[1., 0.],\n",
       "       [0., 0.],\n",
       "       [0., 0.],\n",
       "       [0., 0.],\n",
       "       [0., 0.]])"
      ]
     },
     "execution_count": 387,
     "metadata": {},
     "output_type": "execute_result"
    }
   ],
   "source": [
    "dp[1,0]"
   ]
  },
  {
   "cell_type": "code",
   "execution_count": null,
   "metadata": {},
   "outputs": [],
   "source": []
  },
  {
   "cell_type": "code",
   "execution_count": 382,
   "metadata": {
    "ExecuteTime": {
     "end_time": "2020-04-04T13:04:05.458146Z",
     "start_time": "2020-04-04T13:04:05.449574Z"
    }
   },
   "outputs": [
    {
     "data": {
      "text/plain": [
       "[0, 0, 0, 0, 0]"
      ]
     },
     "execution_count": 382,
     "metadata": {},
     "output_type": "execute_result"
    }
   ],
   "source": [
    "dp"
   ]
  },
  {
   "cell_type": "code",
   "execution_count": 383,
   "metadata": {
    "ExecuteTime": {
     "end_time": "2020-04-04T13:04:09.561833Z",
     "start_time": "2020-04-04T13:04:09.554553Z"
    }
   },
   "outputs": [
    {
     "data": {
      "text/plain": [
       "0"
      ]
     },
     "execution_count": 383,
     "metadata": {},
     "output_type": "execute_result"
    }
   ],
   "source": [
    "dp[0]"
   ]
  },
  {
   "cell_type": "code",
   "execution_count": null,
   "metadata": {},
   "outputs": [],
   "source": []
  },
  {
   "cell_type": "code",
   "execution_count": null,
   "metadata": {},
   "outputs": [],
   "source": []
  },
  {
   "cell_type": "code",
   "execution_count": 370,
   "metadata": {
    "ExecuteTime": {
     "end_time": "2020-04-04T13:03:04.064476Z",
     "start_time": "2020-04-04T13:03:04.055622Z"
    }
   },
   "outputs": [
    {
     "data": {
      "text/plain": [
       "5"
      ]
     },
     "execution_count": 370,
     "metadata": {},
     "output_type": "execute_result"
    }
   ],
   "source": [
    "n"
   ]
  },
  {
   "cell_type": "code",
   "execution_count": 371,
   "metadata": {
    "ExecuteTime": {
     "end_time": "2020-04-04T13:03:04.273129Z",
     "start_time": "2020-04-04T13:03:04.230251Z"
    }
   },
   "outputs": [
    {
     "data": {
      "text/plain": [
       "2"
      ]
     },
     "execution_count": 371,
     "metadata": {},
     "output_type": "execute_result"
    }
   ],
   "source": [
    "k"
   ]
  },
  {
   "cell_type": "code",
   "execution_count": 372,
   "metadata": {
    "ExecuteTime": {
     "end_time": "2020-04-04T13:03:04.404676Z",
     "start_time": "2020-04-04T13:03:04.389005Z"
    }
   },
   "outputs": [
    {
     "data": {
      "text/plain": [
       "3"
      ]
     },
     "execution_count": 372,
     "metadata": {},
     "output_type": "execute_result"
    }
   ],
   "source": [
    "c"
   ]
  },
  {
   "cell_type": "code",
   "execution_count": 373,
   "metadata": {
    "ExecuteTime": {
     "end_time": "2020-04-04T13:03:04.550019Z",
     "start_time": "2020-04-04T13:03:04.541232Z"
    }
   },
   "outputs": [
    {
     "data": {
      "text/plain": [
       "array([0, 1, 3, 4])"
      ]
     },
     "execution_count": 373,
     "metadata": {},
     "output_type": "execute_result"
    }
   ],
   "source": [
    "o"
   ]
  },
  {
   "cell_type": "code",
   "execution_count": 376,
   "metadata": {
    "ExecuteTime": {
     "end_time": "2020-04-04T13:03:07.933710Z",
     "start_time": "2020-04-04T13:03:07.923311Z"
    }
   },
   "outputs": [
    {
     "data": {
      "text/plain": [
       "array([False, False, False])"
      ]
     },
     "execution_count": 376,
     "metadata": {},
     "output_type": "execute_result"
    }
   ],
   "source": [
    "a"
   ]
  },
  {
   "cell_type": "code",
   "execution_count": 375,
   "metadata": {
    "ExecuteTime": {
     "end_time": "2020-04-04T13:03:04.831117Z",
     "start_time": "2020-04-04T13:03:04.821415Z"
    }
   },
   "outputs": [
    {
     "data": {
      "text/plain": [
       "array([False, False, False])"
      ]
     },
     "execution_count": 375,
     "metadata": {},
     "output_type": "execute_result"
    }
   ],
   "source": [
    "a"
   ]
  },
  {
   "cell_type": "code",
   "execution_count": null,
   "metadata": {},
   "outputs": [],
   "source": []
  },
  {
   "cell_type": "code",
   "execution_count": null,
   "metadata": {},
   "outputs": [],
   "source": []
  },
  {
   "cell_type": "code",
   "execution_count": null,
   "metadata": {},
   "outputs": [],
   "source": []
  },
  {
   "cell_type": "markdown",
   "metadata": {},
   "source": [
    "# D"
   ]
  },
  {
   "cell_type": "code",
   "execution_count": 318,
   "metadata": {
    "ExecuteTime": {
     "end_time": "2020-04-04T12:54:25.443429Z",
     "start_time": "2020-04-04T12:54:25.422596Z"
    }
   },
   "outputs": [
    {
     "name": "stdout",
     "output_type": "stream",
     "text": [
      "23\n"
     ]
    }
   ],
   "source": [
    "import numpy as np\n",
    "k = int(input()) - 1\n",
    "if len(str(k)) == 1:\n",
    "    print(k + 1)\n",
    "else:\n",
    "\n",
    "    jjj = 0\n",
    "    ans = [0]\n",
    "\n",
    "    num = 0\n",
    "    dps = []\n",
    "    dp = [1] * 10\n",
    "    dp[0] = 0\n",
    "\n",
    "    flag = False\n",
    "    for i in range(len(dp)):\n",
    "        num += dp[i]\n",
    "        if num > k:\n",
    "            flag = True\n",
    "            break\n",
    "\n",
    "    dp[0] = 1\n",
    "    dps.append(dp)\n",
    "\n",
    "    flag = False\n",
    "    while True:\n",
    "        dp = [0] * 10\n",
    "        dp[0] = 0\n",
    "        for i in range(1, 9):\n",
    "            dp[i] = sum(dps[-1][i - 1 : i + 2])\n",
    "        dp[9] = dps[-1][8] + dps[-1][9]\n",
    "\n",
    "\n",
    "        for i in range(len(dp)):\n",
    "            num += dp[i]\n",
    "            if num > k:\n",
    "                flag = True\n",
    "            if flag:\n",
    "                num -= dp[i]\n",
    "                break\n",
    "        if flag:\n",
    "            break\n",
    "        dp[0] = dps[-1][0] + dps[-1][1]\n",
    "        dps.append(dp)\n",
    "\n",
    "    ans = [i]\n",
    "    k = k - num\n",
    "    jjj += 1\n",
    "\n",
    "#     print(k)\n",
    "    try:\n",
    "        while True:\n",
    "#             print(k)\n",
    "            num = 0\n",
    "            ii = i\n",
    "            for i in range(max([ii - 1, 0]), ii + 2):\n",
    "            #     print(i)\n",
    "                if num + dps[-1][i]> k:\n",
    "                    break\n",
    "                else:\n",
    "                    num += dps[-1][i]\n",
    "\n",
    "            ans.append(i)\n",
    "            k -= num\n",
    "            dps = dps[:-1]\n",
    "#             print(k)\n",
    "            if k == 0 and len(dps) > 0:\n",
    "                aaa = i - 1\n",
    "                while True:    \n",
    "                    if aaa < 0 :\n",
    "                        aaa = 0\n",
    "                    ans += [aaa]\n",
    "                    aaa -= 1\n",
    "                    dps = dps[:-1]\n",
    "                    if len(dps) == 0:\n",
    "                        break\n",
    "                aaaaaa\n",
    "    except:\n",
    "        print(\"\".join(map(str, ans)))"
   ]
  },
  {
   "cell_type": "code",
   "execution_count": null,
   "metadata": {},
   "outputs": [],
   "source": []
  },
  {
   "cell_type": "code",
   "execution_count": null,
   "metadata": {},
   "outputs": [],
   "source": []
  },
  {
   "cell_type": "code",
   "execution_count": null,
   "metadata": {},
   "outputs": [],
   "source": []
  },
  {
   "cell_type": "code",
   "execution_count": null,
   "metadata": {},
   "outputs": [],
   "source": []
  },
  {
   "cell_type": "code",
   "execution_count": null,
   "metadata": {},
   "outputs": [],
   "source": []
  },
  {
   "cell_type": "markdown",
   "metadata": {},
   "source": [
    "# C"
   ]
  },
  {
   "cell_type": "code",
   "execution_count": 36,
   "metadata": {
    "ExecuteTime": {
     "end_time": "2020-04-04T12:07:08.487374Z",
     "start_time": "2020-04-04T12:07:08.479759Z"
    }
   },
   "outputs": [
    {
     "name": "stdout",
     "output_type": "stream",
     "text": [
      "0\n"
     ]
    }
   ],
   "source": [
    "n, k = list(map(int, input().split()))\n",
    "print(min([n%k, k - n%k]))"
   ]
  },
  {
   "cell_type": "code",
   "execution_count": null,
   "metadata": {},
   "outputs": [],
   "source": []
  },
  {
   "cell_type": "code",
   "execution_count": null,
   "metadata": {},
   "outputs": [],
   "source": []
  },
  {
   "cell_type": "markdown",
   "metadata": {},
   "source": [
    "# B"
   ]
  },
  {
   "cell_type": "code",
   "execution_count": 26,
   "metadata": {
    "ExecuteTime": {
     "end_time": "2020-04-04T12:05:18.129562Z",
     "start_time": "2020-04-04T12:05:18.118452Z"
    }
   },
   "outputs": [
    {
     "name": "stdout",
     "output_type": "stream",
     "text": [
      "Yes\n"
     ]
    }
   ],
   "source": [
    "import numpy as np\n",
    "n, m = list(map(int, input().split()))\n",
    "a = list(map(int, input().split()))\n",
    "if sum(np.array(a) >= sum(a)/4/m) >= m:\n",
    "    print(\"Yes\")\n",
    "else:\n",
    "    print(\"No\")"
   ]
  },
  {
   "cell_type": "code",
   "execution_count": null,
   "metadata": {},
   "outputs": [],
   "source": []
  },
  {
   "cell_type": "code",
   "execution_count": null,
   "metadata": {},
   "outputs": [],
   "source": []
  },
  {
   "cell_type": "code",
   "execution_count": null,
   "metadata": {},
   "outputs": [],
   "source": []
  },
  {
   "cell_type": "markdown",
   "metadata": {},
   "source": [
    "# A"
   ]
  },
  {
   "cell_type": "code",
   "execution_count": 7,
   "metadata": {
    "ExecuteTime": {
     "end_time": "2020-04-04T12:02:07.970419Z",
     "start_time": "2020-04-04T12:02:07.962668Z"
    }
   },
   "outputs": [
    {
     "name": "stdout",
     "output_type": "stream",
     "text": [
      "3 1 2\n"
     ]
    }
   ],
   "source": [
    "x, y, z = list(map(int, input().split()))\n",
    "print(z, x, y)"
   ]
  },
  {
   "cell_type": "code",
   "execution_count": null,
   "metadata": {},
   "outputs": [],
   "source": []
  }
 ],
 "metadata": {
  "hide_input": false,
  "kernelspec": {
   "display_name": "Python 3",
   "language": "python",
   "name": "python3"
  },
  "language_info": {
   "codemirror_mode": {
    "name": "ipython",
    "version": 3
   },
   "file_extension": ".py",
   "mimetype": "text/x-python",
   "name": "python",
   "nbconvert_exporter": "python",
   "pygments_lexer": "ipython3",
   "version": "3.7.3"
  },
  "toc": {
   "base_numbering": 1,
   "nav_menu": {},
   "number_sections": true,
   "sideBar": true,
   "skip_h1_title": false,
   "title_cell": "Table of Contents",
   "title_sidebar": "Contents",
   "toc_cell": false,
   "toc_position": {},
   "toc_section_display": true,
   "toc_window_display": false
  }
 },
 "nbformat": 4,
 "nbformat_minor": 2
}
