{
 "cells": [
  {
   "cell_type": "code",
   "execution_count": 1,
   "metadata": {
    "ExecuteTime": {
     "end_time": "2020-05-10T12:46:03.213694Z",
     "start_time": "2020-05-10T12:46:03.165112Z"
    }
   },
   "outputs": [
    {
     "data": {
      "application/vnd.jupyter.widget-view+json": {
       "model_id": "323dc8d968f24a708b9995385506f442",
       "version_major": 2,
       "version_minor": 0
      },
      "text/plain": [
       "Textarea(value='')"
      ]
     },
     "metadata": {},
     "output_type": "display_data"
    }
   ],
   "source": [
    "from ipywidgets import Textarea\n",
    "import io\n",
    "\n",
    "if 'input' in globals():\n",
    "    del input\n",
    "\n",
    "class custom_input():\n",
    "    def __init__(self):\n",
    "        self.__sio = io.StringIO('')\n",
    "        self.shell = get_ipython()\n",
    "        if self.shell.events.callbacks['pre_run_cell'] != []:\n",
    "            self.shell.events.callbacks['pre_run_cell'] = []\n",
    "        self.shell.events.register('pre_run_cell', self.pre_run_cell)\n",
    "\n",
    "    def __call__(self):\n",
    "        return self.__sio.readline().strip()\n",
    "\n",
    "    def pre_run_cell(self, info):\n",
    "        text = self.shell.user_ns.get('text_area', None).value\n",
    "        self.__sio = io.StringIO(text)\n",
    "input = custom_input()\n",
    "\n",
    "text_area = Textarea()\n",
    "display(text_area)"
   ]
  },
  {
   "cell_type": "raw",
   "metadata": {},
   "source": [
    "a = list(map(int, input().split()))\n",
    "a = int(input())"
   ]
  },
  {
   "cell_type": "code",
   "execution_count": null,
   "metadata": {},
   "outputs": [],
   "source": []
  },
  {
   "cell_type": "markdown",
   "metadata": {},
   "source": [
    "# E"
   ]
  },
  {
   "cell_type": "code",
   "execution_count": 73,
   "metadata": {
    "ExecuteTime": {
     "end_time": "2020-05-10T13:19:45.649760Z",
     "start_time": "2020-05-10T13:19:45.509668Z"
    }
   },
   "outputs": [
    {
     "name": "stdout",
     "output_type": "stream",
     "text": [
      "479519525\n"
     ]
    }
   ],
   "source": [
    "def power(x, y, mod):\n",
    "    \"\"\"\n",
    "    https://qiita.com/Yaruki00/items/fd1fc269ff7fe40d09a6\n",
    "    二分累乗法でx ** yを求める\n",
    "    \n",
    "    2 ** n = 4 ** (n//2) = 16 ** (n//4)\n",
    "    みたいなことをする\n",
    "    \"\"\"\n",
    "\n",
    "    if   y == 0     : return 1\n",
    "    elif y == 1     : return x % mod\n",
    "    elif y % 2 == 0 : return power(x, y//2, mod)**2 % mod\n",
    "    else            : return power(x, y//2, mod)**2 * x % mod\n",
    "\n",
    "\n",
    "def mul(a, b, mod):\n",
    "    \"\"\"\n",
    "    https://qiita.com/Yaruki00/items/fd1fc269ff7fe40d09a6\n",
    "    modを加味したかけ算を行う\n",
    "    \"\"\"\n",
    "    return ((a % mod) * (b % mod)) % mod\n",
    "\n",
    "def div(a, b, mod):\n",
    "    \"\"\"\n",
    "    https://qiita.com/Yaruki00/items/fd1fc269ff7fe40d09a6\n",
    "    modを加味した割り算を行う    \n",
    "    \"\"\"\n",
    "    if a == b:\n",
    "        return 1\n",
    "    return mul(a, inv_t[b], mod)\n",
    "\n",
    "\n",
    "def factorial_part(start, last, mod):\n",
    "    \"\"\"\n",
    "    startからlastまでのかけ算を行う\n",
    "    \n",
    "    factorial_part(2, 4, mod) = 2 * 3 * 4 = 24    \n",
    "    \"\"\"\n",
    "    assert(start <= last)\n",
    "    x = 1\n",
    "    for k in range(start, last+1):\n",
    "        x *= k\n",
    "        x %= mod\n",
    "    return x\n",
    "\n",
    "def combination(n, a, mod):\n",
    "    if a == 0:\n",
    "        return 1\n",
    "    nCa = div(factorial_part(n - a + 1, n, mod), factorial_part(1, a, mod), mod)\n",
    "    return nCa\n",
    "\n",
    "n, m, k = list(map(int, input().split()))\n",
    "mod =  998244353\n",
    "\n",
    "P = mod\n",
    "N = n\n",
    "inv_t = [0]+[1]\n",
    "for i in range(2,N):\n",
    "    inv_t += [inv_t[P % i] * (P - int(P / i)) % P]\n",
    "\n",
    "powers = [0] * n\n",
    "a = m\n",
    "for kk in range(n):\n",
    "    powers[kk] = a\n",
    "    a = (a * (m - 1)) % mod\n",
    "\n",
    "c =0\n",
    "p = 1\n",
    "comb = 1\n",
    "kk = 0\n",
    "a = n - kk\n",
    "c += powers[a - 1] * comb\n",
    "\n",
    "for kk in range(1, k + 1):\n",
    "    a = n - kk\n",
    "    comb = (div(comb,  kk, mod) * (a))%mod\n",
    "    c = c + powers[a - 1] * comb\n",
    "    c = c%mod\n",
    "print(c)"
   ]
  },
  {
   "cell_type": "code",
   "execution_count": null,
   "metadata": {},
   "outputs": [],
   "source": []
  },
  {
   "cell_type": "code",
   "execution_count": null,
   "metadata": {},
   "outputs": [],
   "source": []
  },
  {
   "cell_type": "code",
   "execution_count": null,
   "metadata": {},
   "outputs": [],
   "source": []
  },
  {
   "cell_type": "code",
   "execution_count": null,
   "metadata": {},
   "outputs": [],
   "source": []
  },
  {
   "cell_type": "markdown",
   "metadata": {},
   "source": [
    "# D"
   ]
  },
  {
   "cell_type": "code",
   "execution_count": 71,
   "metadata": {
    "ExecuteTime": {
     "end_time": "2020-05-10T13:15:27.279964Z",
     "start_time": "2020-05-10T13:15:27.263918Z"
    }
   },
   "outputs": [
    {
     "name": "stdout",
     "output_type": "stream",
     "text": [
      "2\n"
     ]
    }
   ],
   "source": [
    "n, k = list(map(int, input().split()))\n",
    "a = list(map(int, input().split()))\n",
    "\n",
    "a = [0] + a\n",
    "now = 1\n",
    "cities = [now]\n",
    "done = set()\n",
    "done.add(now)\n",
    "for i in range(n):\n",
    "    now = a[now]\n",
    "    if now in done:\n",
    "        break\n",
    "    done.add(now)\n",
    "    cities.append(now)\n",
    "idx_s = cities.index(now)\n",
    "# print(idx_s)\n",
    "f = (len(cities) - idx_s)\n",
    "# print(f)\n",
    "if k > idx_s:\n",
    "    d = k - idx_s\n",
    "    idx = d%f\n",
    "    ans = cities[idx + idx_s]\n",
    "    print(ans)\n",
    "else:\n",
    "    print(cities[k])"
   ]
  },
  {
   "cell_type": "code",
   "execution_count": null,
   "metadata": {},
   "outputs": [],
   "source": []
  },
  {
   "cell_type": "code",
   "execution_count": null,
   "metadata": {},
   "outputs": [],
   "source": []
  },
  {
   "cell_type": "code",
   "execution_count": null,
   "metadata": {},
   "outputs": [],
   "source": []
  },
  {
   "cell_type": "code",
   "execution_count": null,
   "metadata": {},
   "outputs": [],
   "source": []
  },
  {
   "cell_type": "code",
   "execution_count": null,
   "metadata": {},
   "outputs": [],
   "source": []
  },
  {
   "cell_type": "markdown",
   "metadata": {},
   "source": [
    "# C"
   ]
  },
  {
   "cell_type": "code",
   "execution_count": 53,
   "metadata": {
    "ExecuteTime": {
     "end_time": "2020-05-10T12:11:03.778598Z",
     "start_time": "2020-05-10T12:11:03.756371Z"
    }
   },
   "outputs": [
    {
     "name": "stdout",
     "output_type": "stream",
     "text": [
      "1067\n"
     ]
    }
   ],
   "source": [
    "from itertools import product\n",
    "\n",
    "n, m, x = list(map(int, input().split()))\n",
    "aa = []\n",
    "cc = []\n",
    "for k in range(n):\n",
    "    a = list(map(int, input().split()))\n",
    "    c = a[0]\n",
    "    a = a[1:]\n",
    "    aa.append(a)\n",
    "    cc.append(c)\n",
    "\n",
    "cost_min = 1e18\n",
    "for idx in product([0,1], repeat = n):\n",
    "    cost = 0\n",
    "    t = [x] * m\n",
    "    for j in range(n):\n",
    "        if idx[j] == 1:\n",
    "            for k in range(m):\n",
    "                t[k] -= aa[j][k]\n",
    "            cost += cc[j]\n",
    "    if max(t) <= 0:\n",
    "        if cost < cost_min:\n",
    "            cost_min = cost\n",
    "if cost_min == 1e18:\n",
    "    print(-1)\n",
    "else:\n",
    "    print(cost_min)"
   ]
  },
  {
   "cell_type": "code",
   "execution_count": null,
   "metadata": {},
   "outputs": [],
   "source": []
  },
  {
   "cell_type": "code",
   "execution_count": null,
   "metadata": {},
   "outputs": [],
   "source": []
  },
  {
   "cell_type": "code",
   "execution_count": null,
   "metadata": {},
   "outputs": [],
   "source": []
  },
  {
   "cell_type": "code",
   "execution_count": 35,
   "metadata": {
    "ExecuteTime": {
     "end_time": "2020-05-10T12:07:28.405763Z",
     "start_time": "2020-05-10T12:07:28.395973Z"
    }
   },
   "outputs": [
    {
     "data": {
      "text/plain": [
       "[10, 10, 10]"
      ]
     },
     "execution_count": 35,
     "metadata": {},
     "output_type": "execute_result"
    }
   ],
   "source": []
  },
  {
   "cell_type": "code",
   "execution_count": null,
   "metadata": {},
   "outputs": [],
   "source": []
  },
  {
   "cell_type": "code",
   "execution_count": null,
   "metadata": {},
   "outputs": [],
   "source": []
  },
  {
   "cell_type": "code",
   "execution_count": null,
   "metadata": {},
   "outputs": [],
   "source": []
  },
  {
   "cell_type": "markdown",
   "metadata": {},
   "source": [
    "# B"
   ]
  },
  {
   "cell_type": "code",
   "execution_count": 19,
   "metadata": {
    "ExecuteTime": {
     "end_time": "2020-05-10T12:03:19.935266Z",
     "start_time": "2020-05-10T12:03:19.925522Z"
    }
   },
   "outputs": [
    {
     "name": "stdout",
     "output_type": "stream",
     "text": [
      "2\n"
     ]
    }
   ],
   "source": [
    "a, b, c, k = list(map(int, input().split()))\n",
    "if k <= a:\n",
    "    print(k)\n",
    "elif k <= a + b:\n",
    "    print(a)\n",
    "elif k <= a + b  + c:\n",
    "    print(a - (k - a - b))\n",
    "else:\n",
    "    print(a - c)"
   ]
  },
  {
   "cell_type": "code",
   "execution_count": null,
   "metadata": {},
   "outputs": [],
   "source": []
  },
  {
   "cell_type": "code",
   "execution_count": null,
   "metadata": {},
   "outputs": [],
   "source": []
  },
  {
   "cell_type": "code",
   "execution_count": null,
   "metadata": {},
   "outputs": [],
   "source": []
  },
  {
   "cell_type": "code",
   "execution_count": null,
   "metadata": {},
   "outputs": [],
   "source": []
  },
  {
   "cell_type": "markdown",
   "metadata": {},
   "source": [
    "# A"
   ]
  },
  {
   "cell_type": "code",
   "execution_count": 4,
   "metadata": {
    "ExecuteTime": {
     "end_time": "2020-05-10T12:01:05.735084Z",
     "start_time": "2020-05-10T12:01:05.727776Z"
    }
   },
   "outputs": [
    {
     "name": "stdout",
     "output_type": "stream",
     "text": [
      "No\n"
     ]
    }
   ],
   "source": [
    "s = input()\n",
    "t = input()\n",
    "if s == t[:-1]:\n",
    "    print(\"Yes\")\n",
    "else:\n",
    "    print(\"No\")"
   ]
  },
  {
   "cell_type": "code",
   "execution_count": null,
   "metadata": {},
   "outputs": [],
   "source": []
  },
  {
   "cell_type": "code",
   "execution_count": null,
   "metadata": {},
   "outputs": [],
   "source": []
  }
 ],
 "metadata": {
  "hide_input": false,
  "kernelspec": {
   "display_name": "Python 3",
   "language": "python",
   "name": "python3"
  },
  "language_info": {
   "codemirror_mode": {
    "name": "ipython",
    "version": 3
   },
   "file_extension": ".py",
   "mimetype": "text/x-python",
   "name": "python",
   "nbconvert_exporter": "python",
   "pygments_lexer": "ipython3",
   "version": "3.7.3"
  },
  "toc": {
   "base_numbering": 1,
   "nav_menu": {},
   "number_sections": true,
   "sideBar": true,
   "skip_h1_title": false,
   "title_cell": "Table of Contents",
   "title_sidebar": "Contents",
   "toc_cell": false,
   "toc_position": {},
   "toc_section_display": true,
   "toc_window_display": false
  }
 },
 "nbformat": 4,
 "nbformat_minor": 2
}
