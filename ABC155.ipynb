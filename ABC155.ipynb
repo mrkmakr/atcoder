{
 "cells": [
  {
   "cell_type": "code",
   "execution_count": 1,
   "metadata": {
    "ExecuteTime": {
     "end_time": "2020-03-20T12:47:31.877765Z",
     "start_time": "2020-03-20T12:47:31.839126Z"
    }
   },
   "outputs": [
    {
     "data": {
      "application/vnd.jupyter.widget-view+json": {
       "model_id": "eed5a191593443588f33ec888b1c4776",
       "version_major": 2,
       "version_minor": 0
      },
      "text/plain": [
       "Textarea(value='')"
      ]
     },
     "metadata": {},
     "output_type": "display_data"
    }
   ],
   "source": [
    "from ipywidgets import Textarea\n",
    "import io\n",
    "\n",
    "if 'input' in globals():\n",
    "    del input\n",
    "\n",
    "class custom_input():\n",
    "    def __init__(self):\n",
    "        self.__sio = io.StringIO('')\n",
    "        self.shell = get_ipython()\n",
    "        if self.shell.events.callbacks['pre_run_cell'] != []:\n",
    "            self.shell.events.callbacks['pre_run_cell'] = []\n",
    "        self.shell.events.register('pre_run_cell', self.pre_run_cell)\n",
    "\n",
    "    def __call__(self):\n",
    "        return self.__sio.readline().strip()\n",
    "\n",
    "    def pre_run_cell(self, info):\n",
    "        text = self.shell.user_ns.get('text_area', None).value\n",
    "        self.__sio = io.StringIO(text)\n",
    "input = custom_input()\n",
    "\n",
    "text_area = Textarea()\n",
    "display(text_area)"
   ]
  },
  {
   "cell_type": "markdown",
   "metadata": {},
   "source": [
    "# D"
   ]
  },
  {
   "cell_type": "code",
   "execution_count": null,
   "metadata": {},
   "outputs": [],
   "source": [
    "## 何かバグっててサンプル通らない"
   ]
  },
  {
   "cell_type": "code",
   "execution_count": 553,
   "metadata": {
    "ExecuteTime": {
     "end_time": "2020-03-20T14:26:06.527988Z",
     "start_time": "2020-03-20T14:26:06.506526Z"
    }
   },
   "outputs": [],
   "source": [
    "import numpy as np\n",
    "\n",
    "n, k = map(int, input().split())\n",
    "a = list(map(int, input().split()))\n",
    "a = sorted(a)\n",
    "a = np.array(a)"
   ]
  },
  {
   "cell_type": "code",
   "execution_count": 554,
   "metadata": {
    "ExecuteTime": {
     "end_time": "2020-03-20T14:26:06.766515Z",
     "start_time": "2020-03-20T14:26:06.750831Z"
    }
   },
   "outputs": [
    {
     "data": {
      "text/plain": [
       "448283280358331064"
      ]
     },
     "execution_count": 554,
     "metadata": {},
     "output_type": "execute_result"
    }
   ],
   "source": [
    "## 愚直\n",
    "b = []\n",
    "for j in range(len(a)):\n",
    "    for i in range(j+1, len(a)):\n",
    "        b.append(a[j] * a[i])\n",
    "\n",
    "b = sorted(b)\n",
    "b[k - 1]"
   ]
  },
  {
   "cell_type": "code",
   "execution_count": null,
   "metadata": {},
   "outputs": [],
   "source": [
    "## 本番"
   ]
  },
  {
   "cell_type": "code",
   "execution_count": 555,
   "metadata": {
    "ExecuteTime": {
     "end_time": "2020-03-20T14:26:07.678360Z",
     "start_time": "2020-03-20T14:26:07.670144Z"
    }
   },
   "outputs": [],
   "source": [
    "pos = a[a > 0]\n",
    "neg = a[a < 0]\n",
    "zero = a[a == 0]\n",
    "npos = len(pos)\n",
    "nneg = len(neg)\n",
    "nzero = len(zero)"
   ]
  },
  {
   "cell_type": "code",
   "execution_count": 638,
   "metadata": {
    "ExecuteTime": {
     "end_time": "2020-03-20T14:44:28.817023Z",
     "start_time": "2020-03-20T14:44:28.805923Z"
    }
   },
   "outputs": [],
   "source": [
    "def counting(t):\n",
    "    if t == 0:\n",
    "        count = npos * nneg + nzero * (npos + nneg) + nzero * (nzero - 1) // 2 \n",
    "    elif t > 0:\n",
    "        count = 0\n",
    "        r = (t / pos)\n",
    "        count += (sum(np.searchsorted(pos, r, side = \"right\")) - sum(pos ** 2 <= t))//2\n",
    "        r = -(t / neg)\n",
    "        count += (sum(np.searchsorted(-neg, r, side = \"right\")) - sum(neg ** 2 <= t))//2\n",
    "        \n",
    "        count += npos * nneg + nzero * (npos + nneg) + nzero * (nzero - 1) // 2\n",
    "    elif t < 0:\n",
    "        r = t/neg\n",
    "        count = nneg * npos - sum(np.searchsorted(pos, r))\n",
    "    return count"
   ]
  },
  {
   "cell_type": "code",
   "execution_count": 639,
   "metadata": {
    "ExecuteTime": {
     "end_time": "2020-03-20T14:44:29.740476Z",
     "start_time": "2020-03-20T14:44:29.733239Z"
    }
   },
   "outputs": [],
   "source": [
    "def binary_search(l, r, n, func):\n",
    "    \n",
    "    while True:\n",
    "        mid = (l + r) // 2\n",
    "        n_mid = func(mid)\n",
    "        print(l, mid, r, n_mid, n, r - l)\n",
    "        if n < n_mid:\n",
    "            r = mid\n",
    "        elif n > n_mid:\n",
    "            l = mid\n",
    "        elif n == n_mid:\n",
    "            if func(mid - 1) != n:\n",
    "                return mid\n",
    "            else:\n",
    "                r = mid\n",
    "        if r - l <= 1:\n",
    "            return r"
   ]
  },
  {
   "cell_type": "code",
   "execution_count": 640,
   "metadata": {
    "ExecuteTime": {
     "end_time": "2020-03-20T14:44:30.027526Z",
     "start_time": "2020-03-20T14:44:29.948255Z"
    }
   },
   "outputs": [
    {
     "name": "stdout",
     "output_type": "stream",
     "text": [
      "-10000000000000000000 0 10000000000000000000 289 413 20000000000000000000\n",
      "0 5000000000000000000 10000000000000000000 435 413 10000000000000000000\n",
      "0 2500000000000000000 5000000000000000000 435 413 5000000000000000000\n",
      "0 1250000000000000000 2500000000000000000 435 413 2500000000000000000\n",
      "0 625000000000000000 1250000000000000000 430 413 1250000000000000000\n",
      "0 312500000000000000 625000000000000000 383 413 625000000000000000\n",
      "312500000000000000 468750000000000000 625000000000000000 425 413 312500000000000000\n",
      "312500000000000000 390625000000000000 468750000000000000 422 413 156250000000000000\n",
      "312500000000000000 351562500000000000 390625000000000000 392 413 78125000000000000\n",
      "351562500000000000 371093750000000000 390625000000000000 422 413 39062500000000000\n",
      "351562500000000000 361328125000000000 371093750000000000 415 413 19531250000000000\n",
      "351562500000000000 356445312500000000 361328125000000000 407 413 9765625000000000\n",
      "356445312500000000 358886718750000000 361328125000000000 415 413 4882812500000000\n",
      "356445312500000000 357666015625000000 358886718750000000 415 413 2441406250000000\n",
      "356445312500000000 357055664062500000 357666015625000000 408 413 1220703125000000\n",
      "357055664062500000 357360839843750000 357666015625000000 408 413 610351562500000\n",
      "357360839843750000 357513427734375000 357666015625000000 415 413 305175781250000\n",
      "357360839843750000 357437133789062500 357513427734375000 415 413 152587890625000\n",
      "357360839843750000 357398986816406250 357437133789062500 408 413 76293945312500\n",
      "357398986816406250 357418060302734375 357437133789062500 408 413 38146972656250\n",
      "357418060302734375 357427597045898437 357437133789062500 415 413 19073486328125\n",
      "357418060302734375 357422828674316406 357427597045898437 415 413 9536743164062\n",
      "357418060302734375 357420444488525390 357422828674316406 408 413 4768371582031\n",
      "357420444488525390 357421636581420898 357422828674316406 415 413 2384185791016\n",
      "357420444488525390 357421040534973144 357421636581420898 408 413 1192092895508\n",
      "357421040534973144 357421338558197021 357421636581420898 408 413 596046447754\n",
      "357421338558197021 357421487569808959 357421636581420898 408 413 298023223877\n",
      "357421487569808959 357421562075614928 357421636581420898 415 413 149011611939\n",
      "357421487569808959 357421524822711943 357421562075614928 415 413 74505805969\n",
      "357421487569808959 357421506196260451 357421524822711943 408 413 37252902984\n",
      "357421506196260451 357421515509486197 357421524822711943 408 413 18626451492\n",
      "357421515509486197 357421520166099070 357421524822711943 408 413 9313225746\n",
      "357421520166099070 357421522494405506 357421524822711943 415 413 4656612873\n",
      "357421520166099070 357421521330252288 357421522494405506 415 413 2328306436\n",
      "357421520166099070 357421520748175679 357421521330252288 415 413 1164153218\n",
      "357421520166099070 357421520457137374 357421520748175679 408 413 582076609\n",
      "357421520457137374 357421520602656526 357421520748175679 415 413 291038305\n",
      "357421520457137374 357421520529896950 357421520602656526 415 413 145519152\n",
      "357421520457137374 357421520493517162 357421520529896950 415 413 72759576\n",
      "357421520457137374 357421520475327268 357421520493517162 415 413 36379788\n",
      "357421520457137374 357421520466232321 357421520475327268 408 413 18189894\n",
      "357421520466232321 357421520470779794 357421520475327268 415 413 9094947\n",
      "357421520466232321 357421520468506057 357421520470779794 408 413 4547473\n",
      "357421520468506057 357421520469642925 357421520470779794 415 413 2273737\n",
      "357421520468506057 357421520469074491 357421520469642925 408 413 1136868\n",
      "357421520469074491 357421520469358708 357421520469642925 415 413 568434\n",
      "357421520469074491 357421520469216599 357421520469358708 415 413 284217\n",
      "357421520469074491 357421520469145545 357421520469216599 415 413 142108\n",
      "357421520469074491 357421520469110018 357421520469145545 415 413 71054\n",
      "357421520469074491 357421520469092254 357421520469110018 415 413 35527\n",
      "357421520469074491 357421520469083372 357421520469092254 415 413 17763\n",
      "357421520469074491 357421520469078931 357421520469083372 415 413 8881\n",
      "357421520469074491 357421520469076711 357421520469078931 415 413 4440\n",
      "357421520469074491 357421520469075601 357421520469076711 408 413 2220\n",
      "357421520469075601 357421520469076156 357421520469076711 415 413 1110\n",
      "357421520469075601 357421520469075878 357421520469076156 408 413 555\n",
      "357421520469075878 357421520469076017 357421520469076156 415 413 278\n",
      "357421520469075878 357421520469075947 357421520469076017 408 413 139\n",
      "357421520469075947 357421520469075982 357421520469076017 408 413 70\n",
      "357421520469075982 357421520469075999 357421520469076017 408 413 35\n",
      "357421520469075999 357421520469076008 357421520469076017 415 413 18\n",
      "357421520469075999 357421520469076003 357421520469076008 415 413 9\n",
      "357421520469075999 357421520469076001 357421520469076003 415 413 4\n",
      "357421520469075999 357421520469076000 357421520469076001 408 413 2\n",
      "357421520469076001\n"
     ]
    }
   ],
   "source": [
    "l = int(-1e+19)\n",
    "r = int(1e+19)\n",
    "print(int(binary_search(l, r, k, counting)))"
   ]
  },
  {
   "cell_type": "markdown",
   "metadata": {},
   "source": [
    "# E"
   ]
  },
  {
   "cell_type": "code",
   "execution_count": 793,
   "metadata": {
    "ExecuteTime": {
     "end_time": "2020-03-20T16:11:51.021767Z",
     "start_time": "2020-03-20T16:11:51.007371Z"
    }
   },
   "outputs": [
    {
     "name": "stdout",
     "output_type": "stream",
     "text": [
      "243\n"
     ]
    }
   ],
   "source": [
    "s = input()\n",
    "n = len(s)\n",
    "\n",
    "s = list(map(int, list(s)))\n",
    "dp1 = [0] * (n + 1)\n",
    "dp2 = [0] * (n + 1)\n",
    "dp2[0] = 1\n",
    "\n",
    "for k in range(n):\n",
    "    dp1[k + 1] = min([dp1[k] + s[k]       , dp2[k] + 10 - s[k]])\n",
    "    dp2[k + 1] = min([dp1[k] + s[k] + 1, dp2[k] + 10 - s[k] - 1])\n",
    "\n",
    "print(dp1[-1])"
   ]
  },
  {
   "cell_type": "code",
   "execution_count": null,
   "metadata": {},
   "outputs": [],
   "source": []
  },
  {
   "cell_type": "code",
   "execution_count": null,
   "metadata": {},
   "outputs": [],
   "source": []
  },
  {
   "cell_type": "code",
   "execution_count": null,
   "metadata": {},
   "outputs": [],
   "source": []
  },
  {
   "cell_type": "code",
   "execution_count": null,
   "metadata": {},
   "outputs": [],
   "source": []
  },
  {
   "cell_type": "code",
   "execution_count": null,
   "metadata": {},
   "outputs": [],
   "source": []
  },
  {
   "cell_type": "code",
   "execution_count": null,
   "metadata": {},
   "outputs": [],
   "source": []
  },
  {
   "cell_type": "code",
   "execution_count": null,
   "metadata": {},
   "outputs": [],
   "source": []
  },
  {
   "cell_type": "code",
   "execution_count": null,
   "metadata": {},
   "outputs": [],
   "source": []
  },
  {
   "cell_type": "code",
   "execution_count": null,
   "metadata": {},
   "outputs": [],
   "source": []
  },
  {
   "cell_type": "code",
   "execution_count": 722,
   "metadata": {
    "ExecuteTime": {
     "end_time": "2020-03-20T15:38:19.985686Z",
     "start_time": "2020-03-20T15:38:19.979767Z"
    }
   },
   "outputs": [
    {
     "data": {
      "text/plain": [
       "2"
      ]
     },
     "execution_count": 722,
     "metadata": {},
     "output_type": "execute_result"
    }
   ],
   "source": [
    "k"
   ]
  },
  {
   "cell_type": "code",
   "execution_count": 715,
   "metadata": {
    "ExecuteTime": {
     "end_time": "2020-03-20T15:35:59.793477Z",
     "start_time": "2020-03-20T15:35:59.788818Z"
    }
   },
   "outputs": [],
   "source": [
    "dp[1][1] = 7"
   ]
  },
  {
   "cell_type": "code",
   "execution_count": null,
   "metadata": {},
   "outputs": [],
   "source": []
  },
  {
   "cell_type": "code",
   "execution_count": null,
   "metadata": {},
   "outputs": [],
   "source": []
  },
  {
   "cell_type": "code",
   "execution_count": 706,
   "metadata": {
    "ExecuteTime": {
     "end_time": "2020-03-20T15:35:16.263705Z",
     "start_time": "2020-03-20T15:35:16.257810Z"
    }
   },
   "outputs": [],
   "source": [
    "dp = [0] * (n)"
   ]
  },
  {
   "cell_type": "code",
   "execution_count": 707,
   "metadata": {
    "ExecuteTime": {
     "end_time": "2020-03-20T15:35:16.480302Z",
     "start_time": "2020-03-20T15:35:16.472950Z"
    }
   },
   "outputs": [],
   "source": [
    "dp[1] = min([s[1], 10 - s[1] + 1])"
   ]
  },
  {
   "cell_type": "code",
   "execution_count": 708,
   "metadata": {
    "ExecuteTime": {
     "end_time": "2020-03-20T15:35:16.654824Z",
     "start_time": "2020-03-20T15:35:16.641666Z"
    }
   },
   "outputs": [
    {
     "data": {
      "text/plain": [
       "[0, 2, 0]"
      ]
     },
     "execution_count": 708,
     "metadata": {},
     "output_type": "execute_result"
    }
   ],
   "source": [
    "dp"
   ]
  },
  {
   "cell_type": "code",
   "execution_count": null,
   "metadata": {},
   "outputs": [],
   "source": []
  },
  {
   "cell_type": "code",
   "execution_count": null,
   "metadata": {},
   "outputs": [],
   "source": []
  },
  {
   "cell_type": "code",
   "execution_count": null,
   "metadata": {},
   "outputs": [],
   "source": []
  },
  {
   "cell_type": "code",
   "execution_count": 678,
   "metadata": {
    "ExecuteTime": {
     "end_time": "2020-03-20T15:14:08.842548Z",
     "start_time": "2020-03-20T15:14:08.833852Z"
    }
   },
   "outputs": [
    {
     "data": {
      "text/plain": [
       "4"
      ]
     },
     "execution_count": 678,
     "metadata": {},
     "output_type": "execute_result"
    }
   ],
   "source": [
    "score = np.zeros()"
   ]
  },
  {
   "cell_type": "code",
   "execution_count": null,
   "metadata": {},
   "outputs": [],
   "source": []
  },
  {
   "cell_type": "code",
   "execution_count": null,
   "metadata": {},
   "outputs": [],
   "source": []
  },
  {
   "cell_type": "code",
   "execution_count": null,
   "metadata": {},
   "outputs": [],
   "source": []
  },
  {
   "cell_type": "code",
   "execution_count": null,
   "metadata": {
    "ExecuteTime": {
     "end_time": "2020-03-20T15:12:38.004425Z",
     "start_time": "2020-03-20T15:12:37.989978Z"
    }
   },
   "outputs": [],
   "source": []
  },
  {
   "cell_type": "code",
   "execution_count": 653,
   "metadata": {
    "ExecuteTime": {
     "end_time": "2020-03-20T15:11:15.715352Z",
     "start_time": "2020-03-20T15:11:15.702076Z"
    }
   },
   "outputs": [
    {
     "data": {
      "text/plain": [
       "'36'"
      ]
     },
     "execution_count": 653,
     "metadata": {},
     "output_type": "execute_result"
    }
   ],
   "source": [
    "s"
   ]
  },
  {
   "cell_type": "code",
   "execution_count": null,
   "metadata": {},
   "outputs": [],
   "source": []
  },
  {
   "cell_type": "code",
   "execution_count": 654,
   "metadata": {
    "ExecuteTime": {
     "end_time": "2020-03-20T15:11:23.633227Z",
     "start_time": "2020-03-20T15:11:23.623670Z"
    }
   },
   "outputs": [
    {
     "data": {
      "text/plain": [
       "40"
      ]
     },
     "execution_count": 654,
     "metadata": {},
     "output_type": "execute_result"
    }
   ],
   "source": [
    "40"
   ]
  },
  {
   "cell_type": "code",
   "execution_count": null,
   "metadata": {},
   "outputs": [],
   "source": []
  },
  {
   "cell_type": "code",
   "execution_count": null,
   "metadata": {},
   "outputs": [],
   "source": []
  },
  {
   "cell_type": "code",
   "execution_count": 649,
   "metadata": {
    "ExecuteTime": {
     "end_time": "2020-03-20T15:04:48.864540Z",
     "start_time": "2020-03-20T15:04:48.859723Z"
    }
   },
   "outputs": [],
   "source": [
    "k = 0\n"
   ]
  },
  {
   "cell_type": "code",
   "execution_count": 651,
   "metadata": {
    "ExecuteTime": {
     "end_time": "2020-03-20T15:04:52.193495Z",
     "start_time": "2020-03-20T15:04:52.183623Z"
    }
   },
   "outputs": [
    {
     "data": {
      "text/plain": [
       "3"
      ]
     },
     "execution_count": 651,
     "metadata": {},
     "output_type": "execute_result"
    }
   ],
   "source": [
    "int(s[k])"
   ]
  },
  {
   "cell_type": "code",
   "execution_count": null,
   "metadata": {},
   "outputs": [],
   "source": []
  },
  {
   "cell_type": "code",
   "execution_count": null,
   "metadata": {},
   "outputs": [],
   "source": []
  },
  {
   "cell_type": "code",
   "execution_count": 647,
   "metadata": {
    "ExecuteTime": {
     "end_time": "2020-03-20T15:04:42.623649Z",
     "start_time": "2020-03-20T15:04:42.612066Z"
    }
   },
   "outputs": [
    {
     "data": {
      "text/plain": [
       "array([0., 0.])"
      ]
     },
     "execution_count": 647,
     "metadata": {},
     "output_type": "execute_result"
    }
   ],
   "source": [
    "dp"
   ]
  },
  {
   "cell_type": "code",
   "execution_count": null,
   "metadata": {},
   "outputs": [],
   "source": []
  }
 ],
 "metadata": {
  "hide_input": false,
  "kernelspec": {
   "display_name": "Python 3",
   "language": "python",
   "name": "python3"
  },
  "language_info": {
   "codemirror_mode": {
    "name": "ipython",
    "version": 3
   },
   "file_extension": ".py",
   "mimetype": "text/x-python",
   "name": "python",
   "nbconvert_exporter": "python",
   "pygments_lexer": "ipython3",
   "version": "3.7.3"
  },
  "toc": {
   "base_numbering": 1,
   "nav_menu": {},
   "number_sections": true,
   "sideBar": true,
   "skip_h1_title": false,
   "title_cell": "Table of Contents",
   "title_sidebar": "Contents",
   "toc_cell": false,
   "toc_position": {},
   "toc_section_display": true,
   "toc_window_display": false
  }
 },
 "nbformat": 4,
 "nbformat_minor": 2
}
