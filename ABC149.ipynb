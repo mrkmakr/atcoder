{
 "cells": [
  {
   "cell_type": "code",
   "execution_count": 1,
   "metadata": {
    "ExecuteTime": {
     "end_time": "2020-03-26T04:53:41.908694Z",
     "start_time": "2020-03-26T04:53:41.883719Z"
    }
   },
   "outputs": [
    {
     "data": {
      "application/vnd.jupyter.widget-view+json": {
       "model_id": "dc77770097b74bdfa821700ded9aea2f",
       "version_major": 2,
       "version_minor": 0
      },
      "text/plain": [
       "Textarea(value='')"
      ]
     },
     "metadata": {},
     "output_type": "display_data"
    }
   ],
   "source": [
    "from ipywidgets import Textarea\n",
    "import io\n",
    "\n",
    "if 'input' in globals():\n",
    "    del input\n",
    "\n",
    "class custom_input():\n",
    "    def __init__(self):\n",
    "        self.__sio = io.StringIO('')\n",
    "        self.shell = get_ipython()\n",
    "        if self.shell.events.callbacks['pre_run_cell'] != []:\n",
    "            self.shell.events.callbacks['pre_run_cell'] = []\n",
    "        self.shell.events.register('pre_run_cell', self.pre_run_cell)\n",
    "\n",
    "    def __call__(self):\n",
    "        return self.__sio.readline().strip()\n",
    "\n",
    "    def pre_run_cell(self, info):\n",
    "        text = self.shell.user_ns.get('text_area', None).value\n",
    "        self.__sio = io.StringIO(text)\n",
    "input = custom_input()\n",
    "\n",
    "text_area = Textarea()\n",
    "display(text_area)"
   ]
  },
  {
   "cell_type": "markdown",
   "metadata": {},
   "source": [
    "# C"
   ]
  },
  {
   "cell_type": "code",
   "execution_count": 56,
   "metadata": {
    "ExecuteTime": {
     "end_time": "2020-03-25T11:05:09.779565Z",
     "start_time": "2020-03-25T11:05:09.764983Z"
    }
   },
   "outputs": [
    {
     "name": "stdout",
     "output_type": "stream",
     "text": [
      "100003\n"
     ]
    }
   ],
   "source": [
    "def factorize(n):\n",
    "    result = []\n",
    "    tmp = n\n",
    "    for k in range(2, int(n ** 0.5) + 1):\n",
    "        cnt = 0\n",
    "        while tmp % k == 0:\n",
    "            cnt += 1\n",
    "            tmp //= k\n",
    "        if cnt > 0:\n",
    "            result.append([k, cnt])\n",
    "    if tmp != 1:\n",
    "        result.append([tmp, 1])\n",
    "    return result\n",
    "\n",
    "x = int(input())\n",
    "\n",
    "while True:\n",
    "    f = factorize(x)\n",
    "    if len(f) == 1:\n",
    "        if f[0][1] == 1:\n",
    "            print(x)\n",
    "            break\n",
    "    x += 1"
   ]
  },
  {
   "cell_type": "markdown",
   "metadata": {},
   "source": [
    "# D"
   ]
  },
  {
   "cell_type": "code",
   "execution_count": 29,
   "metadata": {
    "ExecuteTime": {
     "end_time": "2020-03-26T05:00:40.202970Z",
     "start_time": "2020-03-26T05:00:40.190127Z"
    }
   },
   "outputs": [
    {
     "name": "stdout",
     "output_type": "stream",
     "text": [
      "27\n"
     ]
    }
   ],
   "source": [
    "import numpy as np\n",
    "n, k = list(map(int, input().split()))\n",
    "r, s ,p = list(map(int, input().split()))\n",
    "e = input()\n",
    "\n",
    "e_list = np.array(list(map(int, list(e.replace(\"r\", \"0\").replace(\"s\", \"1\").replace(\"p\", \"2\")))))\n",
    "score_map = [p, r, s]\n",
    "\n",
    "ans = 0\n",
    "for i in range(k):\n",
    "    e = list(e_list[i:][::k])\n",
    "    now = -2\n",
    "    score = 0\n",
    "    for ee in e:\n",
    "        if ee == now:\n",
    "            now = -1\n",
    "        else:\n",
    "            now = ee\n",
    "            score += score_map[now]\n",
    "    ans += score\n",
    "#     print(e, ans)\n",
    "\n",
    "print(ans)\n"
   ]
  },
  {
   "cell_type": "code",
   "execution_count": null,
   "metadata": {},
   "outputs": [],
   "source": []
  }
 ],
 "metadata": {
  "hide_input": false,
  "kernelspec": {
   "display_name": "Python 3",
   "language": "python",
   "name": "python3"
  },
  "language_info": {
   "codemirror_mode": {
    "name": "ipython",
    "version": 3
   },
   "file_extension": ".py",
   "mimetype": "text/x-python",
   "name": "python",
   "nbconvert_exporter": "python",
   "pygments_lexer": "ipython3",
   "version": "3.7.3"
  },
  "toc": {
   "base_numbering": 1,
   "nav_menu": {},
   "number_sections": true,
   "sideBar": true,
   "skip_h1_title": false,
   "title_cell": "Table of Contents",
   "title_sidebar": "Contents",
   "toc_cell": false,
   "toc_position": {},
   "toc_section_display": true,
   "toc_window_display": false
  }
 },
 "nbformat": 4,
 "nbformat_minor": 2
}
