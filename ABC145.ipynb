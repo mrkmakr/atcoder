{
 "cells": [
  {
   "cell_type": "code",
   "execution_count": 1,
   "metadata": {
    "ExecuteTime": {
     "end_time": "2020-04-09T13:06:26.193647Z",
     "start_time": "2020-04-09T13:06:26.154300Z"
    }
   },
   "outputs": [
    {
     "data": {
      "application/vnd.jupyter.widget-view+json": {
       "model_id": "f376713e38df47dab7ca4f93d6ac227a",
       "version_major": 2,
       "version_minor": 0
      },
      "text/plain": [
       "Textarea(value='')"
      ]
     },
     "metadata": {},
     "output_type": "display_data"
    }
   ],
   "source": [
    "from ipywidgets import Textarea\n",
    "import io\n",
    "\n",
    "if 'input' in globals():\n",
    "    del input\n",
    "\n",
    "class custom_input():\n",
    "    def __init__(self):\n",
    "        self.__sio = io.StringIO('')\n",
    "        self.shell = get_ipython()\n",
    "        if self.shell.events.callbacks['pre_run_cell'] != []:\n",
    "            self.shell.events.callbacks['pre_run_cell'] = []\n",
    "        self.shell.events.register('pre_run_cell', self.pre_run_cell)\n",
    "\n",
    "    def __call__(self):\n",
    "        return self.__sio.readline().strip()\n",
    "\n",
    "    def pre_run_cell(self, info):\n",
    "        text = self.shell.user_ns.get('text_area', None).value\n",
    "        self.__sio = io.StringIO(text)\n",
    "input = custom_input()\n",
    "\n",
    "text_area = Textarea()\n",
    "display(text_area)"
   ]
  },
  {
   "cell_type": "markdown",
   "metadata": {},
   "source": [
    "# D"
   ]
  },
  {
   "cell_type": "code",
   "execution_count": 28,
   "metadata": {
    "ExecuteTime": {
     "end_time": "2020-04-09T13:25:54.087480Z",
     "start_time": "2020-04-09T13:25:53.943380Z"
    }
   },
   "outputs": [
    {
     "name": "stdout",
     "output_type": "stream",
     "text": [
      "151840682\n"
     ]
    }
   ],
   "source": [
    "def power(x, y, mod):\n",
    "    \"\"\"\n",
    "    https://qiita.com/Yaruki00/items/fd1fc269ff7fe40d09a6\n",
    "    二分累乗法でx ** yを求める\n",
    "    \n",
    "    2 ** n = 4 ** (n//2) = 16 ** (n//4)\n",
    "    みたいなことをする\n",
    "    \"\"\"\n",
    "\n",
    "    if   y == 0     : return 1\n",
    "    elif y == 1     : return x % mod\n",
    "    elif y % 2 == 0 : return power(x, y//2, mod)**2 % mod\n",
    "    else            : return power(x, y//2, mod)**2 * x % mod\n",
    "\n",
    "\n",
    "def mul(a, b, mod):\n",
    "    \"\"\"\n",
    "    https://qiita.com/Yaruki00/items/fd1fc269ff7fe40d09a6\n",
    "    modを加味したかけ算を行う\n",
    "    \"\"\"\n",
    "    return ((a % mod) * (b % mod)) % mod\n",
    "\n",
    "def div(a, b, mod):\n",
    "    \"\"\"\n",
    "    https://qiita.com/Yaruki00/items/fd1fc269ff7fe40d09a6\n",
    "    modを加味した割り算を行う    \n",
    "    \"\"\"\n",
    "    if a == b:\n",
    "        return 1\n",
    "    return mul(a, power(b, mod-2, mod), mod)\n",
    "\n",
    "\n",
    "def factorial_part(start, last, mod):\n",
    "    \"\"\"\n",
    "    startからlastまでのかけ算を行う\n",
    "    \n",
    "    factorial_part(2, 4, mod) = 2 * 3 * 4 = 24    \n",
    "    \"\"\"\n",
    "    assert(start <= last)\n",
    "    x = 1\n",
    "    for k in range(start, last+1):\n",
    "        x *= k\n",
    "        x %= mod\n",
    "    return x\n",
    "\n",
    "def combination(n, a, mod):\n",
    "    nCa = div(factorial_part(n - a + 1, n, mod), factorial_part(1, a, mod), mod)\n",
    "    return nCa\n",
    "\n",
    "mod = int(1e9) + 7\n",
    "\n",
    "\n",
    "\n",
    "x, y  = map(int, input().split())\n",
    "s = x + y\n",
    "if s % 3 != 0:\n",
    "    print(0)\n",
    "else:\n",
    "    s = s // 3\n",
    "    x -= s\n",
    "    y -= s\n",
    "    if x < 0:\n",
    "        print(0)\n",
    "    elif y < 0:\n",
    "        print(0)\n",
    "    def fac(n):\n",
    "        if n == 1:\n",
    "            return 1\n",
    "        return n * fac(n - 1)\n",
    "    print(combination(x + y, x, mod))"
   ]
  },
  {
   "cell_type": "code",
   "execution_count": null,
   "metadata": {},
   "outputs": [],
   "source": []
  },
  {
   "cell_type": "code",
   "execution_count": null,
   "metadata": {},
   "outputs": [],
   "source": []
  },
  {
   "cell_type": "markdown",
   "metadata": {},
   "source": [
    "# C"
   ]
  },
  {
   "cell_type": "code",
   "execution_count": 20,
   "metadata": {
    "ExecuteTime": {
     "end_time": "2020-04-09T13:12:53.233808Z",
     "start_time": "2020-04-09T13:12:53.221542Z"
    }
   },
   "outputs": [
    {
     "name": "stdout",
     "output_type": "stream",
     "text": [
      "7641.981782438674\n"
     ]
    }
   ],
   "source": [
    "n = int(input())\n",
    "xs = []\n",
    "ys = []\n",
    "for _ in range(n):\n",
    "    x, y = map(int, input().split())\n",
    "    xs.append(x)\n",
    "    ys.append(y)\n",
    "\n",
    "s = 0\n",
    "c = 0\n",
    "for i in range(n):\n",
    "    for k in range(i + 1, n):\n",
    "        s += ((xs[i] - xs[k]) ** 2 + (ys[i] - ys[k]) ** 2) ** 0.5\n",
    "a = s / n * 2\n",
    "print(a)"
   ]
  },
  {
   "cell_type": "code",
   "execution_count": null,
   "metadata": {},
   "outputs": [],
   "source": []
  }
 ],
 "metadata": {
  "hide_input": false,
  "kernelspec": {
   "display_name": "Python 3",
   "language": "python",
   "name": "python3"
  },
  "language_info": {
   "codemirror_mode": {
    "name": "ipython",
    "version": 3
   },
   "file_extension": ".py",
   "mimetype": "text/x-python",
   "name": "python",
   "nbconvert_exporter": "python",
   "pygments_lexer": "ipython3",
   "version": "3.7.3"
  },
  "toc": {
   "base_numbering": 1,
   "nav_menu": {},
   "number_sections": true,
   "sideBar": true,
   "skip_h1_title": false,
   "title_cell": "Table of Contents",
   "title_sidebar": "Contents",
   "toc_cell": false,
   "toc_position": {},
   "toc_section_display": true,
   "toc_window_display": false
  }
 },
 "nbformat": 4,
 "nbformat_minor": 2
}
