{
 "cells": [
  {
   "cell_type": "code",
   "execution_count": 101,
   "metadata": {
    "ExecuteTime": {
     "end_time": "2020-04-10T12:03:04.389396Z",
     "start_time": "2020-04-10T12:03:04.369427Z"
    }
   },
   "outputs": [
    {
     "data": {
      "application/vnd.jupyter.widget-view+json": {
       "model_id": "88a415f642a9471fbc031769f32c7fd8",
       "version_major": 2,
       "version_minor": 0
      },
      "text/plain": [
       "Textarea(value='')"
      ]
     },
     "metadata": {},
     "output_type": "display_data"
    }
   ],
   "source": [
    "from ipywidgets import Textarea\n",
    "import io\n",
    "\n",
    "if 'input' in globals():\n",
    "    del input\n",
    "\n",
    "class custom_input():\n",
    "    def __init__(self):\n",
    "        self.__sio = io.StringIO('')\n",
    "        self.shell = get_ipython()\n",
    "        if self.shell.events.callbacks['pre_run_cell'] != []:\n",
    "            self.shell.events.callbacks['pre_run_cell'] = []\n",
    "        self.shell.events.register('pre_run_cell', self.pre_run_cell)\n",
    "\n",
    "    def __call__(self):\n",
    "        return self.__sio.readline().strip()\n",
    "\n",
    "    def pre_run_cell(self, info):\n",
    "        text = self.shell.user_ns.get('text_area', None).value\n",
    "        self.__sio = io.StringIO(text)\n",
    "input = custom_input()\n",
    "\n",
    "text_area = Textarea()\n",
    "display(text_area)"
   ]
  },
  {
   "cell_type": "code",
   "execution_count": 117,
   "metadata": {
    "ExecuteTime": {
     "end_time": "2020-04-10T14:24:03.670146Z",
     "start_time": "2020-04-10T14:24:03.655076Z"
    }
   },
   "outputs": [
    {
     "name": "stdout",
     "output_type": "stream",
     "text": [
      "122\n"
     ]
    }
   ],
   "source": [
    "N, T = map(int, input().split())\n",
    "a_list = []\n",
    "b_list = []\n",
    "for k in range(N):\n",
    "    a, b = map(int, input().split())\n",
    "    a_list.append(a)\n",
    "    b_list.append(b)\n",
    "\n",
    "# s_max = 0\n",
    "# for last in range(N):\n",
    "dp = [[0] * N for _ in range(T)]\n",
    "for  i in range(N):\n",
    "    for t in range(T)[::-1]:\n",
    "        if t - a_list[i] >= 0:\n",
    "            dp[t][i] = max(dp[t][i-1], dp[t - a_list[i]][i-1] + b_list[i])\n",
    "s = max(max(dp))\n",
    "print(s)"
   ]
  },
  {
   "cell_type": "code",
   "execution_count": null,
   "metadata": {},
   "outputs": [],
   "source": []
  },
  {
   "cell_type": "code",
   "execution_count": 105,
   "metadata": {
    "ExecuteTime": {
     "end_time": "2020-04-10T12:03:41.555308Z",
     "start_time": "2020-04-10T12:03:41.546478Z"
    }
   },
   "outputs": [
    {
     "data": {
      "text/plain": [
       "[15, 20, 13, 24, 18, 19, 23, 18, 27, 22]"
      ]
     },
     "execution_count": 105,
     "metadata": {},
     "output_type": "execute_result"
    }
   ],
   "source": [
    "a_list"
   ]
  },
  {
   "cell_type": "code",
   "execution_count": 106,
   "metadata": {
    "ExecuteTime": {
     "end_time": "2020-04-10T12:03:41.761821Z",
     "start_time": "2020-04-10T12:03:41.751860Z"
    }
   },
   "outputs": [
    {
     "data": {
      "text/plain": [
       "[23, 18, 17, 12, 29, 27, 21, 20, 15, 25]"
      ]
     },
     "execution_count": 106,
     "metadata": {},
     "output_type": "execute_result"
    }
   ],
   "source": [
    "b_list"
   ]
  },
  {
   "cell_type": "code",
   "execution_count": 110,
   "metadata": {
    "ExecuteTime": {
     "end_time": "2020-04-10T12:05:08.209928Z",
     "start_time": "2020-04-10T12:05:08.201402Z"
    }
   },
   "outputs": [
    {
     "name": "stdout",
     "output_type": "stream",
     "text": [
      "1.5333333333333334\n",
      "0.9\n",
      "1.3076923076923077\n",
      "0.5\n",
      "1.6111111111111112\n",
      "1.4210526315789473\n",
      "0.9130434782608695\n",
      "1.1111111111111112\n",
      "0.5555555555555556\n",
      "1.1363636363636365\n"
     ]
    }
   ],
   "source": [
    "for i in range(N):\n",
    "    print(b_list[i]/a_list[i])"
   ]
  },
  {
   "cell_type": "code",
   "execution_count": null,
   "metadata": {},
   "outputs": [],
   "source": []
  },
  {
   "cell_type": "code",
   "execution_count": 109,
   "metadata": {
    "ExecuteTime": {
     "end_time": "2020-04-10T12:04:20.592977Z",
     "start_time": "2020-04-10T12:04:20.584644Z"
    }
   },
   "outputs": [
    {
     "data": {
      "text/plain": [
       "62"
      ]
     },
     "execution_count": 109,
     "metadata": {},
     "output_type": "execute_result"
    }
   ],
   "source": [
    "sum(b_list) - 145"
   ]
  },
  {
   "cell_type": "code",
   "execution_count": 107,
   "metadata": {
    "ExecuteTime": {
     "end_time": "2020-04-10T12:03:42.821569Z",
     "start_time": "2020-04-10T12:03:42.792001Z"
    }
   },
   "outputs": [
    {
     "data": {
      "text/plain": [
       "[[0, 0, 0, 0, 0, 0, 0, 0, 0, 0],\n",
       " [0, 0, 0, 0, 0, 0, 0, 0, 0, 0],\n",
       " [0, 0, 0, 0, 0, 0, 0, 0, 0, 0],\n",
       " [0, 0, 0, 0, 0, 0, 0, 0, 0, 0],\n",
       " [0, 0, 0, 0, 0, 0, 0, 0, 0, 0],\n",
       " [0, 0, 0, 0, 0, 0, 0, 0, 0, 0],\n",
       " [0, 0, 0, 0, 0, 0, 0, 0, 0, 0],\n",
       " [0, 0, 0, 0, 0, 0, 0, 0, 0, 0],\n",
       " [0, 0, 0, 0, 0, 0, 0, 0, 0, 0],\n",
       " [0, 0, 0, 0, 0, 0, 0, 0, 0, 0],\n",
       " [0, 0, 0, 0, 0, 0, 0, 0, 0, 0],\n",
       " [0, 0, 0, 0, 0, 0, 0, 0, 0, 0],\n",
       " [0, 0, 0, 0, 0, 0, 0, 0, 0, 0],\n",
       " [0, 0, 17, 0, 0, 0, 0, 0, 0, 0],\n",
       " [0, 0, 17, 0, 0, 0, 0, 0, 0, 0],\n",
       " [23, 0, 17, 0, 0, 0, 0, 0, 0, 0],\n",
       " [23, 0, 17, 0, 0, 0, 0, 0, 0, 0],\n",
       " [23, 0, 17, 0, 0, 0, 0, 0, 0, 0],\n",
       " [23, 0, 17, 0, 29, 0, 0, 20, 0, 0],\n",
       " [23, 0, 17, 0, 29, 29, 0, 20, 0, 0],\n",
       " [23, 23, 23, 0, 29, 29, 0, 20, 0, 0],\n",
       " [23, 23, 23, 0, 29, 29, 0, 20, 0, 0],\n",
       " [23, 23, 23, 0, 29, 29, 0, 20, 0, 0],\n",
       " [23, 23, 23, 0, 29, 29, 29, 29, 0, 0],\n",
       " [23, 23, 23, 23, 29, 29, 29, 29, 0, 0],\n",
       " [23, 23, 23, 23, 29, 29, 29, 29, 0, 0],\n",
       " [23, 23, 23, 23, 29, 29, 29, 29, 0, 0],\n",
       " [23, 23, 23, 23, 29, 29, 29, 29, 29, 0],\n",
       " [23, 23, 23, 23, 29, 29, 29, 29, 29, 0],\n",
       " [23, 23, 23, 23, 29, 29, 29, 29, 29, 0],\n",
       " [23, 23, 23, 23, 29, 29, 29, 29, 29, 0],\n",
       " [23, 23, 23, 23, 29, 29, 29, 29, 29, 0],\n",
       " [23, 23, 23, 23, 29, 29, 29, 29, 29, 0],\n",
       " [23, 23, 40, 40, 40, 40, 40, 40, 40, 0],\n",
       " [23, 23, 40, 40, 40, 40, 40, 40, 40, 0],\n",
       " [23, 41, 41, 41, 41, 41, 41, 41, 41, 0],\n",
       " [23, 41, 41, 41, 41, 41, 41, 41, 41, 0],\n",
       " [23, 41, 41, 41, 41, 56, 56, 56, 56, 0],\n",
       " [23, 41, 41, 41, 41, 56, 56, 56, 56, 0],\n",
       " [23, 41, 41, 41, 41, 56, 56, 56, 56, 0],\n",
       " [23, 41, 41, 41, 41, 56, 56, 56, 56, 0],\n",
       " [23, 41, 41, 41, 41, 56, 56, 56, 56, 0],\n",
       " [23, 41, 41, 41, 52, 56, 56, 56, 56, 0],\n",
       " [23, 41, 41, 41, 52, 56, 56, 56, 56, 0],\n",
       " [23, 41, 41, 41, 52, 56, 56, 56, 56, 0],\n",
       " [23, 41, 41, 41, 52, 56, 56, 56, 56, 0],\n",
       " [23, 41, 41, 41, 52, 56, 56, 56, 56, 0],\n",
       " [23, 41, 41, 41, 52, 56, 56, 56, 56, 0],\n",
       " [23, 41, 58, 58, 58, 58, 58, 58, 58, 0],\n",
       " [23, 41, 58, 58, 58, 58, 58, 58, 58, 0],\n",
       " [23, 41, 58, 58, 58, 58, 58, 58, 58, 0],\n",
       " [23, 41, 58, 58, 69, 69, 69, 69, 69, 0],\n",
       " [23, 41, 58, 58, 69, 69, 69, 69, 69, 0],\n",
       " [23, 41, 58, 58, 70, 70, 70, 70, 70, 0],\n",
       " [23, 41, 58, 58, 70, 70, 70, 70, 70, 0],\n",
       " [23, 41, 58, 58, 70, 70, 70, 76, 76, 0],\n",
       " [23, 41, 58, 58, 70, 70, 70, 76, 76, 0],\n",
       " [23, 41, 58, 58, 70, 70, 70, 76, 76, 0],\n",
       " [23, 41, 58, 58, 70, 70, 70, 76, 76, 0],\n",
       " [23, 41, 58, 58, 70, 70, 70, 76, 76, 0],\n",
       " [23, 41, 58, 58, 70, 70, 77, 77, 77, 0],\n",
       " [23, 41, 58, 58, 70, 79, 79, 79, 79, 0],\n",
       " [23, 41, 58, 58, 70, 79, 79, 79, 79, 0],\n",
       " [23, 41, 58, 58, 70, 79, 79, 79, 79, 0],\n",
       " [23, 41, 58, 58, 70, 79, 79, 79, 79, 0],\n",
       " [23, 41, 58, 58, 70, 79, 79, 79, 79, 0],\n",
       " [23, 41, 58, 58, 87, 87, 87, 87, 87, 0],\n",
       " [23, 41, 58, 58, 87, 87, 87, 87, 87, 0],\n",
       " [23, 41, 58, 58, 87, 87, 87, 87, 87, 0],\n",
       " [23, 41, 58, 58, 87, 87, 87, 89, 89, 0],\n",
       " [23, 41, 58, 58, 87, 96, 96, 96, 96, 0],\n",
       " [23, 41, 58, 58, 87, 96, 96, 96, 96, 0],\n",
       " [23, 41, 58, 70, 87, 97, 97, 97, 97, 0],\n",
       " [23, 41, 58, 70, 87, 97, 97, 97, 97, 0],\n",
       " [23, 41, 58, 70, 87, 97, 97, 97, 97, 0],\n",
       " [23, 41, 58, 70, 87, 97, 97, 97, 97, 0],\n",
       " [23, 41, 58, 70, 87, 97, 97, 97, 97, 0],\n",
       " [23, 41, 58, 70, 87, 97, 97, 97, 97, 0],\n",
       " [23, 41, 58, 70, 87, 97, 97, 97, 97, 0],\n",
       " [23, 41, 58, 70, 87, 97, 97, 99, 99, 0],\n",
       " [23, 41, 58, 70, 87, 97, 97, 99, 99, 0],\n",
       " [23, 41, 58, 70, 87, 97, 97, 99, 99, 0],\n",
       " [23, 41, 58, 70, 87, 97, 97, 99, 99, 0],\n",
       " [23, 41, 58, 70, 87, 97, 97, 99, 99, 0],\n",
       " [23, 41, 58, 70, 87, 97, 100, 107, 107, 0],\n",
       " [23, 41, 58, 70, 87, 114, 114, 114, 114, 0],\n",
       " [23, 41, 58, 70, 87, 114, 114, 114, 114, 0],\n",
       " [23, 41, 58, 70, 87, 114, 114, 114, 114, 0],\n",
       " [23, 41, 58, 70, 87, 114, 114, 116, 116, 0],\n",
       " [23, 41, 58, 70, 87, 114, 114, 116, 116, 0],\n",
       " [23, 41, 58, 70, 99, 114, 114, 117, 117, 0],\n",
       " [23, 41, 58, 70, 99, 114, 114, 117, 117, 0],\n",
       " [23, 41, 58, 70, 99, 114, 114, 117, 117, 0],\n",
       " [23, 41, 58, 70, 99, 114, 117, 117, 117, 0],\n",
       " [23, 41, 58, 70, 99, 114, 117, 117, 117, 0],\n",
       " [23, 41, 58, 70, 99, 114, 118, 118, 118, 0],\n",
       " [23, 41, 58, 70, 99, 114, 118, 118, 118, 0],\n",
       " [23, 41, 58, 70, 99, 114, 118, 118, 118, 0],\n",
       " [23, 41, 58, 70, 99, 114, 118, 118, 118, 0],\n",
       " [23, 41, 58, 70, 99, 114, 118, 118, 118, 0]]"
      ]
     },
     "execution_count": 107,
     "metadata": {},
     "output_type": "execute_result"
    }
   ],
   "source": [
    "dp"
   ]
  },
  {
   "cell_type": "code",
   "execution_count": null,
   "metadata": {},
   "outputs": [],
   "source": []
  },
  {
   "cell_type": "code",
   "execution_count": null,
   "metadata": {},
   "outputs": [],
   "source": []
  },
  {
   "cell_type": "code",
   "execution_count": null,
   "metadata": {},
   "outputs": [],
   "source": []
  },
  {
   "cell_type": "markdown",
   "metadata": {},
   "source": [
    "# D"
   ]
  },
  {
   "cell_type": "code",
   "execution_count": 34,
   "metadata": {
    "ExecuteTime": {
     "end_time": "2020-04-09T13:28:03.966881Z",
     "start_time": "2020-04-09T13:28:03.936790Z"
    }
   },
   "outputs": [
    {
     "name": "stdout",
     "output_type": "stream",
     "text": [
      "1\n"
     ]
    }
   ],
   "source": [
    "def power(x, y, mod):\n",
    "    \"\"\"\n",
    "    https://qiita.com/Yaruki00/items/fd1fc269ff7fe40d09a6\n",
    "    二分累乗法でx ** yを求める\n",
    "    \n",
    "    2 ** n = 4 ** (n//2) = 16 ** (n//4)\n",
    "    みたいなことをする\n",
    "    \"\"\"\n",
    "\n",
    "    if   y == 0     : return 1\n",
    "    elif y == 1     : return x % mod\n",
    "    elif y % 2 == 0 : return power(x, y//2, mod)**2 % mod\n",
    "    else            : return power(x, y//2, mod)**2 * x % mod\n",
    "\n",
    "\n",
    "def mul(a, b, mod):\n",
    "    \"\"\"\n",
    "    https://qiita.com/Yaruki00/items/fd1fc269ff7fe40d09a6\n",
    "    modを加味したかけ算を行う\n",
    "    \"\"\"\n",
    "    return ((a % mod) * (b % mod)) % mod\n",
    "\n",
    "def div(a, b, mod):\n",
    "    \"\"\"\n",
    "    https://qiita.com/Yaruki00/items/fd1fc269ff7fe40d09a6\n",
    "    modを加味した割り算を行う    \n",
    "    \"\"\"\n",
    "    if a == b:\n",
    "        return 1\n",
    "    return mul(a, power(b, mod-2, mod), mod)\n",
    "\n",
    "\n",
    "def factorial_part(start, last, mod):\n",
    "    \"\"\"\n",
    "    startからlastまでのかけ算を行う\n",
    "    \n",
    "    factorial_part(2, 4, mod) = 2 * 3 * 4 = 24    \n",
    "    \"\"\"\n",
    "    assert(start <= last)\n",
    "    x = 1\n",
    "    for k in range(start, last+1):\n",
    "        x *= k\n",
    "        x %= mod\n",
    "    return x\n",
    "\n",
    "def combination(n, a, mod):\n",
    "    if a == 0:\n",
    "        return 1\n",
    "    nCa = div(factorial_part(n - a + 1, n, mod), factorial_part(1, a, mod), mod)\n",
    "    return nCa\n",
    "\n",
    "mod = int(1e9) + 7\n",
    "\n",
    "\n",
    "\n",
    "x, y  = map(int, input().split())\n",
    "s = x + y\n",
    "if s % 3 != 0:\n",
    "    print(0)\n",
    "else:\n",
    "    s = s // 3\n",
    "    x -= s\n",
    "    y -= s\n",
    "    if x < 0:\n",
    "        print(0)\n",
    "    elif y < 0:\n",
    "        print(0)\n",
    "    else:\n",
    "        print(combination(x + y, x, mod))"
   ]
  },
  {
   "cell_type": "code",
   "execution_count": null,
   "metadata": {},
   "outputs": [],
   "source": []
  },
  {
   "cell_type": "code",
   "execution_count": null,
   "metadata": {},
   "outputs": [],
   "source": []
  },
  {
   "cell_type": "markdown",
   "metadata": {},
   "source": [
    "# C"
   ]
  },
  {
   "cell_type": "code",
   "execution_count": 20,
   "metadata": {
    "ExecuteTime": {
     "end_time": "2020-04-09T13:12:53.233808Z",
     "start_time": "2020-04-09T13:12:53.221542Z"
    }
   },
   "outputs": [
    {
     "name": "stdout",
     "output_type": "stream",
     "text": [
      "7641.981782438674\n"
     ]
    }
   ],
   "source": [
    "n = int(input())\n",
    "xs = []\n",
    "ys = []\n",
    "for _ in range(n):\n",
    "    x, y = map(int, input().split())\n",
    "    xs.append(x)\n",
    "    ys.append(y)\n",
    "\n",
    "s = 0\n",
    "c = 0\n",
    "for i in range(n):\n",
    "    for k in range(i + 1, n):\n",
    "        s += ((xs[i] - xs[k]) ** 2 + (ys[i] - ys[k]) ** 2) ** 0.5\n",
    "a = s / n * 2\n",
    "print(a)"
   ]
  },
  {
   "cell_type": "code",
   "execution_count": null,
   "metadata": {},
   "outputs": [],
   "source": []
  }
 ],
 "metadata": {
  "hide_input": false,
  "kernelspec": {
   "display_name": "Python 3",
   "language": "python",
   "name": "python3"
  },
  "language_info": {
   "codemirror_mode": {
    "name": "ipython",
    "version": 3
   },
   "file_extension": ".py",
   "mimetype": "text/x-python",
   "name": "python",
   "nbconvert_exporter": "python",
   "pygments_lexer": "ipython3",
   "version": "3.7.3"
  },
  "toc": {
   "base_numbering": 1,
   "nav_menu": {},
   "number_sections": true,
   "sideBar": true,
   "skip_h1_title": false,
   "title_cell": "Table of Contents",
   "title_sidebar": "Contents",
   "toc_cell": false,
   "toc_position": {},
   "toc_section_display": true,
   "toc_window_display": false
  }
 },
 "nbformat": 4,
 "nbformat_minor": 2
}
