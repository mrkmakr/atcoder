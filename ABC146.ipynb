{
 "cells": [
  {
   "cell_type": "code",
   "execution_count": 1,
   "metadata": {
    "ExecuteTime": {
     "end_time": "2020-04-08T10:59:09.187214Z",
     "start_time": "2020-04-08T10:59:09.150537Z"
    }
   },
   "outputs": [
    {
     "data": {
      "application/vnd.jupyter.widget-view+json": {
       "model_id": "eed67edb804643589683c2d9a09be9db",
       "version_major": 2,
       "version_minor": 0
      },
      "text/plain": [
       "Textarea(value='')"
      ]
     },
     "metadata": {},
     "output_type": "display_data"
    }
   ],
   "source": [
    "from ipywidgets import Textarea\n",
    "import io\n",
    "\n",
    "if 'input' in globals():\n",
    "    del input\n",
    "\n",
    "class custom_input():\n",
    "    def __init__(self):\n",
    "        self.__sio = io.StringIO('')\n",
    "        self.shell = get_ipython()\n",
    "        if self.shell.events.callbacks['pre_run_cell'] != []:\n",
    "            self.shell.events.callbacks['pre_run_cell'] = []\n",
    "        self.shell.events.register('pre_run_cell', self.pre_run_cell)\n",
    "\n",
    "    def __call__(self):\n",
    "        return self.__sio.readline().strip()\n",
    "\n",
    "    def pre_run_cell(self, info):\n",
    "        text = self.shell.user_ns.get('text_area', None).value\n",
    "        self.__sio = io.StringIO(text)\n",
    "input = custom_input()\n",
    "\n",
    "text_area = Textarea()\n",
    "display(text_area)"
   ]
  },
  {
   "cell_type": "markdown",
   "metadata": {},
   "source": [
    "# E"
   ]
  },
  {
   "cell_type": "code",
   "execution_count": 254,
   "metadata": {
    "ExecuteTime": {
     "end_time": "2020-04-08T12:12:46.156719Z",
     "start_time": "2020-04-08T12:12:46.145907Z"
    }
   },
   "outputs": [
    {
     "name": "stdout",
     "output_type": "stream",
     "text": [
      "4\n"
     ]
    }
   ],
   "source": [
    "from collections import defaultdict\n",
    "import numpy as np\n",
    "n,k=map(int,input().split())\n",
    "a=[0]+list(np.cumsum(list(map(int,input().split()))))\n",
    "\n",
    "dic = defaultdict(int)\n",
    "c = 0\n",
    "for i in range(len(a)):\n",
    "    p = (a[i] - i) % k\n",
    "    c += dic[p]\n",
    "    dic[p] += 1\n",
    "    if i >= k - 1:\n",
    "        dic[(a[i - k + 1] - (i - k + 1)) % k] -= 1\n",
    "print(c)"
   ]
  },
  {
   "cell_type": "code",
   "execution_count": null,
   "metadata": {},
   "outputs": [],
   "source": [
    "git add * && git commit -m \"abc14\" && git push"
   ]
  },
  {
   "cell_type": "code",
   "execution_count": null,
   "metadata": {},
   "outputs": [],
   "source": []
  },
  {
   "cell_type": "markdown",
   "metadata": {},
   "source": [
    "# D"
   ]
  },
  {
   "cell_type": "code",
   "execution_count": 60,
   "metadata": {
    "ExecuteTime": {
     "end_time": "2020-04-07T12:10:35.579315Z",
     "start_time": "2020-04-07T12:10:35.530355Z"
    }
   },
   "outputs": [
    {
     "name": "stdout",
     "output_type": "stream",
     "text": [
      "2\n",
      "1\n",
      "2\n"
     ]
    }
   ],
   "source": [
    "n=int(input())\n",
    "g=[[] for _ in range(n)]\n",
    "for i in range(n-1):\n",
    "    a,b=map(int,input().split())\n",
    "    g[a-1].append((b-1,i))\n",
    "\n",
    "vc=[0] * n\n",
    "ec=[-1]*(n-1)\n",
    "for p,ci in enumerate(g):\n",
    "    color = 1\n",
    "    for c, i in ci:\n",
    "        if vc[p] == color:\n",
    "            color += 1\n",
    "        vc[c] = color\n",
    "        ec[i] = color\n",
    "        color += 1\n",
    "        \n",
    "\n",
    "print(max(ec))\n",
    "for i in range(n-1):\n",
    "    print(ec[i])\n"
   ]
  },
  {
   "cell_type": "code",
   "execution_count": null,
   "metadata": {},
   "outputs": [],
   "source": []
  },
  {
   "cell_type": "code",
   "execution_count": null,
   "metadata": {},
   "outputs": [],
   "source": []
  },
  {
   "cell_type": "code",
   "execution_count": null,
   "metadata": {},
   "outputs": [],
   "source": []
  },
  {
   "cell_type": "markdown",
   "metadata": {},
   "source": [
    "# C"
   ]
  },
  {
   "cell_type": "code",
   "execution_count": 84,
   "metadata": {
    "ExecuteTime": {
     "end_time": "2020-04-03T14:44:59.777039Z",
     "start_time": "2020-04-03T14:44:59.767273Z"
    }
   },
   "outputs": [
    {
     "name": "stdout",
     "output_type": "stream",
     "text": [
      "1000000000\n"
     ]
    }
   ],
   "source": [
    "a, b, x = map(int, input().split())\n",
    "\n",
    "def hantei(k):\n",
    "    return a * k + b * len(str(k))> x\n",
    "def binary_search(l, r, hantei):\n",
    "    ## hanteiはTrue or Falseを返すfunction\n",
    "    while True:\n",
    "        if r - l <= 1:\n",
    "            break\n",
    "        now = (r + l) // 2\n",
    "    #     print(l, now, r)\n",
    "        if hantei(now):\n",
    "            r = now\n",
    "        else:\n",
    "            l = now\n",
    "    return l\n",
    "l = binary_search(0, int(1e9) + 1, hantei)\n",
    "if l >= 1e9:\n",
    "    l = int(1e9)\n",
    "print(l)"
   ]
  },
  {
   "cell_type": "code",
   "execution_count": null,
   "metadata": {},
   "outputs": [],
   "source": []
  }
 ],
 "metadata": {
  "hide_input": false,
  "kernelspec": {
   "display_name": "Python 3",
   "language": "python",
   "name": "python3"
  },
  "language_info": {
   "codemirror_mode": {
    "name": "ipython",
    "version": 3
   },
   "file_extension": ".py",
   "mimetype": "text/x-python",
   "name": "python",
   "nbconvert_exporter": "python",
   "pygments_lexer": "ipython3",
   "version": "3.7.3"
  },
  "toc": {
   "base_numbering": 1,
   "nav_menu": {},
   "number_sections": true,
   "sideBar": true,
   "skip_h1_title": false,
   "title_cell": "Table of Contents",
   "title_sidebar": "Contents",
   "toc_cell": false,
   "toc_position": {},
   "toc_section_display": true,
   "toc_window_display": false
  }
 },
 "nbformat": 4,
 "nbformat_minor": 2
}
