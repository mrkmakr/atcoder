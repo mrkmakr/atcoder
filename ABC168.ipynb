{
 "cells": [
  {
   "cell_type": "code",
   "execution_count": 2,
   "metadata": {
    "ExecuteTime": {
     "end_time": "2020-05-17T12:43:12.924229Z",
     "start_time": "2020-05-17T12:43:12.898391Z"
    }
   },
   "outputs": [
    {
     "data": {
      "application/vnd.jupyter.widget-view+json": {
       "model_id": "27f83e1b2926496aae6c8b41d81dc7c1",
       "version_major": 2,
       "version_minor": 0
      },
      "text/plain": [
       "Textarea(value='')"
      ]
     },
     "metadata": {},
     "output_type": "display_data"
    }
   ],
   "source": [
    "from ipywidgets import Textarea\n",
    "import io\n",
    "\n",
    "if 'input' in globals():\n",
    "    del input\n",
    "\n",
    "class custom_input():\n",
    "    def __init__(self):\n",
    "        self.__sio = io.StringIO('')\n",
    "        self.shell = get_ipython()\n",
    "        if self.shell.events.callbacks['pre_run_cell'] != []:\n",
    "            self.shell.events.callbacks['pre_run_cell'] = []\n",
    "        self.shell.events.register('pre_run_cell', self.pre_run_cell)\n",
    "\n",
    "    def __call__(self):\n",
    "        return self.__sio.readline().strip()\n",
    "\n",
    "    def pre_run_cell(self, info):\n",
    "        text = self.shell.user_ns.get('text_area', None).value\n",
    "        self.__sio = io.StringIO(text)\n",
    "input = custom_input()\n",
    "\n",
    "text_area = Textarea()\n",
    "display(text_area)"
   ]
  },
  {
   "cell_type": "raw",
   "metadata": {},
   "source": [
    "a = list(map(int, input().split()))\n",
    "a = int(input())"
   ]
  },
  {
   "cell_type": "code",
   "execution_count": null,
   "metadata": {},
   "outputs": [],
   "source": []
  },
  {
   "cell_type": "code",
   "execution_count": null,
   "metadata": {},
   "outputs": [],
   "source": []
  },
  {
   "cell_type": "code",
   "execution_count": null,
   "metadata": {},
   "outputs": [],
   "source": []
  },
  {
   "cell_type": "markdown",
   "metadata": {
    "ExecuteTime": {
     "end_time": "2020-05-17T13:35:00.357982Z",
     "start_time": "2020-05-17T13:35:00.354401Z"
    }
   },
   "source": [
    "## E（途中）"
   ]
  },
  {
   "cell_type": "code",
   "execution_count": 78,
   "metadata": {
    "ExecuteTime": {
     "end_time": "2020-05-17T13:33:37.955453Z",
     "start_time": "2020-05-17T13:33:37.907067Z"
    }
   },
   "outputs": [
    {
     "name": "stdout",
     "output_type": "stream",
     "text": [
      "0 1023 2\n",
      "1 1021 2\n",
      "2 1019 2\n",
      "3 1018 1\n",
      "4 1016 2\n",
      "5 1014 2\n",
      "6 1012 2\n",
      "7 1010 2\n",
      "8 1008 2\n",
      "9 1007 1\n",
      "1007\n"
     ]
    }
   ],
   "source": [
    "n = int(input())\n",
    "import numpy as np\n",
    "aa = np.zeros(n)\n",
    "bb = np.zeros(n)\n",
    "for k in range(n):\n",
    "    a, b = list(map(int, input().split()))\n",
    "    aa[k] = a\n",
    "    bb[k] = b\n",
    "\n",
    "## 注意！！！！！！\n",
    "## なんどもdivを使用する場合には，先に逆元を求めておくこと!!!!!\n",
    "## \n",
    "\n",
    "\n",
    "def power(x, y, mod):\n",
    "    \"\"\"\n",
    "    https://qiita.com/Yaruki00/items/fd1fc269ff7fe40d09a6\n",
    "    二分累乗法でx ** yを求める\n",
    "    \n",
    "    2 ** n = 4 ** (n//2) = 16 ** (n//4)\n",
    "    みたいなことをする\n",
    "    \"\"\"\n",
    "\n",
    "    if   y == 0     : return 1\n",
    "    elif y == 1     : return x % mod\n",
    "    elif y % 2 == 0 : return power(x, y//2, mod)**2 % mod\n",
    "    else            : return power(x, y//2, mod)**2 * x % mod\n",
    "\n",
    "\n",
    "def mul(a, b, mod):\n",
    "    \"\"\"\n",
    "    https://qiita.com/Yaruki00/items/fd1fc269ff7fe40d09a6\n",
    "    modを加味したかけ算を行う\n",
    "    \"\"\"\n",
    "    return ((a % mod) * (b % mod)) % mod\n",
    "\n",
    "def div(a, b, mod):\n",
    "    \"\"\"\n",
    "    https://qiita.com/Yaruki00/items/fd1fc269ff7fe40d09a6\n",
    "    modを加味した割り算を行う    \n",
    "    \"\"\"\n",
    "    if a == b:\n",
    "        return 1\n",
    "    return mul(a, inv_t[b], mod)\n",
    "\n",
    "\n",
    "def factorial_part(start, last, mod):\n",
    "    \"\"\"\n",
    "    startからlastまでのかけ算を行う\n",
    "    \n",
    "    factorial_part(2, 4, mod) = 2 * 3 * 4 = 24    \n",
    "    \"\"\"\n",
    "    assert(start <= last)\n",
    "    x = 1\n",
    "    for k in range(start, last+1):\n",
    "        x *= k\n",
    "        x %= mod\n",
    "    return x\n",
    "\n",
    "def combination(n, a, mod):\n",
    "    if a == 0:\n",
    "        return 1\n",
    "    nCa = div(factorial_part(n - a + 1, n, mod), factorial_part(1, a, mod), mod)\n",
    "    return nCa\n",
    "\n",
    "mod = int(1e9) + 7\n",
    "P = mod\n",
    "N = n\n",
    "inv_t = [0]+[1]\n",
    "for i in range(2,N):\n",
    "    inv_t += [inv_t[P % i] * (P - int(P / i)) % P]\n",
    "\n",
    "\n",
    "sin = bb/np.sqrt(aa ** 2 + bb ** 2)\n",
    "cos = aa/np.sqrt(aa ** 2 + bb ** 2)\n",
    "\n",
    "base = power(2, n, mod) + 1\n",
    "\n",
    "done = set\n",
    "\n",
    "for k in range(n):\n",
    "    a = sin[k] == sin\n",
    "    b = sin[k] == cos\n",
    "    c = sin[k] == -cos\n",
    "    d = sin[k] == -sin\n",
    "    \n",
    "    done.union(set(np.where(a + b + c + d)[0]))\n",
    "    \n",
    "    a = sum(a)\n",
    "    b = sum(b)\n",
    "    c = sum(c)\n",
    "    d = sum(d)\n",
    "    \n",
    "    aa = power(a, 2, mod)\n",
    "    bb = power(b, 2, mod)\n",
    "    cc = power(c, 2, mod)\n",
    "    dd = power(d, 2, mod) \n",
    "    \n",
    "    ad = mul(aa, dd, mod)\n",
    "    bc = mul(bb, cc, mod)\n",
    "    nn = mul(ad, bc, mod) - ad - bc + 2\n",
    "    base -= nn\n",
    "        \n",
    "    print(k, base, nn)\n",
    "#     if nn > 0:\n",
    "#         base -= power(2, n - nn, mod)\n",
    "#         base = base%mod\n",
    "#         if base < 0:\n",
    "#             base += mod\n",
    "print(base)"
   ]
  },
  {
   "cell_type": "code",
   "execution_count": null,
   "metadata": {},
   "outputs": [],
   "source": []
  },
  {
   "cell_type": "code",
   "execution_count": null,
   "metadata": {},
   "outputs": [],
   "source": []
  },
  {
   "cell_type": "code",
   "execution_count": null,
   "metadata": {},
   "outputs": [],
   "source": []
  },
  {
   "cell_type": "markdown",
   "metadata": {},
   "source": [
    "## D"
   ]
  },
  {
   "cell_type": "code",
   "execution_count": 10,
   "metadata": {
    "ExecuteTime": {
     "end_time": "2020-05-17T12:52:35.430511Z",
     "start_time": "2020-05-17T12:52:35.387343Z"
    }
   },
   "outputs": [
    {
     "name": "stdout",
     "output_type": "stream",
     "text": [
      "Yes\n",
      "6\n",
      "5\n",
      "6\n",
      "1\n",
      "1\n"
     ]
    }
   ],
   "source": [
    "n, m = list(map(int, input().split()))\n",
    "edge = [[] for k in range(n)]\n",
    "for k in range(m):\n",
    "    a, b = list(map(int, input().split()))\n",
    "    edge[a-1].append(b-1)\n",
    "    edge[b-1].append(a-1)\n",
    "\n",
    "start = 0\n",
    "\n",
    "from collections import deque\n",
    "que = deque([start])\n",
    "done = {start}\n",
    "depth = [1e9]  * n\n",
    "depth[start] = 0\n",
    "parents = [-1] * n\n",
    "while True:\n",
    "    if len(que) == 0:\n",
    "        break\n",
    "    now = que.popleft()\n",
    "    dep = depth[now]\n",
    "    \n",
    "    for node in edge[now]:\n",
    "        if node not in done:\n",
    "#             if dep < depth[node]:\n",
    "            depth[node] = dep + 1\n",
    "            parents[node] = now\n",
    "            que.append(node)\n",
    "        done.add(node)\n",
    "#     done.add(now)\n",
    "#     print(now)\n",
    "if max(depth) == 1e9:\n",
    "    print(\"No\")\n",
    "else:\n",
    "    print(\"Yes\")\n",
    "    for k in range(1, n):\n",
    "        print(parents[k] + 1)"
   ]
  },
  {
   "cell_type": "code",
   "execution_count": null,
   "metadata": {},
   "outputs": [],
   "source": []
  },
  {
   "cell_type": "code",
   "execution_count": null,
   "metadata": {},
   "outputs": [],
   "source": []
  },
  {
   "cell_type": "code",
   "execution_count": null,
   "metadata": {},
   "outputs": [],
   "source": []
  },
  {
   "cell_type": "code",
   "execution_count": null,
   "metadata": {},
   "outputs": [],
   "source": []
  },
  {
   "cell_type": "markdown",
   "metadata": {},
   "source": [
    "## C"
   ]
  },
  {
   "cell_type": "code",
   "execution_count": 50,
   "metadata": {
    "ExecuteTime": {
     "end_time": "2020-05-17T12:17:12.285915Z",
     "start_time": "2020-05-17T12:17:12.275139Z"
    }
   },
   "outputs": [
    {
     "name": "stdout",
     "output_type": "stream",
     "text": [
      "4.564257194330057\n"
     ]
    }
   ],
   "source": [
    "import numpy as np\n",
    "a, b, h, m = list(map(int, input().split()))\n",
    "theta = np.abs(2 * np.pi * (h/12 + m/60 /12 - m/60))\n",
    "if theta > np.pi:\n",
    "    theta = 2 * np.pi - theta\n",
    "\n",
    "ans = np.sqrt(a ** 2 + b ** 2 - 2 * a * b * np.cos(theta))\n",
    "print(ans)"
   ]
  },
  {
   "cell_type": "code",
   "execution_count": null,
   "metadata": {},
   "outputs": [],
   "source": []
  },
  {
   "cell_type": "code",
   "execution_count": null,
   "metadata": {},
   "outputs": [],
   "source": []
  },
  {
   "cell_type": "code",
   "execution_count": null,
   "metadata": {},
   "outputs": [],
   "source": []
  },
  {
   "cell_type": "markdown",
   "metadata": {},
   "source": [
    "## B"
   ]
  },
  {
   "cell_type": "code",
   "execution_count": 9,
   "metadata": {
    "ExecuteTime": {
     "end_time": "2020-05-17T12:03:30.864399Z",
     "start_time": "2020-05-17T12:03:30.853344Z"
    }
   },
   "outputs": [
    {
     "name": "stdout",
     "output_type": "stream",
     "text": [
      "aaa...\n"
     ]
    }
   ],
   "source": [
    "k = int(input())\n",
    "s = input()\n",
    "if len(s) > k:\n",
    "    s = s[:k] + \"...\"\n",
    "else:\n",
    "    s = s\n",
    "print(s)"
   ]
  },
  {
   "cell_type": "code",
   "execution_count": null,
   "metadata": {},
   "outputs": [],
   "source": []
  },
  {
   "cell_type": "code",
   "execution_count": null,
   "metadata": {},
   "outputs": [],
   "source": []
  },
  {
   "cell_type": "markdown",
   "metadata": {},
   "source": [
    "## A"
   ]
  },
  {
   "cell_type": "code",
   "execution_count": 4,
   "metadata": {
    "ExecuteTime": {
     "end_time": "2020-05-17T12:02:00.393179Z",
     "start_time": "2020-05-17T12:02:00.385750Z"
    }
   },
   "outputs": [
    {
     "name": "stdout",
     "output_type": "stream",
     "text": [
      "pon\n"
     ]
    }
   ],
   "source": [
    "s = input()\n",
    "if s[-1] == \"3\":\n",
    "    print(\"bon\")\n",
    "elif s[-1] in [\"2\",\"4\",\"5\",\"7\",\"9\"]:\n",
    "    print(\"hon\")\n",
    "else:\n",
    "    print(\"pon\")"
   ]
  },
  {
   "cell_type": "code",
   "execution_count": null,
   "metadata": {},
   "outputs": [],
   "source": []
  }
 ],
 "metadata": {
  "hide_input": false,
  "kernelspec": {
   "display_name": "Python 3",
   "language": "python",
   "name": "python3"
  },
  "language_info": {
   "codemirror_mode": {
    "name": "ipython",
    "version": 3
   },
   "file_extension": ".py",
   "mimetype": "text/x-python",
   "name": "python",
   "nbconvert_exporter": "python",
   "pygments_lexer": "ipython3",
   "version": "3.7.3"
  },
  "toc": {
   "base_numbering": 1,
   "nav_menu": {},
   "number_sections": true,
   "sideBar": true,
   "skip_h1_title": false,
   "title_cell": "Table of Contents",
   "title_sidebar": "Contents",
   "toc_cell": false,
   "toc_position": {},
   "toc_section_display": true,
   "toc_window_display": false
  }
 },
 "nbformat": 4,
 "nbformat_minor": 2
}
