{
 "cells": [
  {
   "cell_type": "code",
   "execution_count": 1,
   "metadata": {
    "ExecuteTime": {
     "end_time": "2020-03-22T11:01:24.926324Z",
     "start_time": "2020-03-22T11:01:24.890546Z"
    }
   },
   "outputs": [
    {
     "data": {
      "application/vnd.jupyter.widget-view+json": {
       "model_id": "2cc46dd3c2ad49428f19f13c0c2d31c2",
       "version_major": 2,
       "version_minor": 0
      },
      "text/plain": [
       "Textarea(value='')"
      ]
     },
     "metadata": {},
     "output_type": "display_data"
    }
   ],
   "source": [
    "from ipywidgets import Textarea\n",
    "import io\n",
    "\n",
    "if 'input' in globals():\n",
    "    del input\n",
    "\n",
    "class custom_input():\n",
    "    def __init__(self):\n",
    "        self.__sio = io.StringIO('')\n",
    "        self.shell = get_ipython()\n",
    "        if self.shell.events.callbacks['pre_run_cell'] != []:\n",
    "            self.shell.events.callbacks['pre_run_cell'] = []\n",
    "        self.shell.events.register('pre_run_cell', self.pre_run_cell)\n",
    "\n",
    "    def __call__(self):\n",
    "        return self.__sio.readline().strip()\n",
    "\n",
    "    def pre_run_cell(self, info):\n",
    "        text = self.shell.user_ns.get('text_area', None).value\n",
    "        self.__sio = io.StringIO(text)\n",
    "input = custom_input()\n",
    "\n",
    "text_area = Textarea()\n",
    "display(text_area)"
   ]
  },
  {
   "cell_type": "markdown",
   "metadata": {},
   "source": [
    "# D"
   ]
  },
  {
   "cell_type": "code",
   "execution_count": 24,
   "metadata": {
    "ExecuteTime": {
     "end_time": "2020-03-22T11:09:40.370294Z",
     "start_time": "2020-03-22T11:09:40.289081Z"
    }
   },
   "outputs": [
    {
     "name": "stdout",
     "output_type": "stream",
     "text": [
      "22\n",
      "CPU times: user 67.1 ms, sys: 1.35 ms, total: 68.4 ms\n",
      "Wall time: 71.2 ms\n"
     ]
    }
   ],
   "source": [
    "import numpy as np\n",
    "h, w = list(map(int, input().split()))\n",
    "ss = []\n",
    "for _ in range(h):\n",
    "    s = input()\n",
    "#     s = s.replace(\".\", \"0\").replace(\"#\", \"1\")\n",
    "#     s = list(map(int, list(s)))\n",
    "    ss.append(s)\n",
    "# ss = np.array(ss)\n",
    "    \n",
    "\n",
    "from collections import deque\n",
    "def find(now_h, now_w):\n",
    "    dp = np.zeros([h, w], dtype = np.int32) + 9999\n",
    "    dp[now_h, now_w] = 0\n",
    "    que = deque()\n",
    "    que.append((now_h, now_w))\n",
    "    while len(que) > 0:\n",
    "        now_h, now_w = que.popleft()\n",
    "        if (now_h, now_w) in que:\n",
    "            continue\n",
    "        for mh, mw in ([0,1], [0,-1], [1,0], [-1,0]):\n",
    "            next_h = now_h + mh\n",
    "            next_w = now_w + mw\n",
    "            if next_h < 0 or next_h >= h or next_w < 0 or next_w >= w:\n",
    "                continue\n",
    "            if ss[next_h][next_w] == \"#\":\n",
    "                continue\n",
    "            a = dp[now_h, now_w] + 1\n",
    "            if dp[next_h, next_w] > a:\n",
    "                dp[next_h, next_w] = a\n",
    "                que.append((next_h, next_w))\n",
    "#             print(que)\n",
    "    score = np.max(dp[dp != 9999])\n",
    "    return score\n",
    "\n",
    "maximum = 0\n",
    "for sh in range(h):\n",
    "    for sw in range(w):\n",
    "        if ss[sh][sw] == \".\":\n",
    "            if sh > 0 and sh < h - 1 and sw > 0 and sw < w - 1:\n",
    "                if 0 + (ss[sh + 1][sw] == \".\") + (ss[sh - 1][sw] == \".\") + (ss[sh][sw + 1] == \".\") + (ss[sh][sw - 1] == \".\") >= 3:\n",
    "                    continue\n",
    "            score = find(sh, sw)\n",
    "            if maximum < score:\n",
    "                maximum = score\n",
    "\n",
    "print(maximum)"
   ]
  },
  {
   "cell_type": "code",
   "execution_count": null,
   "metadata": {},
   "outputs": [],
   "source": [
    "## 想定解法を書いてもTLEした．"
   ]
  },
  {
   "cell_type": "code",
   "execution_count": null,
   "metadata": {},
   "outputs": [],
   "source": []
  }
 ],
 "metadata": {
  "hide_input": false,
  "kernelspec": {
   "display_name": "Python 3",
   "language": "python",
   "name": "python3"
  },
  "language_info": {
   "codemirror_mode": {
    "name": "ipython",
    "version": 3
   },
   "file_extension": ".py",
   "mimetype": "text/x-python",
   "name": "python",
   "nbconvert_exporter": "python",
   "pygments_lexer": "ipython3",
   "version": "3.7.3"
  },
  "toc": {
   "base_numbering": 1,
   "nav_menu": {},
   "number_sections": true,
   "sideBar": true,
   "skip_h1_title": false,
   "title_cell": "Table of Contents",
   "title_sidebar": "Contents",
   "toc_cell": false,
   "toc_position": {},
   "toc_section_display": true,
   "toc_window_display": false
  }
 },
 "nbformat": 4,
 "nbformat_minor": 2
}
