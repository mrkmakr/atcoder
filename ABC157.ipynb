{
 "cells": [
  {
   "cell_type": "code",
   "execution_count": 40,
   "metadata": {
    "ExecuteTime": {
     "end_time": "2020-03-19T12:30:24.501831Z",
     "start_time": "2020-03-19T12:30:24.469514Z"
    }
   },
   "outputs": [
    {
     "data": {
      "application/vnd.jupyter.widget-view+json": {
       "model_id": "3bf6e39b60aa4325bd6175589b12fd9e",
       "version_major": 2,
       "version_minor": 0
      },
      "text/plain": [
       "Textarea(value='')"
      ]
     },
     "metadata": {},
     "output_type": "display_data"
    }
   ],
   "source": [
    "from ipywidgets import Textarea\n",
    "import io\n",
    "\n",
    "if 'input' in globals():\n",
    "    del input\n",
    "\n",
    "class custom_input():\n",
    "    def __init__(self):\n",
    "        self.__sio = io.StringIO('')\n",
    "        self.shell = get_ipython()\n",
    "        if self.shell.events.callbacks['pre_run_cell'] != []:\n",
    "            self.shell.events.callbacks['pre_run_cell'] = []\n",
    "        self.shell.events.register('pre_run_cell', self.pre_run_cell)\n",
    "\n",
    "    def __call__(self):\n",
    "        return self.__sio.readline().strip()\n",
    "\n",
    "    def pre_run_cell(self, info):\n",
    "        text = self.shell.user_ns.get('text_area', None).value\n",
    "        self.__sio = io.StringIO(text)\n",
    "input = custom_input()\n",
    "\n",
    "text_area = Textarea()\n",
    "display(text_area)"
   ]
  },
  {
   "cell_type": "markdown",
   "metadata": {
    "ExecuteTime": {
     "end_time": "2020-03-18T15:22:29.278464Z",
     "start_time": "2020-03-18T15:22:29.273536Z"
    }
   },
   "source": [
    "# C"
   ]
  },
  {
   "cell_type": "code",
   "execution_count": null,
   "metadata": {
    "ExecuteTime": {
     "end_time": "2020-03-19T12:13:21.448063Z",
     "start_time": "2020-03-19T12:13:21.324075Z"
    }
   },
   "outputs": [],
   "source": [
    "n, m = map(int, input().split())\n",
    "ans = [-1 for _ in range(n)]\n",
    "flag = 0\n",
    "for k in range(m):\n",
    "    s, c = map(int, input().split())\n",
    "    if (ans[s - 1] == -1) or (ans[s - 1] == c):\n",
    "        ans[s - 1] = c\n",
    "    else:\n",
    "        print(-1)\n",
    "        flag = 1\n",
    "        break\n",
    "\n",
    "if flag == 0:\n",
    "    if (n == 1) and (ans[0] == -1):\n",
    "        print(0)\n",
    "    else:\n",
    "        anss = []\n",
    "        flag = 1\n",
    "        for a in ans:\n",
    "            if a != -1:\n",
    "                anss.append(a)\n",
    "                flag = 0\n",
    "            else:\n",
    "                if flag == 0:\n",
    "                    anss.append(0)\n",
    "                else:\n",
    "                    anss.append(1)\n",
    "                    flag = 0\n",
    "        if anss[0] == 0:\n",
    "            if len(anss) == 1:\n",
    "                print(0)\n",
    "            else:\n",
    "                print(-1)\n",
    "        else:\n",
    "            print(\"\".join(map(str, anss)))"
   ]
  },
  {
   "cell_type": "code",
   "execution_count": null,
   "metadata": {
    "ExecuteTime": {
     "end_time": "2020-03-19T12:13:21.560168Z",
     "start_time": "2020-03-19T12:13:21.554192Z"
    }
   },
   "outputs": [],
   "source": [
    "# コーナーケースに注意"
   ]
  },
  {
   "cell_type": "markdown",
   "metadata": {
    "ExecuteTime": {
     "end_time": "2020-03-18T15:35:48.616028Z",
     "start_time": "2020-03-18T15:35:48.611607Z"
    }
   },
   "source": [
    "# D"
   ]
  },
  {
   "cell_type": "code",
   "execution_count": 70,
   "metadata": {
    "ExecuteTime": {
     "end_time": "2020-03-19T12:37:17.987968Z",
     "start_time": "2020-03-19T12:37:17.962307Z"
    }
   },
   "outputs": [
    {
     "name": "stdout",
     "output_type": "stream",
     "text": [
      "1 3 5 4 3 3 3 3 1 0\n"
     ]
    }
   ],
   "source": [
    "class UnionFind():\n",
    "    def __init__(self, n):\n",
    "        self.n = n\n",
    "        self.parent = list(range(n+1))\n",
    "        self.size = [1] * (n+1)\n",
    "        \n",
    "    def find(self, x):\n",
    "        if self.parent[x] == x:\n",
    "            return x\n",
    "        else:\n",
    "            self.parent[x] = self.find(self.parent[x])\n",
    "            return self.parent[x]\n",
    "    \n",
    "    def union(self, a, b):\n",
    "        a = self.find(a)\n",
    "        b = self.find(b)\n",
    "        \n",
    "        if self.parent[a] == self.parent[b]:\n",
    "            return\n",
    "        if self.size[a] >= self.size[b]:\n",
    "            self.parent[b] = a\n",
    "            self.size[a] += self.size[b]\n",
    "        else:\n",
    "            self.parent[a] = b\n",
    "            self.size[b] += self.size[a]\n",
    "        \n",
    "    def is_same(self, a, b):\n",
    "        return self.find(a) == self.find(b)\n",
    "    \n",
    "    def count(self, x):        \n",
    "        return self.size[self.find(x)]\n",
    "\n",
    "n, m, k = map(int, input().split())\n",
    "\n",
    "uf = UnionFind(n)\n",
    "ans = [0] * (n + 1)\n",
    "\n",
    "for _ in range(m):\n",
    "    a, b = map(int, input().split())\n",
    "    uf.union(a, b)\n",
    "    ans[a] -= 1\n",
    "    ans[b] -= 1\n",
    "    \n",
    "for _ in range(k):\n",
    "    a, b = map(int, input().split())\n",
    "    if uf.is_same(a, b):\n",
    "        ans[a] -= 1\n",
    "        ans[b] -= 1\n",
    "        \n",
    "for i in range(1, n+1):\n",
    "    ans[i] += uf.count(i) - 1    \n",
    "    \n",
    "print(\" \".join(map(str, ans[1:])))"
   ]
  },
  {
   "cell_type": "code",
   "execution_count": 51,
   "metadata": {
    "ExecuteTime": {
     "end_time": "2020-03-19T12:32:10.570071Z",
     "start_time": "2020-03-19T12:32:10.561583Z"
    }
   },
   "outputs": [],
   "source": []
  }
 ],
 "metadata": {
  "hide_input": false,
  "kernelspec": {
   "display_name": "Python 3",
   "language": "python",
   "name": "python3"
  },
  "language_info": {
   "codemirror_mode": {
    "name": "ipython",
    "version": 3
   },
   "file_extension": ".py",
   "mimetype": "text/x-python",
   "name": "python",
   "nbconvert_exporter": "python",
   "pygments_lexer": "ipython3",
   "version": "3.7.3"
  },
  "toc": {
   "base_numbering": 1,
   "nav_menu": {},
   "number_sections": true,
   "sideBar": true,
   "skip_h1_title": false,
   "title_cell": "Table of Contents",
   "title_sidebar": "Contents",
   "toc_cell": false,
   "toc_position": {},
   "toc_section_display": true,
   "toc_window_display": false
  }
 },
 "nbformat": 4,
 "nbformat_minor": 2
}
