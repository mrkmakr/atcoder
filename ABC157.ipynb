{
 "cells": [
  {
   "cell_type": "code",
   "execution_count": 1,
   "metadata": {
    "ExecuteTime": {
     "end_time": "2020-03-18T15:16:35.969215Z",
     "start_time": "2020-03-18T15:16:35.939042Z"
    }
   },
   "outputs": [
    {
     "data": {
      "application/vnd.jupyter.widget-view+json": {
       "model_id": "7c061b586b2a45a8bb25ac43ac1e0fef",
       "version_major": 2,
       "version_minor": 0
      },
      "text/plain": [
       "Textarea(value='')"
      ]
     },
     "metadata": {},
     "output_type": "display_data"
    }
   ],
   "source": [
    "from ipywidgets import Textarea\n",
    "import io\n",
    "\n",
    "if 'input' in globals():\n",
    "    del input\n",
    "\n",
    "class custom_input():\n",
    "    def __init__(self):\n",
    "        self.__sio = io.StringIO('')\n",
    "        self.shell = get_ipython()\n",
    "        if self.shell.events.callbacks['pre_run_cell'] != []:\n",
    "            self.shell.events.callbacks['pre_run_cell'] = []\n",
    "        self.shell.events.register('pre_run_cell', self.pre_run_cell)\n",
    "\n",
    "    def __call__(self):\n",
    "        return self.__sio.readline().strip()\n",
    "\n",
    "    def pre_run_cell(self, info):\n",
    "        text = self.shell.user_ns.get('text_area', None).value\n",
    "        self.__sio = io.StringIO(text)\n",
    "input = custom_input()\n",
    "\n",
    "text_area = Textarea()\n",
    "display(text_area)"
   ]
  },
  {
   "cell_type": "markdown",
   "metadata": {
    "ExecuteTime": {
     "end_time": "2020-03-18T15:22:29.278464Z",
     "start_time": "2020-03-18T15:22:29.273536Z"
    }
   },
   "source": [
    "# C"
   ]
  },
  {
   "cell_type": "code",
   "execution_count": 108,
   "metadata": {
    "ExecuteTime": {
     "end_time": "2020-03-18T15:32:33.709119Z",
     "start_time": "2020-03-18T15:32:33.693782Z"
    }
   },
   "outputs": [
    {
     "name": "stdout",
     "output_type": "stream",
     "text": [
      "702\n"
     ]
    }
   ],
   "source": [
    "n, m = map(int, input().split())\n",
    "ans = [-1 for _ in range(n)]\n",
    "flag = 0\n",
    "for k in range(m):\n",
    "    s, c = map(int, input().split())\n",
    "    if (ans[s - 1] == -1) or (ans[s - 1] == c):\n",
    "        ans[s - 1] = c\n",
    "    else:\n",
    "        print(-1)\n",
    "        flag = 1\n",
    "        break\n",
    "\n",
    "if flag == 0:\n",
    "    if (n == 1) and (ans[0] == -1):\n",
    "        print(0)\n",
    "    else:\n",
    "        anss = []\n",
    "        flag = 1\n",
    "        for a in ans:\n",
    "            if a != -1:\n",
    "                anss.append(a)\n",
    "                flag = 0\n",
    "            else:\n",
    "                if flag == 0:\n",
    "                    anss.append(0)\n",
    "                else:\n",
    "                    anss.append(1)\n",
    "                    flag = 0\n",
    "        if anss[0] == 0:\n",
    "            if len(anss) == 1:\n",
    "                print(0)\n",
    "            else:\n",
    "                print(-1)\n",
    "        else:\n",
    "            print(\"\".join(map(str, anss)))"
   ]
  },
  {
   "cell_type": "code",
   "execution_count": null,
   "metadata": {},
   "outputs": [],
   "source": [
    "# コーナーケースに注意"
   ]
  },
  {
   "cell_type": "markdown",
   "metadata": {
    "ExecuteTime": {
     "end_time": "2020-03-18T15:35:48.616028Z",
     "start_time": "2020-03-18T15:35:48.611607Z"
    }
   },
   "source": [
    "# D"
   ]
  },
  {
   "cell_type": "code",
   "execution_count": 171,
   "metadata": {
    "ExecuteTime": {
     "end_time": "2020-03-18T15:50:14.368789Z",
     "start_time": "2020-03-18T15:50:14.343654Z"
    }
   },
   "outputs": [
    {
     "name": "stdout",
     "output_type": "stream",
     "text": [
      "1 3 5 4 3 3 3 3 1 0\n"
     ]
    }
   ],
   "source": [
    "n, m, k = map(int, input().split())\n",
    "f = {}\n",
    "for _ in range(m):\n",
    "    a, aa = map(int, input().split())\n",
    "    try:\n",
    "        f[a].append(aa)\n",
    "    except:\n",
    "        f[a] = [aa]\n",
    "    try:\n",
    "        f[aa].append(a)\n",
    "    except:\n",
    "        f[aa] = [a]\n",
    "b = {}\n",
    "for _ in range(k):\n",
    "    a, aa = map(int, input().split())\n",
    "    try:\n",
    "        b[a].append(aa)\n",
    "    except:\n",
    "        b[a] = [aa]\n",
    "    try:\n",
    "        b[aa].append(a)\n",
    "    except:\n",
    "        b[aa] = [a]\n",
    "    \n",
    "\n",
    "g = []\n",
    "done_g = []\n",
    "\n",
    "for now in range(1, n+1):\n",
    "    if now in done_g:\n",
    "        continue\n",
    "    done = []\n",
    "    stack = [now]\n",
    "    while len(stack) != 0:\n",
    "        now = stack.pop()\n",
    "        if now in done:\n",
    "            continue\n",
    "        done.append(now)\n",
    "        stack += f[now]\n",
    "    \n",
    "    g.append(done)\n",
    "    done_g += done\n",
    "\n",
    "ans = {}\n",
    "for gg in g:\n",
    "    for x in gg:\n",
    "        base = len(gg) - 1\n",
    "        if x in f.keys():\n",
    "            base -= len(set(gg).intersection(set(f[x])))\n",
    "        if x in b.keys():\n",
    "            base -= len(set(gg).intersection(set(b[x])))\n",
    "        ans[x] = base\n",
    "\n",
    "anss = []\n",
    "for k in range(n):\n",
    "    anss.append(str(ans[k+1]))\n",
    "print(\" \".join(anss))\n",
    "\n"
   ]
  },
  {
   "cell_type": "code",
   "execution_count": null,
   "metadata": {},
   "outputs": [],
   "source": []
  }
 ],
 "metadata": {
  "hide_input": false,
  "kernelspec": {
   "display_name": "Python 3",
   "language": "python",
   "name": "python3"
  },
  "language_info": {
   "codemirror_mode": {
    "name": "ipython",
    "version": 3
   },
   "file_extension": ".py",
   "mimetype": "text/x-python",
   "name": "python",
   "nbconvert_exporter": "python",
   "pygments_lexer": "ipython3",
   "version": "3.7.3"
  },
  "toc": {
   "base_numbering": 1,
   "nav_menu": {},
   "number_sections": true,
   "sideBar": true,
   "skip_h1_title": false,
   "title_cell": "Table of Contents",
   "title_sidebar": "Contents",
   "toc_cell": false,
   "toc_position": {},
   "toc_section_display": true,
   "toc_window_display": false
  }
 },
 "nbformat": 4,
 "nbformat_minor": 2
}
