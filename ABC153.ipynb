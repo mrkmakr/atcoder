{
 "cells": [
  {
   "cell_type": "code",
   "execution_count": 2,
   "metadata": {
    "ExecuteTime": {
     "end_time": "2020-03-20T16:42:09.542330Z",
     "start_time": "2020-03-20T16:42:09.513223Z"
    }
   },
   "outputs": [
    {
     "data": {
      "application/vnd.jupyter.widget-view+json": {
       "model_id": "a808b29f8aa64461bc04d50fd2c49597",
       "version_major": 2,
       "version_minor": 0
      },
      "text/plain": [
       "Textarea(value='')"
      ]
     },
     "metadata": {},
     "output_type": "display_data"
    }
   ],
   "source": [
    "from ipywidgets import Textarea\n",
    "import io\n",
    "\n",
    "if 'input' in globals():\n",
    "    del input\n",
    "\n",
    "class custom_input():\n",
    "    def __init__(self):\n",
    "        self.__sio = io.StringIO('')\n",
    "        self.shell = get_ipython()\n",
    "        if self.shell.events.callbacks['pre_run_cell'] != []:\n",
    "            self.shell.events.callbacks['pre_run_cell'] = []\n",
    "        self.shell.events.register('pre_run_cell', self.pre_run_cell)\n",
    "\n",
    "    def __call__(self):\n",
    "        return self.__sio.readline().strip()\n",
    "\n",
    "    def pre_run_cell(self, info):\n",
    "        text = self.shell.user_ns.get('text_area', None).value\n",
    "        self.__sio = io.StringIO(text)\n",
    "input = custom_input()\n",
    "\n",
    "text_area = Textarea()\n",
    "display(text_area)"
   ]
  },
  {
   "cell_type": "markdown",
   "metadata": {},
   "source": [
    "# C"
   ]
  },
  {
   "cell_type": "code",
   "execution_count": 11,
   "metadata": {
    "ExecuteTime": {
     "end_time": "2020-03-20T16:20:26.511600Z",
     "start_time": "2020-03-20T16:20:26.502594Z"
    }
   },
   "outputs": [
    {
     "name": "stdout",
     "output_type": "stream",
     "text": [
      "5\n"
     ]
    }
   ],
   "source": [
    "n,k = list(map(int, input().split()))\n",
    "h = list(map(int, input().split()))\n",
    "print(sum(sorted(h)[:max([n-k, 0])]))"
   ]
  },
  {
   "cell_type": "markdown",
   "metadata": {},
   "source": [
    "# D"
   ]
  },
  {
   "cell_type": "code",
   "execution_count": 27,
   "metadata": {
    "ExecuteTime": {
     "end_time": "2020-03-20T16:24:26.318576Z",
     "start_time": "2020-03-20T16:24:26.308517Z"
    }
   },
   "outputs": [
    {
     "name": "stdout",
     "output_type": "stream",
     "text": [
      "1099511627775\n"
     ]
    }
   ],
   "source": [
    "h = int(input())\n",
    "attack = 0\n",
    "n = 1\n",
    "while h != 0:\n",
    "    attack += n\n",
    "    h = h // 2\n",
    "    n *= 2\n",
    "print(attack)"
   ]
  },
  {
   "cell_type": "markdown",
   "metadata": {},
   "source": [
    "# E"
   ]
  },
  {
   "cell_type": "code",
   "execution_count": 5,
   "metadata": {
    "ExecuteTime": {
     "end_time": "2020-03-20T16:42:33.607211Z",
     "start_time": "2020-03-20T16:42:33.378933Z"
    }
   },
   "outputs": [
    {
     "name": "stdout",
     "output_type": "stream",
     "text": [
      "139815\n"
     ]
    }
   ],
   "source": [
    "import numpy as np\n",
    "h, n = list(map(int, input().split()))\n",
    "aa = []\n",
    "bb = []\n",
    "for k in range(n):\n",
    "    a, b = list(map(int, input().split()))\n",
    "    aa.append(a)\n",
    "    bb.append(b)\n",
    "aa = np.array(aa)\n",
    "bb = np.array(bb)\n",
    "\n",
    "def func1(x):\n",
    "    x[x >= 0] = dp[x[x >= 0]]\n",
    "    x[x < 0] = int(1e9) + 7\n",
    "    return x\n",
    "\n",
    "dp = np.array([0])\n",
    "for k in range(1, h+1):\n",
    "    t = func1(k-aa) + bb\n",
    "    dp = np.append(dp, min(t))\n",
    "while dp[-1] > int(1e9):\n",
    "    k += 1\n",
    "    t = func1(k-aa) + bb\n",
    "    dp = np.append(dp, min(t))\n",
    "\n",
    "print(dp[-1])"
   ]
  },
  {
   "cell_type": "code",
   "execution_count": null,
   "metadata": {},
   "outputs": [],
   "source": []
  }
 ],
 "metadata": {
  "hide_input": false,
  "kernelspec": {
   "display_name": "Python 3",
   "language": "python",
   "name": "python3"
  },
  "language_info": {
   "codemirror_mode": {
    "name": "ipython",
    "version": 3
   },
   "file_extension": ".py",
   "mimetype": "text/x-python",
   "name": "python",
   "nbconvert_exporter": "python",
   "pygments_lexer": "ipython3",
   "version": "3.7.3"
  },
  "toc": {
   "base_numbering": 1,
   "nav_menu": {},
   "number_sections": true,
   "sideBar": true,
   "skip_h1_title": false,
   "title_cell": "Table of Contents",
   "title_sidebar": "Contents",
   "toc_cell": false,
   "toc_position": {},
   "toc_section_display": true,
   "toc_window_display": false
  }
 },
 "nbformat": 4,
 "nbformat_minor": 2
}
