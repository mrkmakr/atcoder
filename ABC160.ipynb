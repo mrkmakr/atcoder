{
 "cells": [
  {
   "cell_type": "code",
   "execution_count": 1,
   "metadata": {
    "ExecuteTime": {
     "end_time": "2020-03-28T12:36:14.980093Z",
     "start_time": "2020-03-28T12:36:14.952135Z"
    }
   },
   "outputs": [
    {
     "data": {
      "application/vnd.jupyter.widget-view+json": {
       "model_id": "46ad90f6f92649dc9a086f13749e8d14",
       "version_major": 2,
       "version_minor": 0
      },
      "text/plain": [
       "Textarea(value='')"
      ]
     },
     "metadata": {},
     "output_type": "display_data"
    }
   ],
   "source": [
    "from ipywidgets import Textarea\n",
    "import io\n",
    "\n",
    "if 'input' in globals():\n",
    "    del input\n",
    "\n",
    "class custom_input():\n",
    "    def __init__(self):\n",
    "        self.__sio = io.StringIO('')\n",
    "        self.shell = get_ipython()\n",
    "        if self.shell.events.callbacks['pre_run_cell'] != []:\n",
    "            self.shell.events.callbacks['pre_run_cell'] = []\n",
    "        self.shell.events.register('pre_run_cell', self.pre_run_cell)\n",
    "\n",
    "    def __call__(self):\n",
    "        return self.__sio.readline().strip()\n",
    "\n",
    "    def pre_run_cell(self, info):\n",
    "        text = self.shell.user_ns.get('text_area', None).value\n",
    "        self.__sio = io.StringIO(text)\n",
    "input = custom_input()\n",
    "\n",
    "text_area = Textarea()\n",
    "display(text_area)"
   ]
  },
  {
   "cell_type": "raw",
   "metadata": {},
   "source": [
    "a = list(map(int, input().split()))\n",
    "a = int(input())"
   ]
  },
  {
   "cell_type": "code",
   "execution_count": null,
   "metadata": {},
   "outputs": [],
   "source": []
  },
  {
   "cell_type": "code",
   "execution_count": null,
   "metadata": {},
   "outputs": [],
   "source": []
  },
  {
   "cell_type": "markdown",
   "metadata": {},
   "source": [
    "# D"
   ]
  },
  {
   "cell_type": "code",
   "execution_count": 129,
   "metadata": {
    "ExecuteTime": {
     "end_time": "2020-03-28T13:35:46.569795Z",
     "start_time": "2020-03-28T13:35:46.551686Z"
    }
   },
   "outputs": [
    {
     "name": "stdout",
     "output_type": "stream",
     "text": [
      "7\n",
      "8\n",
      "4\n",
      "2\n",
      "0\n",
      "0\n"
     ]
    }
   ],
   "source": [
    "import numpy as np\n",
    "n, x, y =  list(map(int, input().split()))\n",
    "\n",
    "# n, x, y = 6, 1, 6\n",
    "\n",
    "r = y - x - 1\n",
    "left = x\n",
    "right = n - y + 1\n",
    "base = left + right\n",
    "arr = np.array([0] * (n - 1))\n",
    "for k in range(base):\n",
    "    arr[k] += base - k - 1\n",
    "    \n",
    "r += 2 ## rightとleftの端っこも含めて，円を作る\n",
    "if r % 2 == 0:\n",
    "    arr_r = [r] * ((r // 2) - 1) + [r // 2]\n",
    "else:\n",
    "    arr_r = [r] * (r // 2)\n",
    "r -= 2\n",
    "for k in range(len(arr_r)):\n",
    "    arr[k] += arr_r[k]\n",
    "arr[0] -= 1 ## rightとleftの端っこが重複カウント\n",
    "\n",
    "#print(arr_r)\n",
    "# for k in range(r):\n",
    "#     arr[k] += r - k - 1\n",
    "\n",
    "if r % 2 == 0:\n",
    "    arr_r = [1] + [2] * ((r // 2) - 1)  + [1]\n",
    "else:\n",
    "    arr_r = [1] + [2] *(r // 2)\n",
    "    \n",
    "#print(arr_r)\n",
    "\n",
    "arr = np.array(arr)\n",
    "if right > 1:\n",
    "    for k in range(1, right):\n",
    "        arr[k : k + len(arr_r)] += arr_r\n",
    "if left > 1:\n",
    "    for k in range(1, left):\n",
    "        arr[k : k + len(arr_r)] += arr_r\n",
    "\n",
    "for a in arr:\n",
    "    print(a)"
   ]
  },
  {
   "cell_type": "code",
   "execution_count": null,
   "metadata": {},
   "outputs": [],
   "source": []
  },
  {
   "cell_type": "code",
   "execution_count": null,
   "metadata": {},
   "outputs": [],
   "source": []
  },
  {
   "cell_type": "code",
   "execution_count": null,
   "metadata": {},
   "outputs": [],
   "source": []
  },
  {
   "cell_type": "markdown",
   "metadata": {},
   "source": [
    "# E"
   ]
  },
  {
   "cell_type": "code",
   "execution_count": 2,
   "metadata": {
    "ExecuteTime": {
     "end_time": "2020-03-28T12:36:17.038769Z",
     "start_time": "2020-03-28T12:36:17.021321Z"
    }
   },
   "outputs": [
    {
     "name": "stdout",
     "output_type": "stream",
     "text": [
      "74\n"
     ]
    }
   ],
   "source": [
    "from collections import deque\n",
    "x, y, A, B, C = list(map(int, input().split()))\n",
    "a = list(map(int, input().split()))\n",
    "b = list(map(int, input().split()))\n",
    "c = list(map(int, input().split()))\n",
    "\n",
    "a = sorted(a)[::-1]\n",
    "b = sorted(b)[::-1]\n",
    "c = sorted(c)\n",
    "\n",
    "s = 0\n",
    "\n",
    "a = a[:x]\n",
    "b = b[:y]\n",
    "s += sum(a)\n",
    "s += sum(b)\n",
    "\n",
    "a = deque(a)\n",
    "b = deque(b)\n",
    "c = deque(c)\n",
    "\n",
    "a_nex = a.pop()\n",
    "b_nex = b.pop()\n",
    "c_nex = c.pop()\n",
    "\n",
    "while True:\n",
    "#     print(s)\n",
    "    if a_nex > b_nex:\n",
    "        if c_nex > b_nex:\n",
    "            s = s - b_nex + c_nex\n",
    "            if len(b) == 0:\n",
    "                b_nex = int(2e9)\n",
    "            else:\n",
    "                b_nex = b.pop()\n",
    "            if len(c) == 0:\n",
    "                break\n",
    "            c_nex = c.pop()\n",
    "    else:\n",
    "        if c_nex > a_nex:\n",
    "            s = s - a_nex + c_nex\n",
    "            if len(a) == 0:\n",
    "                a_nex = int(2e9)\n",
    "            else:\n",
    "                a_nex = a.pop()\n",
    "            if len(c) == 0:\n",
    "                break\n",
    "            c_nex = c.pop()\n",
    "\n",
    "    if c_nex <= a_nex and c_nex <= b_nex:\n",
    "        break\n",
    "\n",
    "print(s)"
   ]
  },
  {
   "cell_type": "code",
   "execution_count": null,
   "metadata": {},
   "outputs": [],
   "source": []
  },
  {
   "cell_type": "code",
   "execution_count": null,
   "metadata": {},
   "outputs": [],
   "source": []
  },
  {
   "cell_type": "code",
   "execution_count": null,
   "metadata": {},
   "outputs": [],
   "source": []
  },
  {
   "cell_type": "markdown",
   "metadata": {},
   "source": [
    "# C"
   ]
  },
  {
   "cell_type": "code",
   "execution_count": 25,
   "metadata": {
    "ExecuteTime": {
     "end_time": "2020-03-28T12:07:34.249612Z",
     "start_time": "2020-03-28T12:07:34.241019Z"
    }
   },
   "outputs": [],
   "source": [
    "k, n =  list(map(int, input().split()))\n",
    "a = list(map(int, input().split()))\n",
    "\n",
    "import numpy as np\n",
    "\n",
    "d = np.diff(a)\n",
    "d = np.append(d, k - a[-1] + a[0])\n",
    "\n",
    "print(np.sum(np.sort(d)[:-1]))"
   ]
  },
  {
   "cell_type": "code",
   "execution_count": null,
   "metadata": {},
   "outputs": [],
   "source": []
  },
  {
   "cell_type": "code",
   "execution_count": null,
   "metadata": {},
   "outputs": [],
   "source": []
  },
  {
   "cell_type": "markdown",
   "metadata": {},
   "source": [
    "# B"
   ]
  },
  {
   "cell_type": "code",
   "execution_count": 7,
   "metadata": {
    "ExecuteTime": {
     "end_time": "2020-03-28T12:02:56.236713Z",
     "start_time": "2020-03-28T12:02:56.229146Z"
    }
   },
   "outputs": [
    {
     "name": "stdout",
     "output_type": "stream",
     "text": [
      "2000000000\n"
     ]
    }
   ],
   "source": [
    "x = int(input())\n",
    "score = 0\n",
    "score += (x // 500) * 1000\n",
    "score += ((x % 500) // 5) * 5\n",
    "print(score)"
   ]
  },
  {
   "cell_type": "code",
   "execution_count": null,
   "metadata": {},
   "outputs": [],
   "source": []
  },
  {
   "cell_type": "markdown",
   "metadata": {},
   "source": [
    "# A"
   ]
  },
  {
   "cell_type": "code",
   "execution_count": 3,
   "metadata": {
    "ExecuteTime": {
     "end_time": "2020-03-28T12:01:04.765296Z",
     "start_time": "2020-03-28T12:01:04.759213Z"
    }
   },
   "outputs": [
    {
     "name": "stdout",
     "output_type": "stream",
     "text": [
      "No\n"
     ]
    }
   ],
   "source": [
    "s = input()\n",
    "if s[2] == s[3] and s[4] == s[5]:\n",
    "    print(\"Yes\")\n",
    "else:\n",
    "    print(\"No\")"
   ]
  },
  {
   "cell_type": "code",
   "execution_count": null,
   "metadata": {},
   "outputs": [],
   "source": []
  },
  {
   "cell_type": "code",
   "execution_count": null,
   "metadata": {},
   "outputs": [],
   "source": []
  },
  {
   "cell_type": "code",
   "execution_count": null,
   "metadata": {},
   "outputs": [],
   "source": []
  }
 ],
 "metadata": {
  "hide_input": false,
  "kernelspec": {
   "display_name": "Python 3",
   "language": "python",
   "name": "python3"
  },
  "language_info": {
   "codemirror_mode": {
    "name": "ipython",
    "version": 3
   },
   "file_extension": ".py",
   "mimetype": "text/x-python",
   "name": "python",
   "nbconvert_exporter": "python",
   "pygments_lexer": "ipython3",
   "version": "3.7.3"
  },
  "toc": {
   "base_numbering": 1,
   "nav_menu": {},
   "number_sections": true,
   "sideBar": true,
   "skip_h1_title": false,
   "title_cell": "Table of Contents",
   "title_sidebar": "Contents",
   "toc_cell": false,
   "toc_position": {},
   "toc_section_display": true,
   "toc_window_display": false
  }
 },
 "nbformat": 4,
 "nbformat_minor": 2
}
