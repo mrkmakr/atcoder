{
 "cells": [
  {
   "cell_type": "code",
   "execution_count": 1,
   "metadata": {
    "ExecuteTime": {
     "end_time": "2020-03-21T12:17:53.957828Z",
     "start_time": "2020-03-21T12:17:53.928901Z"
    }
   },
   "outputs": [
    {
     "data": {
      "application/vnd.jupyter.widget-view+json": {
       "model_id": "",
       "version_major": 2,
       "version_minor": 0
      },
      "text/plain": [
       "Textarea(value='')"
      ]
     },
     "metadata": {},
     "output_type": "display_data"
    }
   ],
   "source": [
    "from ipywidgets import Textarea\n",
    "import io\n",
    "\n",
    "if 'input' in globals():\n",
    "    del input\n",
    "\n",
    "class custom_input():\n",
    "    def __init__(self):\n",
    "        self.__sio = io.StringIO('')\n",
    "        self.shell = get_ipython()\n",
    "        if self.shell.events.callbacks['pre_run_cell'] != []:\n",
    "            self.shell.events.callbacks['pre_run_cell'] = []\n",
    "        self.shell.events.register('pre_run_cell', self.pre_run_cell)\n",
    "\n",
    "    def __call__(self):\n",
    "        return self.__sio.readline().strip()\n",
    "\n",
    "    def pre_run_cell(self, info):\n",
    "        text = self.shell.user_ns.get('text_area', None).value\n",
    "        self.__sio = io.StringIO(text)\n",
    "input = custom_input()\n",
    "\n",
    "text_area = Textarea()\n",
    "display(text_area)"
   ]
  },
  {
   "cell_type": "code",
   "execution_count": null,
   "metadata": {
    "ExecuteTime": {
     "end_time": "2020-03-21T12:17:03.663722Z",
     "start_time": "2020-03-21T12:17:03.654818Z"
    }
   },
   "outputs": [],
   "source": []
  },
  {
   "cell_type": "markdown",
   "metadata": {},
   "source": [
    "# A"
   ]
  },
  {
   "cell_type": "code",
   "execution_count": 2,
   "metadata": {
    "ExecuteTime": {
     "end_time": "2020-03-21T12:18:00.447988Z",
     "start_time": "2020-03-21T12:18:00.202203Z"
    }
   },
   "outputs": [
    {
     "name": "stdout",
     "output_type": "stream",
     "text": [
      "4\n"
     ]
    }
   ],
   "source": [
    "import numpy as np\n",
    "h, w = list(map(int, input().split()))\n",
    "ss = []\n",
    "for _ in range(h):\n",
    "    s = input()\n",
    "    s = s.replace(\".\", \"0\").replace(\"#\", \"1\")\n",
    "    s = list(map(int, list(s)))\n",
    "    ss.append(s)\n",
    "ss = np.array(ss)\n",
    "    \n",
    "\n",
    "dp = np.zeros((h, w)).astype(np.int32)\n",
    "if ss[0,0] == 1:\n",
    "    dp[0,0] = 1\n",
    "    \n",
    "\n",
    "for kh in range(h):\n",
    "    for kw in range(w):\n",
    "#         print(kh, kw)\n",
    "#         print(dp)\n",
    "        if kh == 0 and kw == 0:\n",
    "            continue\n",
    "        if kh == 0:\n",
    "            a = 9999\n",
    "        else:\n",
    "            if ss[kh - 1, kw] == 0 and ss[kh, kw] == 1:\n",
    "                a = dp[kh - 1, kw] + 1\n",
    "            else:\n",
    "                a = dp[kh - 1, kw]\n",
    "\n",
    "        if kw == 0:\n",
    "            b = 9999\n",
    "        else:\n",
    "            if ss[kh, kw - 1] == 0 and ss[kh, kw] == 1:\n",
    "                b = dp[kh, kw - 1] + 1\n",
    "            else:\n",
    "                b = dp[kh, kw - 1]\n",
    "\n",
    "        dp[kh, kw] = min([a, b])\n",
    "\n",
    "print(dp[-1, -1])"
   ]
  },
  {
   "cell_type": "code",
   "execution_count": null,
   "metadata": {},
   "outputs": [],
   "source": []
  },
  {
   "cell_type": "markdown",
   "metadata": {},
   "source": [
    "# B"
   ]
  },
  {
   "cell_type": "markdown",
   "metadata": {},
   "source": [
    "## tryしたけど何もわからなかった残骸"
   ]
  },
  {
   "cell_type": "code",
   "execution_count": 108,
   "metadata": {
    "ExecuteTime": {
     "end_time": "2020-03-21T12:38:15.533462Z",
     "start_time": "2020-03-21T12:38:15.500412Z"
    }
   },
   "outputs": [
    {
     "data": {
      "application/vnd.jupyter.widget-view+json": {
       "model_id": "99baef182000428e80630da688e89e6d",
       "version_major": 2,
       "version_minor": 0
      },
      "text/plain": [
       "Textarea(value='')"
      ]
     },
     "metadata": {},
     "output_type": "display_data"
    }
   ],
   "source": [
    "from ipywidgets import Textarea\n",
    "import io\n",
    "\n",
    "if 'input' in globals():\n",
    "    del input\n",
    "\n",
    "class custom_input():\n",
    "    def __init__(self):\n",
    "        self.__sio = io.StringIO('')\n",
    "        self.shell = get_ipython()\n",
    "        if self.shell.events.callbacks['pre_run_cell'] != []:\n",
    "            self.shell.events.callbacks['pre_run_cell'] = []\n",
    "        self.shell.events.register('pre_run_cell', self.pre_run_cell)\n",
    "\n",
    "    def __call__(self):\n",
    "        return self.__sio.readline().strip()\n",
    "\n",
    "    def pre_run_cell(self, info):\n",
    "        text = self.shell.user_ns.get('text_area', None).value\n",
    "        self.__sio = io.StringIO(text)\n",
    "input = custom_input()\n",
    "\n",
    "text_area = Textarea()\n",
    "display(text_area)"
   ]
  },
  {
   "cell_type": "code",
   "execution_count": null,
   "metadata": {},
   "outputs": [],
   "source": []
  },
  {
   "cell_type": "code",
   "execution_count": null,
   "metadata": {},
   "outputs": [],
   "source": []
  },
  {
   "cell_type": "code",
   "execution_count": null,
   "metadata": {
    "ExecuteTime": {
     "end_time": "2020-03-21T12:51:48.100773Z",
     "start_time": "2020-03-21T12:51:40.445948Z"
    }
   },
   "outputs": [],
   "source": [
    "%%time\n",
    "import numpy as np\n",
    "\n",
    "n = int(input())\n",
    "a = list(map(int, list(input())))\n",
    "\n",
    "\n",
    "n = 100000\n",
    "a = np.random.randint(0, 4, n)"
   ]
  },
  {
   "cell_type": "code",
   "execution_count": 119,
   "metadata": {
    "ExecuteTime": {
     "end_time": "2020-03-21T12:53:33.853141Z",
     "start_time": "2020-03-21T12:53:33.845306Z"
    }
   },
   "outputs": [
    {
     "data": {
      "text/plain": [
       "array([2, 3, 3, ..., 0, 0, 3])"
      ]
     },
     "execution_count": 119,
     "metadata": {},
     "output_type": "execute_result"
    }
   ],
   "source": [
    "a"
   ]
  },
  {
   "cell_type": "code",
   "execution_count": null,
   "metadata": {},
   "outputs": [],
   "source": []
  },
  {
   "cell_type": "code",
   "execution_count": null,
   "metadata": {},
   "outputs": [],
   "source": []
  },
  {
   "cell_type": "code",
   "execution_count": 122,
   "metadata": {
    "ExecuteTime": {
     "end_time": "2020-03-21T13:02:09.888824Z",
     "start_time": "2020-03-21T13:02:03.488026Z"
    },
    "scrolled": true
   },
   "outputs": [
    {
     "name": "stdout",
     "output_type": "stream",
     "text": [
      "0\n",
      "CPU times: user 6.2 s, sys: 71.1 ms, total: 6.27 s\n",
      "Wall time: 6.4 s\n"
     ]
    }
   ],
   "source": [
    "%%time\n",
    "\n",
    "n = 100000\n",
    "a = np.random.randint(1, 4, n)\n",
    "x = a\n",
    "while len(x) > 1:\n",
    "    x = np.abs(np.diff(x))\n",
    "print(x[0])"
   ]
  },
  {
   "cell_type": "code",
   "execution_count": null,
   "metadata": {},
   "outputs": [],
   "source": []
  },
  {
   "cell_type": "code",
   "execution_count": 221,
   "metadata": {
    "ExecuteTime": {
     "end_time": "2020-03-21T14:10:23.351688Z",
     "start_time": "2020-03-21T14:10:23.344255Z"
    },
    "scrolled": true
   },
   "outputs": [
    {
     "name": "stdout",
     "output_type": "stream",
     "text": [
      "0\n",
      "CPU times: user 397 µs, sys: 176 µs, total: 573 µs\n",
      "Wall time: 440 µs\n"
     ]
    }
   ],
   "source": [
    "%%time\n",
    "\n",
    "n = 5\n",
    "a = np.random.randint(1, 4, n)\n",
    "x = a\n",
    "while len(x) > 1:\n",
    "    x = np.abs(np.diff(x))\n",
    "print(x[0])"
   ]
  },
  {
   "cell_type": "code",
   "execution_count": 224,
   "metadata": {
    "ExecuteTime": {
     "end_time": "2020-03-21T14:10:31.434103Z",
     "start_time": "2020-03-21T14:10:31.421920Z"
    }
   },
   "outputs": [
    {
     "data": {
      "text/plain": [
       "array([1, 1, 0, 2])"
      ]
     },
     "execution_count": 224,
     "metadata": {},
     "output_type": "execute_result"
    }
   ],
   "source": [
    "np.abs(np.diff(a))"
   ]
  },
  {
   "cell_type": "code",
   "execution_count": 225,
   "metadata": {
    "ExecuteTime": {
     "end_time": "2020-03-21T14:10:33.405465Z",
     "start_time": "2020-03-21T14:10:33.396444Z"
    }
   },
   "outputs": [
    {
     "data": {
      "text/plain": [
       "array([1, 2, 3, 3, 1])"
      ]
     },
     "execution_count": 225,
     "metadata": {},
     "output_type": "execute_result"
    }
   ],
   "source": [
    "a"
   ]
  },
  {
   "cell_type": "code",
   "execution_count": null,
   "metadata": {},
   "outputs": [],
   "source": []
  },
  {
   "cell_type": "code",
   "execution_count": 232,
   "metadata": {
    "ExecuteTime": {
     "end_time": "2020-03-21T14:34:09.863656Z",
     "start_time": "2020-03-21T14:34:09.850668Z"
    }
   },
   "outputs": [
    {
     "name": "stdout",
     "output_type": "stream",
     "text": [
      "1\n",
      "8\n",
      "0\n"
     ]
    }
   ],
   "source": [
    "N = int(input())\n",
    "a = list(map(int, list(input())))\n",
    "\n",
    "while N != 0:\n",
    "\tprint(digit)\n",
    "\tdigit = 1\n",
    "\twhile digit < N // 2:\n",
    "\t\tdigit *= 2\n",
    "\n",
    "\tx = []\n",
    "\tfor i in range(digit, N):\n",
    "\t\tx.append(abs(a[i - digit] - a[i]))\n",
    "\n",
    "\ta = x\n",
    "\tN -= digit\n",
    "\tif len(x) == 1:\n",
    "\t\tbreak\n",
    "\n",
    "print(a[0])\n"
   ]
  },
  {
   "cell_type": "code",
   "execution_count": null,
   "metadata": {},
   "outputs": [],
   "source": []
  },
  {
   "cell_type": "code",
   "execution_count": null,
   "metadata": {},
   "outputs": [],
   "source": []
  },
  {
   "cell_type": "code",
   "execution_count": null,
   "metadata": {},
   "outputs": [],
   "source": []
  },
  {
   "cell_type": "code",
   "execution_count": null,
   "metadata": {},
   "outputs": [],
   "source": []
  },
  {
   "cell_type": "code",
   "execution_count": null,
   "metadata": {},
   "outputs": [],
   "source": []
  },
  {
   "cell_type": "code",
   "execution_count": null,
   "metadata": {},
   "outputs": [],
   "source": []
  },
  {
   "cell_type": "code",
   "execution_count": 168,
   "metadata": {
    "ExecuteTime": {
     "end_time": "2020-03-21T13:25:49.142328Z",
     "start_time": "2020-03-21T13:25:49.134984Z"
    }
   },
   "outputs": [
    {
     "name": "stdout",
     "output_type": "stream",
     "text": [
      "CPU times: user 63 µs, sys: 14 µs, total: 77 µs\n",
      "Wall time: 70.1 µs\n"
     ]
    }
   ],
   "source": [
    "%%time\n",
    "n = 10\n",
    "a = np.random.randint(1, 4, n)\n",
    "x = a - 1"
   ]
  },
  {
   "cell_type": "code",
   "execution_count": 169,
   "metadata": {
    "ExecuteTime": {
     "end_time": "2020-03-21T13:25:50.154062Z",
     "start_time": "2020-03-21T13:25:50.148433Z"
    }
   },
   "outputs": [],
   "source": [
    "a = \"\".join(x.astype(str))"
   ]
  },
  {
   "cell_type": "code",
   "execution_count": 170,
   "metadata": {
    "ExecuteTime": {
     "end_time": "2020-03-21T13:25:50.718754Z",
     "start_time": "2020-03-21T13:25:50.714478Z"
    }
   },
   "outputs": [],
   "source": [
    "x = a"
   ]
  },
  {
   "cell_type": "code",
   "execution_count": 184,
   "metadata": {
    "ExecuteTime": {
     "end_time": "2020-03-21T13:26:53.590483Z",
     "start_time": "2020-03-21T13:26:53.584596Z"
    }
   },
   "outputs": [],
   "source": [
    "from itertools import combinations, repeat, permutations, "
   ]
  },
  {
   "cell_type": "code",
   "execution_count": null,
   "metadata": {},
   "outputs": [],
   "source": []
  },
  {
   "cell_type": "code",
   "execution_count": null,
   "metadata": {},
   "outputs": [],
   "source": []
  },
  {
   "cell_type": "code",
   "execution_count": 164,
   "metadata": {
    "ExecuteTime": {
     "end_time": "2020-03-21T13:25:12.953395Z",
     "start_time": "2020-03-21T13:25:12.944133Z"
    }
   },
   "outputs": [
    {
     "data": {
      "text/plain": [
       "'210'"
      ]
     },
     "execution_count": 164,
     "metadata": {},
     "output_type": "execute_result"
    }
   ],
   "source": []
  },
  {
   "cell_type": "code",
   "execution_count": null,
   "metadata": {},
   "outputs": [],
   "source": []
  },
  {
   "cell_type": "code",
   "execution_count": null,
   "metadata": {},
   "outputs": [],
   "source": [
    "dic = {}\n",
    "def step(z):\n",
    "    if z in dic.keys():\n",
    "        dic[z] = "
   ]
  },
  {
   "cell_type": "code",
   "execution_count": null,
   "metadata": {
    "ExecuteTime": {
     "end_time": "2020-03-21T13:18:24.513049Z",
     "start_time": "2020-03-21T13:18:24.505296Z"
    }
   },
   "outputs": [],
   "source": [
    "while len(x) > 1:\n",
    "    x = np.abs(np.diff(x))\n",
    "print(x[0])"
   ]
  },
  {
   "cell_type": "code",
   "execution_count": null,
   "metadata": {},
   "outputs": [],
   "source": []
  },
  {
   "cell_type": "code",
   "execution_count": null,
   "metadata": {},
   "outputs": [],
   "source": []
  },
  {
   "cell_type": "code",
   "execution_count": null,
   "metadata": {},
   "outputs": [],
   "source": []
  },
  {
   "cell_type": "code",
   "execution_count": null,
   "metadata": {},
   "outputs": [],
   "source": []
  },
  {
   "cell_type": "code",
   "execution_count": null,
   "metadata": {},
   "outputs": [],
   "source": []
  },
  {
   "cell_type": "code",
   "execution_count": 101,
   "metadata": {
    "ExecuteTime": {
     "end_time": "2020-03-21T12:37:50.033006Z",
     "start_time": "2020-03-21T12:37:50.025426Z"
    }
   },
   "outputs": [
    {
     "name": "stdout",
     "output_type": "stream",
     "text": [
      "CPU times: user 278 µs, sys: 131 µs, total: 409 µs\n",
      "Wall time: 258 µs\n"
     ]
    }
   ],
   "source": []
  },
  {
   "cell_type": "code",
   "execution_count": 104,
   "metadata": {
    "ExecuteTime": {
     "end_time": "2020-03-21T12:37:56.263808Z",
     "start_time": "2020-03-21T12:37:51.795505Z"
    }
   },
   "outputs": [
    {
     "name": "stdout",
     "output_type": "stream",
     "text": [
      "CPU times: user 4.4 s, sys: 16.3 ms, total: 4.41 s\n",
      "Wall time: 4.46 s\n"
     ]
    }
   ],
   "source": [
    "%%time\n",
    "\n",
    "x = a\n",
    "dic = {}\n",
    "for i in range(1, n):\n",
    "    y = [-1] * (n - i)\n",
    "    for k in range(n - i):\n",
    "        y[k] = abs(x[k] - x[k+1])\n",
    "    x = y\n",
    "#     print(x)\n"
   ]
  },
  {
   "cell_type": "code",
   "execution_count": 105,
   "metadata": {
    "ExecuteTime": {
     "end_time": "2020-03-21T12:37:56.276794Z",
     "start_time": "2020-03-21T12:37:56.267253Z"
    }
   },
   "outputs": [
    {
     "data": {
      "text/plain": [
       "[0]"
      ]
     },
     "execution_count": 105,
     "metadata": {},
     "output_type": "execute_result"
    }
   ],
   "source": [
    "x"
   ]
  },
  {
   "cell_type": "code",
   "execution_count": null,
   "metadata": {},
   "outputs": [],
   "source": []
  },
  {
   "cell_type": "code",
   "execution_count": null,
   "metadata": {},
   "outputs": [],
   "source": []
  },
  {
   "cell_type": "code",
   "execution_count": 59,
   "metadata": {
    "ExecuteTime": {
     "end_time": "2020-03-21T12:31:10.483702Z",
     "start_time": "2020-03-21T12:31:10.474667Z"
    }
   },
   "outputs": [
    {
     "data": {
      "text/plain": [
       "array([3])"
      ]
     },
     "execution_count": 59,
     "metadata": {},
     "output_type": "execute_result"
    }
   ],
   "source": [
    "x[k : k + 1]"
   ]
  },
  {
   "cell_type": "code",
   "execution_count": null,
   "metadata": {},
   "outputs": [],
   "source": []
  },
  {
   "cell_type": "code",
   "execution_count": 56,
   "metadata": {
    "ExecuteTime": {
     "end_time": "2020-03-21T12:30:56.025561Z",
     "start_time": "2020-03-21T12:30:56.015824Z"
    }
   },
   "outputs": [
    {
     "data": {
      "text/plain": [
       "array([1])"
      ]
     },
     "execution_count": 56,
     "metadata": {},
     "output_type": "execute_result"
    }
   ],
   "source": [
    "a[k : k + 1]"
   ]
  },
  {
   "cell_type": "code",
   "execution_count": 55,
   "metadata": {
    "ExecuteTime": {
     "end_time": "2020-03-21T12:30:26.851956Z",
     "start_time": "2020-03-21T12:30:26.841974Z"
    }
   },
   "outputs": [
    {
     "data": {
      "text/plain": [
       "array([1, 3, 3, 2, 3, 0, 3, 2, 0, 2, 0, 0, 2, 1, 1, 2, 0, 1, 1, 1, 2, 2,\n",
       "       2, 3, 1, 1, 2, 0, 0, 2, 2, 0, 0, 2, 0, 1, 3, 1, 3, 0, 2, 2, 2, 0,\n",
       "       3, 0, 3, 0, 1, 2, 1, 2, 1, 3, 3, 2, 1, 2, 0, 0, 2, 3, 1, 0, 3, 3,\n",
       "       3, 2, 1, 2, 2, 2, 1, 3, 1, 2, 2, 0, 1, 3, 2, 0, 2, 2, 2, 1, 2, 1,\n",
       "       0, 1, 0, 3, 0, 2, 3, 1, 1, 0, 1, 2, 1, 0, 3, 3, 2, 3, 1, 0, 1, 1,\n",
       "       0, 3, 0, 1, 2, 0, 3, 0, 3, 0, 3, 1, 1, 2, 1, 3, 2, 2, 1, 1, 2, 1,\n",
       "       2, 3, 0, 2, 0, 2, 3, 3, 2, 2, 1, 2, 1, 2, 3, 1, 2, 2, 1, 3, 0, 0,\n",
       "       2, 1, 3, 2, 2, 1, 3, 3, 3, 0, 1, 2, 0, 0, 2, 1, 3, 3, 0, 0, 1, 3,\n",
       "       1, 2, 1, 0, 1, 2, 0, 0, 1, 2, 3, 1, 1, 1, 0, 1, 1, 3, 1, 2, 0, 2,\n",
       "       2, 2, 3, 3, 3, 3, 0, 3, 3, 1, 0, 1, 1, 2, 1, 0, 2, 2, 2, 2, 2, 1,\n",
       "       3, 3, 3, 2, 3, 2, 2, 3, 1, 2, 1, 1, 2, 3, 3, 0, 2, 1, 2, 1, 1, 2,\n",
       "       3, 2, 3, 3, 0, 2, 1, 3, 0, 1, 2, 3, 1, 2, 1, 1, 0, 1, 2, 1, 2, 0,\n",
       "       0, 2, 0, 2, 0, 2, 1, 0, 0, 3, 2, 3, 2, 0, 0, 0, 3, 3, 2, 0, 1, 3,\n",
       "       0, 0, 0, 1, 0, 0, 1, 0, 3, 0, 3, 2, 2, 0, 2, 3, 3, 3, 0, 1, 3, 1,\n",
       "       3, 3, 2, 3, 1, 2, 3, 0, 2, 0, 1, 0, 0, 2, 3, 3, 0, 0, 2, 2, 0, 3,\n",
       "       1, 0, 1, 2, 3, 0, 1, 1, 1, 1, 1, 0, 2, 2, 2, 1, 3, 3, 0, 1, 0, 0,\n",
       "       0, 2, 0, 0, 2, 2, 2, 3, 2, 0, 1, 2, 1, 3, 0, 0, 0, 3, 3, 3, 0, 2,\n",
       "       0, 1, 3, 3, 1, 2, 3, 2, 0, 3, 1, 2, 1, 0, 3, 3, 1, 1, 1, 1, 2, 1,\n",
       "       1, 2, 3, 0, 3, 1, 2, 1, 3, 1, 3, 3, 1, 3, 0, 2, 1, 2, 1, 3, 2, 0,\n",
       "       3, 0, 0, 2, 0, 1, 3, 2, 1, 0, 2, 2, 2, 0, 1, 3, 2, 2, 1, 2, 2, 0,\n",
       "       0, 3, 2, 1, 3, 3, 0, 3, 3, 2, 2, 0, 0, 0, 2, 2, 2, 3, 1, 0, 3, 3,\n",
       "       3, 1, 3, 3, 3, 1, 2, 1, 2, 0, 2, 2, 2, 3, 3, 2, 1, 2, 0, 2, 3, 3,\n",
       "       2, 0, 1, 2, 3, 3, 3, 0, 1, 0, 1, 1, 1, 1, 1, 1, 3, 3, 0, 2, 0, 0,\n",
       "       1, 0, 2, 1, 3, 3, 0, 2, 0, 0, 0, 1, 2, 0, 0, 2, 0, 2, 2, 1, 1, 2,\n",
       "       1, 2, 2, 3, 1, 2, 3, 2, 2, 2, 0, 2, 0, 2, 2, 2, 2, 2, 0, 0, 1, 3,\n",
       "       2, 3, 0, 2, 0, 2, 3, 3, 1, 2, 3, 1, 3, 2, 1, 1, 0, 1, 1, 0, 0, 2,\n",
       "       0, 2, 2, 2, 3, 3, 2, 3, 2, 0, 2, 2, 3, 2, 1, 2, 2, 2, 3, 1, 3, 1,\n",
       "       3, 3, 3, 1, 0, 3, 1, 2, 3, 1, 2, 2, 0, 0, 0, 0, 3, 2, 1, 0, 2, 1,\n",
       "       2, 1, 3, 3, 1, 0, 1, 0, 2, 0, 0, 2, 3, 1, 3, 2, 0, 2, 2, 0, 2, 1,\n",
       "       3, 0, 2, 1, 0, 2, 1, 3, 2, 1, 1, 0, 2, 0, 3, 1, 2, 3, 1, 2, 2, 0,\n",
       "       0, 0, 2, 2, 1, 2, 0, 3, 2, 0, 3, 1, 3, 0, 3, 0, 1, 2, 2, 2, 2, 3,\n",
       "       3, 0, 3, 1, 0, 0, 0, 3, 2, 2, 2, 3, 1, 0, 1, 0, 2, 3, 1, 1, 3, 0,\n",
       "       2, 1, 1, 3, 2, 1, 1, 2, 1, 0, 3, 2, 1, 3, 0, 3, 1, 0, 3, 3, 2, 0,\n",
       "       1, 2, 0, 0, 2, 0, 2, 0, 3, 3, 1, 1, 0, 1, 3, 2, 2, 3, 3, 3, 1, 2,\n",
       "       1, 3, 1, 1, 1, 1, 2, 3, 2, 2, 3, 3, 2, 3, 3, 3, 3, 3, 1, 1, 1, 2,\n",
       "       2, 3, 3, 3, 3, 0, 3, 3, 2, 2, 0, 1, 3, 0, 3, 3, 0, 3, 0, 1, 3, 1,\n",
       "       1, 3, 3, 0, 0, 1, 1, 2, 0, 1, 3, 0, 0, 1, 3, 1, 2, 3, 3, 0, 2, 0,\n",
       "       2, 0, 1, 3, 2, 3, 1, 3, 3, 0, 3, 2, 1, 2, 1, 3, 1, 2, 3, 2, 3, 1,\n",
       "       1, 0, 1, 0, 2, 2, 2, 3, 2, 1, 3, 1, 3, 1, 3, 0, 1, 3, 3, 3, 1, 1,\n",
       "       0, 3, 3, 1, 3, 0, 0, 2, 2, 1, 3, 1, 3, 0, 0, 2, 2, 2, 1, 0, 2, 2,\n",
       "       2, 0, 0, 3, 0, 0, 2, 1, 1, 0, 1, 2, 1, 3, 0, 1, 1, 2, 3, 2, 1, 0,\n",
       "       3, 0, 3, 1, 0, 3, 3, 3, 2, 0, 1, 1, 3, 1, 3, 2, 1, 3, 3, 1, 3, 0,\n",
       "       3, 0, 3, 0, 3, 3, 0, 1, 3, 2, 2, 0, 1, 2, 1, 0, 2, 3, 3, 0, 2, 1,\n",
       "       2, 1, 0, 1, 1, 1, 0, 2, 2, 2, 0, 3, 1, 3, 0, 3, 2, 1, 2, 2, 2, 2,\n",
       "       0, 1, 2, 3, 1, 1, 3, 0, 3, 1, 0, 2, 2, 3, 3, 2, 2, 0, 2, 1, 3, 0,\n",
       "       3, 1, 3, 3, 1, 3, 0, 3, 2, 3])"
      ]
     },
     "execution_count": 55,
     "metadata": {},
     "output_type": "execute_result"
    }
   ],
   "source": [
    "a"
   ]
  },
  {
   "cell_type": "code",
   "execution_count": null,
   "metadata": {},
   "outputs": [],
   "source": []
  },
  {
   "cell_type": "code",
   "execution_count": 59,
   "metadata": {
    "ExecuteTime": {
     "end_time": "2020-03-21T12:11:10.723618Z",
     "start_time": "2020-03-21T12:11:10.716918Z"
    }
   },
   "outputs": [
    {
     "data": {
      "text/plain": [
       "1"
      ]
     },
     "execution_count": 59,
     "metadata": {},
     "output_type": "execute_result"
    }
   ],
   "source": [
    "kh"
   ]
  },
  {
   "cell_type": "code",
   "execution_count": 60,
   "metadata": {
    "ExecuteTime": {
     "end_time": "2020-03-21T12:11:12.973375Z",
     "start_time": "2020-03-21T12:11:12.965353Z"
    }
   },
   "outputs": [
    {
     "data": {
      "text/plain": [
       "3"
      ]
     },
     "execution_count": 60,
     "metadata": {},
     "output_type": "execute_result"
    }
   ],
   "source": [
    "kw"
   ]
  },
  {
   "cell_type": "code",
   "execution_count": 57,
   "metadata": {
    "ExecuteTime": {
     "end_time": "2020-03-21T12:10:27.946474Z",
     "start_time": "2020-03-21T12:10:27.935629Z"
    }
   },
   "outputs": [
    {
     "data": {
      "text/plain": [
       "array([[9999, 9999, 9999, 9999],\n",
       "       [9999,    1,    0,    0],\n",
       "       [9999,    0,    0,    0],\n",
       "       [9999,    0,    0,    0]], dtype=int32)"
      ]
     },
     "execution_count": 57,
     "metadata": {},
     "output_type": "execute_result"
    }
   ],
   "source": [
    "dp"
   ]
  },
  {
   "cell_type": "code",
   "execution_count": null,
   "metadata": {},
   "outputs": [],
   "source": []
  },
  {
   "cell_type": "code",
   "execution_count": null,
   "metadata": {},
   "outputs": [],
   "source": []
  },
  {
   "cell_type": "code",
   "execution_count": 35,
   "metadata": {
    "ExecuteTime": {
     "end_time": "2020-03-21T12:08:29.972950Z",
     "start_time": "2020-03-21T12:08:29.960378Z"
    }
   },
   "outputs": [
    {
     "ename": "NameError",
     "evalue": "name 'kh' is not defined",
     "output_type": "error",
     "traceback": [
      "\u001b[0;31m---------------------------------------------------------------------------\u001b[0m",
      "\u001b[0;31mNameError\u001b[0m                                 Traceback (most recent call last)",
      "\u001b[0;32m<ipython-input-35-e27b18f4d2a0>\u001b[0m in \u001b[0;36m<module>\u001b[0;34m\u001b[0m\n\u001b[0;32m----> 1\u001b[0;31m \u001b[0mdp\u001b[0m\u001b[0;34m[\u001b[0m\u001b[0mkh\u001b[0m \u001b[0;34m-\u001b[0m \u001b[0;36m1\u001b[0m\u001b[0;34m,\u001b[0m \u001b[0mkw\u001b[0m\u001b[0;34m]\u001b[0m\u001b[0;34m\u001b[0m\u001b[0;34m\u001b[0m\u001b[0m\n\u001b[0m",
      "\u001b[0;31mNameError\u001b[0m: name 'kh' is not defined"
     ]
    }
   ],
   "source": [
    "dp[kh - 1, kw]"
   ]
  },
  {
   "cell_type": "code",
   "execution_count": null,
   "metadata": {},
   "outputs": [],
   "source": []
  },
  {
   "cell_type": "code",
   "execution_count": null,
   "metadata": {},
   "outputs": [],
   "source": []
  },
  {
   "cell_type": "code",
   "execution_count": null,
   "metadata": {},
   "outputs": [],
   "source": []
  }
 ],
 "metadata": {
  "hide_input": false,
  "kernelspec": {
   "display_name": "Python 3",
   "language": "python",
   "name": "python3"
  },
  "language_info": {
   "codemirror_mode": {
    "name": "ipython",
    "version": 3
   },
   "file_extension": ".py",
   "mimetype": "text/x-python",
   "name": "python",
   "nbconvert_exporter": "python",
   "pygments_lexer": "ipython3",
   "version": "3.7.3"
  },
  "toc": {
   "base_numbering": 1,
   "nav_menu": {},
   "number_sections": true,
   "sideBar": true,
   "skip_h1_title": false,
   "title_cell": "Table of Contents",
   "title_sidebar": "Contents",
   "toc_cell": false,
   "toc_position": {},
   "toc_section_display": true,
   "toc_window_display": false
  }
 },
 "nbformat": 4,
 "nbformat_minor": 2
}
