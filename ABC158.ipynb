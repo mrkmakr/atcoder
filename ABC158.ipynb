{
 "cells": [
  {
   "cell_type": "code",
   "execution_count": 1,
   "metadata": {
    "ExecuteTime": {
     "end_time": "2020-03-15T06:33:27.151535Z",
     "start_time": "2020-03-15T06:33:27.119943Z"
    }
   },
   "outputs": [
    {
     "data": {
      "application/vnd.jupyter.widget-view+json": {
       "model_id": "4b85b1b90afa45ec8ddb9d4dfac3e6d8",
       "version_major": 2,
       "version_minor": 0
      },
      "text/plain": [
       "Textarea(value='')"
      ]
     },
     "metadata": {},
     "output_type": "display_data"
    }
   ],
   "source": [
    "from ipywidgets import Textarea\n",
    "import io\n",
    "\n",
    "if 'input' in globals():\n",
    "    del input\n",
    "\n",
    "class custom_input():\n",
    "    def __init__(self):\n",
    "        self.__sio = io.StringIO('')\n",
    "        self.shell = get_ipython()\n",
    "        if self.shell.events.callbacks['pre_run_cell'] != []:\n",
    "            self.shell.events.callbacks['pre_run_cell'] = []\n",
    "        self.shell.events.register('pre_run_cell', self.pre_run_cell)\n",
    "\n",
    "    def __call__(self):\n",
    "        return self.__sio.readline().strip()\n",
    "\n",
    "    def pre_run_cell(self, info):\n",
    "        text = self.shell.user_ns.get('text_area', None).value\n",
    "        self.__sio = io.StringIO(text)\n",
    "input = custom_input()\n",
    "\n",
    "text_area = Textarea()\n",
    "display(text_area)"
   ]
  },
  {
   "cell_type": "markdown",
   "metadata": {},
   "source": [
    "# C"
   ]
  },
  {
   "cell_type": "code",
   "execution_count": 2,
   "metadata": {
    "ExecuteTime": {
     "end_time": "2020-03-15T06:33:33.250556Z",
     "start_time": "2020-03-15T06:33:33.236267Z"
    }
   },
   "outputs": [
    {
     "name": "stdout",
     "output_type": "stream",
     "text": [
      "25\n"
     ]
    }
   ],
   "source": [
    "a, b = map(int, input().split())\n",
    "flag = False\n",
    "for x in range(1, 1001):\n",
    "    if int(x * 0.08) == a:\n",
    "        if int(x * 0.1) == b:\n",
    "            print(x)\n",
    "            flag = True\n",
    "            break\n",
    "if flag == False:\n",
    "    print(-1)"
   ]
  },
  {
   "cell_type": "markdown",
   "metadata": {},
   "source": [
    "# D"
   ]
  },
  {
   "cell_type": "code",
   "execution_count": 36,
   "metadata": {
    "ExecuteTime": {
     "end_time": "2020-03-15T06:43:42.360540Z",
     "start_time": "2020-03-15T06:43:42.346097Z"
    }
   },
   "outputs": [
    {
     "name": "stdout",
     "output_type": "stream",
     "text": [
      "aabc\n"
     ]
    }
   ],
   "source": [
    "s = input()\n",
    "q = int(input())\n",
    "\n",
    "pres = []\n",
    "posts = []\n",
    "mode = 0\n",
    "for _ in range(q):\n",
    "    query = input().split()\n",
    "#     print(s, query, mode, pres, posts)\n",
    "    if len(query) == 1:\n",
    "        mode = 1 - mode\n",
    "    else:\n",
    "        if mode == 0:\n",
    "            if query[1] == \"1\":\n",
    "                pres.append(query[2])\n",
    "            else:\n",
    "                posts.append(query[2])\n",
    "        else:\n",
    "            if query[1] == \"1\":\n",
    "                posts.append(query[2])\n",
    "            else:\n",
    "                pres.append(query[2])\n",
    "s = \"\".join(pres[::-1]) + s + \"\".join(posts)\n",
    "if mode == 1:\n",
    "    s = s[::-1]\n",
    "print(s)"
   ]
  },
  {
   "cell_type": "code",
   "execution_count": 39,
   "metadata": {
    "ExecuteTime": {
     "end_time": "2020-03-15T06:44:46.594654Z",
     "start_time": "2020-03-15T06:44:46.590224Z"
    }
   },
   "outputs": [],
   "source": [
    "## 文字列sを毎回更新しているとTLE"
   ]
  },
  {
   "cell_type": "code",
   "execution_count": null,
   "metadata": {},
   "outputs": [],
   "source": []
  }
 ],
 "metadata": {
  "hide_input": false,
  "kernelspec": {
   "display_name": "Python 3",
   "language": "python",
   "name": "python3"
  },
  "language_info": {
   "codemirror_mode": {
    "name": "ipython",
    "version": 3
   },
   "file_extension": ".py",
   "mimetype": "text/x-python",
   "name": "python",
   "nbconvert_exporter": "python",
   "pygments_lexer": "ipython3",
   "version": "3.7.3"
  },
  "toc": {
   "base_numbering": 1,
   "nav_menu": {},
   "number_sections": true,
   "sideBar": true,
   "skip_h1_title": false,
   "title_cell": "Table of Contents",
   "title_sidebar": "Contents",
   "toc_cell": false,
   "toc_position": {},
   "toc_section_display": true,
   "toc_window_display": false
  }
 },
 "nbformat": 4,
 "nbformat_minor": 2
}
