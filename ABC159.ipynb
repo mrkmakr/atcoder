{
 "cells": [
  {
   "cell_type": "code",
   "execution_count": 1,
   "metadata": {
    "ExecuteTime": {
     "end_time": "2020-03-22T11:57:09.551572Z",
     "start_time": "2020-03-22T11:57:09.510402Z"
    }
   },
   "outputs": [
    {
     "data": {
      "application/vnd.jupyter.widget-view+json": {
       "model_id": "",
       "version_major": 2,
       "version_minor": 0
      },
      "text/plain": [
       "Textarea(value='')"
      ]
     },
     "metadata": {},
     "output_type": "display_data"
    }
   ],
   "source": [
    "from ipywidgets import Textarea\n",
    "import io\n",
    "\n",
    "if 'input' in globals():\n",
    "    del input\n",
    "\n",
    "class custom_input():\n",
    "    def __init__(self):\n",
    "        self.__sio = io.StringIO('')\n",
    "        self.shell = get_ipython()\n",
    "        if self.shell.events.callbacks['pre_run_cell'] != []:\n",
    "            self.shell.events.callbacks['pre_run_cell'] = []\n",
    "        self.shell.events.register('pre_run_cell', self.pre_run_cell)\n",
    "\n",
    "    def __call__(self):\n",
    "        return self.__sio.readline().strip()\n",
    "\n",
    "    def pre_run_cell(self, info):\n",
    "        text = self.shell.user_ns.get('text_area', None).value\n",
    "        self.__sio = io.StringIO(text)\n",
    "input = custom_input()\n",
    "\n",
    "text_area = Textarea()\n",
    "display(text_area)"
   ]
  },
  {
   "cell_type": "markdown",
   "metadata": {},
   "source": [
    "# A"
   ]
  },
  {
   "cell_type": "code",
   "execution_count": 5,
   "metadata": {
    "ExecuteTime": {
     "end_time": "2020-03-22T12:01:12.963667Z",
     "start_time": "2020-03-22T12:01:12.956850Z"
    }
   },
   "outputs": [
    {
     "name": "stdout",
     "output_type": "stream",
     "text": [
      "3\n"
     ]
    }
   ],
   "source": [
    "n, m = list(map(int, input().split()))\n",
    "ans = n * (n - 1) // 2 + m * (m - 1) // 2\n",
    "print(ans)"
   ]
  },
  {
   "cell_type": "code",
   "execution_count": null,
   "metadata": {},
   "outputs": [],
   "source": []
  },
  {
   "cell_type": "markdown",
   "metadata": {},
   "source": [
    "# B"
   ]
  },
  {
   "cell_type": "code",
   "execution_count": 25,
   "metadata": {
    "ExecuteTime": {
     "end_time": "2020-03-22T12:04:39.075866Z",
     "start_time": "2020-03-22T12:04:39.066208Z"
    }
   },
   "outputs": [
    {
     "name": "stdout",
     "output_type": "stream",
     "text": [
      "No\n"
     ]
    }
   ],
   "source": [
    "s = input()\n",
    "n = len(s) \n",
    "ans = \"No\"\n",
    "if s[:n//2] == s[:n//2][::-1]:\n",
    "    if s[-n//2 + 1:] == s[-n//2 + 1:][::-1]:\n",
    "        if s == s[::-1]:\n",
    "            ans = \"Yes\"\n",
    "print(ans)"
   ]
  },
  {
   "cell_type": "code",
   "execution_count": null,
   "metadata": {},
   "outputs": [],
   "source": []
  },
  {
   "cell_type": "markdown",
   "metadata": {},
   "source": [
    "# C"
   ]
  },
  {
   "cell_type": "code",
   "execution_count": 30,
   "metadata": {
    "ExecuteTime": {
     "end_time": "2020-03-22T12:05:41.448258Z",
     "start_time": "2020-03-22T12:05:41.437305Z"
    }
   },
   "outputs": [
    {
     "name": "stdout",
     "output_type": "stream",
     "text": [
      "36926037.0\n"
     ]
    }
   ],
   "source": [
    "L = int(input())\n",
    "print((L/3) ** 3)"
   ]
  },
  {
   "cell_type": "markdown",
   "metadata": {},
   "source": [
    "# D"
   ]
  },
  {
   "cell_type": "code",
   "execution_count": 21,
   "metadata": {
    "ExecuteTime": {
     "end_time": "2020-03-22T12:53:38.163186Z",
     "start_time": "2020-03-22T12:53:38.152593Z"
    }
   },
   "outputs": [
    {
     "name": "stdout",
     "output_type": "stream",
     "text": [
      "0\n",
      "0\n",
      "0\n",
      "0\n"
     ]
    }
   ],
   "source": [
    "n = int(input())\n",
    "a = list(map(int, input().split()))\n",
    "\n",
    "from collections import Counter\n",
    "\n",
    "c = Counter(a)\n",
    "\n",
    "def comb(x):\n",
    "    return x * (x - 1) // 2\n",
    "\n",
    "base = 0\n",
    "for aa in c.keys():\n",
    "    x = c[aa]\n",
    "    base += comb(x)\n",
    "\n",
    "for aa in a:\n",
    "    ans = base - comb(c[aa]) + comb(c[aa] - 1)\n",
    "    print(ans)"
   ]
  },
  {
   "cell_type": "code",
   "execution_count": null,
   "metadata": {},
   "outputs": [],
   "source": []
  },
  {
   "cell_type": "markdown",
   "metadata": {},
   "source": [
    "# E"
   ]
  },
  {
   "cell_type": "code",
   "execution_count": 118,
   "metadata": {
    "ExecuteTime": {
     "end_time": "2020-03-22T13:31:16.253850Z",
     "start_time": "2020-03-22T13:31:16.223727Z"
    }
   },
   "outputs": [
    {
     "name": "stdout",
     "output_type": "stream",
     "text": [
      "2\n"
     ]
    }
   ],
   "source": [
    "import numpy as np\n",
    "h, w, k = list(map(int, input().split()))\n",
    "ss = []\n",
    "for _ in range(h):\n",
    "    s = list(map(int, list(input())))\n",
    "    ss.append(s)\n",
    "\n",
    "from itertools import product\n",
    "\n",
    "mi = 1e9\n",
    "ss = np.array(ss)\n",
    "sss = np.cumsum(ss, axis = 1)\n",
    "for binary in product([0, 1], repeat=h - 1):\n",
    "    binary  = [0] + list(binary)\n",
    "    \n",
    "    ssss = [0]\n",
    "    for j in range(h):\n",
    "        if binary[j] == 1:\n",
    "            ssss.append(sss[j])\n",
    "        else:\n",
    "            ssss[-1] = sss[j] + ssss[-1]\n",
    "        \n",
    "    ssss = np.array(ssss)\n",
    "    if np.max(np.diff(ssss, axis = 1)) > k:\n",
    "        continue\n",
    "    \n",
    "    count = 0\n",
    "    for i in range(w):\n",
    "        if max(ssss[:, i]) > k:\n",
    "            ssss -= ssss[:, i - 1][:, None]\n",
    "            count += 1\n",
    "    count += sum(binary)\n",
    "#     print(binary, count)\n",
    "#     aaaaaa\n",
    "    if count < mi:\n",
    "        mi = count\n",
    "print(mi)\n"
   ]
  },
  {
   "cell_type": "code",
   "execution_count": null,
   "metadata": {},
   "outputs": [],
   "source": []
  }
 ],
 "metadata": {
  "hide_input": false,
  "kernelspec": {
   "display_name": "Python 3",
   "language": "python",
   "name": "python3"
  },
  "language_info": {
   "codemirror_mode": {
    "name": "ipython",
    "version": 3
   },
   "file_extension": ".py",
   "mimetype": "text/x-python",
   "name": "python",
   "nbconvert_exporter": "python",
   "pygments_lexer": "ipython3",
   "version": "3.7.3"
  },
  "toc": {
   "base_numbering": 1,
   "nav_menu": {},
   "number_sections": true,
   "sideBar": true,
   "skip_h1_title": false,
   "title_cell": "Table of Contents",
   "title_sidebar": "Contents",
   "toc_cell": false,
   "toc_position": {},
   "toc_section_display": true,
   "toc_window_display": false
  }
 },
 "nbformat": 4,
 "nbformat_minor": 2
}
