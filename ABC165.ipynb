{
 "cells": [
  {
   "cell_type": "code",
   "execution_count": 1,
   "metadata": {
    "ExecuteTime": {
     "end_time": "2020-05-02T12:02:38.873625Z",
     "start_time": "2020-05-02T12:02:38.831290Z"
    }
   },
   "outputs": [
    {
     "data": {
      "application/vnd.jupyter.widget-view+json": {
       "model_id": "8d02450c53704494acecd818a823ac8d",
       "version_major": 2,
       "version_minor": 0
      },
      "text/plain": [
       "Textarea(value='')"
      ]
     },
     "metadata": {},
     "output_type": "display_data"
    }
   ],
   "source": [
    "from ipywidgets import Textarea\n",
    "import io\n",
    "\n",
    "if 'input' in globals():\n",
    "    del input\n",
    "\n",
    "class custom_input():\n",
    "    def __init__(self):\n",
    "        self.__sio = io.StringIO('')\n",
    "        self.shell = get_ipython()\n",
    "        if self.shell.events.callbacks['pre_run_cell'] != []:\n",
    "            self.shell.events.callbacks['pre_run_cell'] = []\n",
    "        self.shell.events.register('pre_run_cell', self.pre_run_cell)\n",
    "\n",
    "    def __call__(self):\n",
    "        return self.__sio.readline().strip()\n",
    "\n",
    "    def pre_run_cell(self, info):\n",
    "        text = self.shell.user_ns.get('text_area', None).value\n",
    "        self.__sio = io.StringIO(text)\n",
    "input = custom_input()\n",
    "\n",
    "text_area = Textarea()\n",
    "display(text_area)"
   ]
  },
  {
   "cell_type": "raw",
   "metadata": {},
   "source": [
    "a = list(map(int, input().split()))\n",
    "a = int(input())"
   ]
  },
  {
   "cell_type": "code",
   "execution_count": null,
   "metadata": {},
   "outputs": [],
   "source": []
  },
  {
   "cell_type": "markdown",
   "metadata": {
    "ExecuteTime": {
     "end_time": "2020-05-03T16:22:01.724583Z",
     "start_time": "2020-05-03T16:22:01.719138Z"
    }
   },
   "source": [
    "# D"
   ]
  },
  {
   "cell_type": "code",
   "execution_count": 167,
   "metadata": {
    "ExecuteTime": {
     "end_time": "2020-05-02T13:19:29.621510Z",
     "start_time": "2020-05-02T13:19:29.583451Z"
    }
   },
   "outputs": [
    {
     "name": "stdout",
     "output_type": "stream",
     "text": [
      "357500\n"
     ]
    }
   ],
   "source": [
    "n, m, q =  list(map(int, input().split()))\n",
    "aa = []\n",
    "bb =[]\n",
    "cc = []\n",
    "dd =[]\n",
    "for i in range(q):\n",
    "    a,b,c,d =  list(map(int, input().split()))\n",
    "    aa.append(a)\n",
    "    bb.append(b)\n",
    "    cc.append(c)\n",
    "    dd.append(d)\n",
    "\n",
    "def ev(A):\n",
    "    s = 0\n",
    "    for i in range(q):\n",
    "        if A[bb[i] - 1] - A[aa[i] - 1] == cc[i]:\n",
    "            s += dd[i]\n",
    "    return s\n",
    "\n",
    "A = [0] * n\n",
    "s = ev(A)\n",
    "for i0 in range(m):\n",
    "    for i1 in range(i0, m):\n",
    "        for i2 in range(i1, m):\n",
    "            for i3 in range(i2, m):\n",
    "                for i4 in range(i3, m):\n",
    "                    for i5 in range(i4, m):\n",
    "                        for i6 in range(i5, m):\n",
    "                            for i7 in range(i6, m):\n",
    "                                for i8 in range(i7, m):\n",
    "                                    for i9 in range(i8, m):\n",
    "                                        A = [i0, i1, i2, i3, i4, i5, i6, i7, i8, i9][:n]\n",
    "                                        s = max([s, ev(A)])\n",
    "print(s)"
   ]
  },
  {
   "cell_type": "code",
   "execution_count": null,
   "metadata": {},
   "outputs": [],
   "source": []
  },
  {
   "cell_type": "code",
   "execution_count": null,
   "metadata": {},
   "outputs": [],
   "source": []
  },
  {
   "cell_type": "markdown",
   "metadata": {
    "ExecuteTime": {
     "end_time": "2020-05-03T16:22:03.941078Z",
     "start_time": "2020-05-03T16:22:03.936205Z"
    }
   },
   "source": [
    "# C"
   ]
  },
  {
   "cell_type": "code",
   "execution_count": 43,
   "metadata": {
    "ExecuteTime": {
     "end_time": "2020-05-02T12:23:34.339702Z",
     "start_time": "2020-05-02T12:23:34.329636Z"
    }
   },
   "outputs": [
    {
     "name": "stdout",
     "output_type": "stream",
     "text": [
      "9\n"
     ]
    }
   ],
   "source": [
    "a, b, n =  list(map(int, input().split()))\n",
    "i = min(b - 1, n)\n",
    "print(int(a * i / b) - a * int(i / b))"
   ]
  },
  {
   "cell_type": "code",
   "execution_count": null,
   "metadata": {},
   "outputs": [],
   "source": []
  },
  {
   "cell_type": "code",
   "execution_count": null,
   "metadata": {},
   "outputs": [],
   "source": []
  },
  {
   "cell_type": "markdown",
   "metadata": {},
   "source": [
    "# B"
   ]
  },
  {
   "cell_type": "code",
   "execution_count": 13,
   "metadata": {
    "ExecuteTime": {
     "end_time": "2020-05-02T12:13:19.546110Z",
     "start_time": "2020-05-02T12:13:19.535675Z"
    }
   },
   "outputs": [
    {
     "name": "stdout",
     "output_type": "stream",
     "text": [
      "1706\n"
     ]
    }
   ],
   "source": [
    "x = int(input())\n",
    "i = 0\n",
    "m = 100\n",
    "while True:\n",
    "    i += 1\n",
    "    m *= 1.01\n",
    "    m = int(m)\n",
    "    if m >= x:\n",
    "        break\n",
    "print(i)"
   ]
  },
  {
   "cell_type": "code",
   "execution_count": null,
   "metadata": {},
   "outputs": [],
   "source": []
  },
  {
   "cell_type": "code",
   "execution_count": null,
   "metadata": {},
   "outputs": [],
   "source": []
  },
  {
   "cell_type": "markdown",
   "metadata": {},
   "source": [
    "# A"
   ]
  },
  {
   "cell_type": "code",
   "execution_count": 8,
   "metadata": {
    "ExecuteTime": {
     "end_time": "2020-05-02T12:11:24.012671Z",
     "start_time": "2020-05-02T12:11:23.998807Z"
    }
   },
   "outputs": [
    {
     "name": "stdout",
     "output_type": "stream",
     "text": [
      "Yes\n"
     ]
    }
   ],
   "source": [
    "k = int(input())\n",
    "a, b =  list(map(int, input().split()))\n",
    "\n",
    "ans = \"NG\"\n",
    "for i in range(a, b + 1):\n",
    "    if i%k == 0:\n",
    "        ans = \"OK\"\n",
    "print(ans)"
   ]
  },
  {
   "cell_type": "code",
   "execution_count": null,
   "metadata": {},
   "outputs": [],
   "source": []
  },
  {
   "cell_type": "code",
   "execution_count": null,
   "metadata": {},
   "outputs": [],
   "source": []
  }
 ],
 "metadata": {
  "hide_input": false,
  "kernelspec": {
   "display_name": "Python 3",
   "language": "python",
   "name": "python3"
  },
  "language_info": {
   "codemirror_mode": {
    "name": "ipython",
    "version": 3
   },
   "file_extension": ".py",
   "mimetype": "text/x-python",
   "name": "python",
   "nbconvert_exporter": "python",
   "pygments_lexer": "ipython3",
   "version": "3.7.3"
  },
  "toc": {
   "base_numbering": 1,
   "nav_menu": {},
   "number_sections": true,
   "sideBar": true,
   "skip_h1_title": false,
   "title_cell": "Table of Contents",
   "title_sidebar": "Contents",
   "toc_cell": false,
   "toc_position": {},
   "toc_section_display": true,
   "toc_window_display": false
  }
 },
 "nbformat": 4,
 "nbformat_minor": 2
}
